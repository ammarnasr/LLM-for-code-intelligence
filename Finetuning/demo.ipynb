{
 "cells": [
  {
   "cell_type": "code",
   "execution_count": 1,
   "metadata": {},
   "outputs": [
    {
     "name": "stdout",
     "output_type": "stream",
     "text": [
      "Loading data from:  ./data_pkl/java/bigcode-the-stack-dedup-train.pkl\n",
      "Done loading data from:  ./data_pkl/java/bigcode-the-stack-dedup-train.pkl\n",
      "Loading data from:  ./data_pkl/java/bigcode-the-stack-dedup-test.pkl\n",
      "Done loading data from:  ./data_pkl/java/bigcode-the-stack-dedup-test.pkl\n"
     ]
    }
   ],
   "source": [
    "import pickle\n",
    "\n",
    "def load_pkl_data(filename = './data/java/bigcode-the-stack-dedup-train.pkl'):\n",
    "    print(\"Loading data from: \", filename)\n",
    "    with open(filename, \"rb\") as f:\n",
    "        ds = pickle.load(f)\n",
    "    print(\"Done loading data from: \", filename)\n",
    "    return ds\n",
    "\n",
    "\n",
    "trainfile = './data_pkl/java/bigcode-the-stack-dedup-train.pkl'\n",
    "testfile = './data_pkl/java/bigcode-the-stack-dedup-test.pkl'\n",
    "\n",
    "\n",
    "train_ds = load_pkl_data(trainfile)\n",
    "test_ds = load_pkl_data(testfile)"
   ]
  },
  {
   "cell_type": "code",
   "execution_count": null,
   "metadata": {},
   "outputs": [],
   "source": []
  }
 ],
 "metadata": {
  "kernelspec": {
   "display_name": "amazon",
   "language": "python",
   "name": "python3"
  },
  "language_info": {
   "codemirror_mode": {
    "name": "ipython",
    "version": 3
   },
   "file_extension": ".py",
   "mimetype": "text/x-python",
   "name": "python",
   "nbconvert_exporter": "python",
   "pygments_lexer": "ipython3",
   "version": "3.9.16"
  },
  "orig_nbformat": 4
 },
 "nbformat": 4,
 "nbformat_minor": 2
}
