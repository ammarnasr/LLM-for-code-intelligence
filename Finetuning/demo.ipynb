{
 "cells": [
  {
   "cell_type": "code",
   "execution_count": null,
   "metadata": {},
   "outputs": [],
   "source": [
    "from datasets import load_dataset\n",
    "\n",
    "ds = load_dataset(\"bigcode/the-stack-dedup\",data_dir=\"data/java\" ,streaming=True, split=\"train\")\n",
    "for sample in iter(ds):\n",
    "    print(sample[\"content\"])\n",
    "    break\n"
   ]
  },
  {
   "cell_type": "code",
   "execution_count": null,
   "metadata": {},
   "outputs": [],
   "source": [
    "#Find folders in current directory that start with \"checkpoint-\"\n",
    "import os\n",
    "import glob\n",
    "\n",
    "\n",
    "\n",
    "os.chdir(\"C:/Users/rober/OneDrive/Documents/GitHub/CodeBERT/Finetuning\")\n",
    "\n",
    "for file in glob.glob(\"checkpoint-*\"):\n",
    "    print(file)\n",
    "\n",
    "#delete all folders in current directory that start with \"checkpoint-\" except for ones that are devideable by 50\n",
    "import os\n",
    "import glob\n",
    "import shutil\n",
    "\n",
    "os.chdir(\"C:/Users/rober/OneDrive/Documents/GitHub/CodeBERT/Finetuning\")\n",
    "\n",
    "for file in glob.glob(\"checkpoint-*\"):\n",
    "    if file != \"checkpoint-1000\":\n",
    "        shutil.rmtree(file)"
   ]
  }
 ],
 "metadata": {
  "kernelspec": {
   "display_name": "amazon",
   "language": "python",
   "name": "python3"
  },
  "language_info": {
   "codemirror_mode": {
    "name": "ipython",
    "version": 3
   },
   "file_extension": ".py",
   "mimetype": "text/x-python",
   "name": "python",
   "nbconvert_exporter": "python",
   "pygments_lexer": "ipython3",
   "version": "3.9.16"
  },
  "orig_nbformat": 4
 },
 "nbformat": 4,
 "nbformat_minor": 2
}
