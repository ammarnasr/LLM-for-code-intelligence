{
 "cells": [
  {
   "cell_type": "code",
   "execution_count": 1,
   "metadata": {},
   "outputs": [],
   "source": [
    "from Generation import code_generation"
   ]
  },
  {
   "cell_type": "code",
   "execution_count": 2,
   "metadata": {},
   "outputs": [
    {
     "name": "stdout",
     "output_type": "stream",
     "text": [
      "{'prompts_file_name': 'Generation/humaneval_py.jsonl', 'model_name': 'Salesforce/codegen-350M-mono', 'tokenizer_name': 'Salesforce/codegen-350M-mono', 'generation_strategy': 'ammarnasr/pass_at_100_gen_config', 'output_file_name': 'Generation/runs/codegen_350M_mono_humaneval_py.jsonl', 'wandb_project_name': 'codegen_350M_mono_humaneval_py', 'batch_size': 5}\n",
      "{'prompts_file_name': 'Generation/humaneval_java.jsonl', 'model_name': 'Salesforce/codegen-350M-mono', 'tokenizer_name': 'Salesforce/codegen-350M-mono', 'generation_strategy': 'ammarnasr/pass_at_100_gen_config', 'output_file_name': 'Generation/runs/codegen_350M_mono_humaneval_java.jsonl', 'wandb_project_name': 'codegen_350M_mono_humaneval_java', 'batch_size': 5}\n"
     ]
    }
   ],
   "source": [
    "prompt_file_names = [\n",
    "    \"Generation/humaneval_py.jsonl\",\n",
    "    \"Generation/humaneval_java.jsonl\",\n",
    "]\n",
    "model_name = \"Salesforce/codegen-350M-mono\"\n",
    "tokenizer_name = \"Salesforce/codegen-350M-mono\"\n",
    "generation_strategy = \"ammarnasr/pass_at_100_gen_config\"\n",
    "batch_size = 5\n",
    "for prompt_file_name in prompt_file_names:\n",
    "    model_name_short = model_name.split(\"/\")[-1]\n",
    "    model_name_short = model_name_short.replace(\"-\", \"_\")\n",
    "    prompt_file_name_short = prompt_file_name.split(\"/\")[-1]\n",
    "    prompt_file_name_short = prompt_file_name_short.split(\".\")[0]\n",
    "    output_file_name = f\"Generation/runs/{model_name_short}_{prompt_file_name_short}.jsonl\"\n",
    "\n",
    "    wandb_project_name = f\"{model_name_short}_{prompt_file_name_short}\"\n",
    "\n",
    "    args_dict = {\n",
    "        \"prompts_file_name\": prompt_file_name,\n",
    "        \"model_name\": model_name,\n",
    "        \"tokenizer_name\": tokenizer_name,\n",
    "        \"generation_strategy\": generation_strategy,\n",
    "        \"output_file_name\": output_file_name,\n",
    "        \"wandb_project_name\": wandb_project_name,\n",
    "        \"batch_size\": batch_size,\n",
    "    }\n",
    "    print(args_dict)\n",
    "\n",
    "    code_generation.main(args_dict)\n",
    "\n"
   ]
  },
  {
   "cell_type": "code",
   "execution_count": null,
   "metadata": {},
   "outputs": [],
   "source": [
    "#https://colab.research.google.com/drive/1znsrj7OJOyXCXFW6ZP7PsjPBbYGRbf6B?usp=sharing"
   ]
  }
 ],
 "metadata": {
  "kernelspec": {
   "display_name": "amazon",
   "language": "python",
   "name": "python3"
  },
  "language_info": {
   "codemirror_mode": {
    "name": "ipython",
    "version": 3
   },
   "file_extension": ".py",
   "mimetype": "text/x-python",
   "name": "python",
   "nbconvert_exporter": "python",
   "pygments_lexer": "ipython3",
   "version": "3.9.16"
  },
  "orig_nbformat": 4
 },
 "nbformat": 4,
 "nbformat_minor": 2
}
