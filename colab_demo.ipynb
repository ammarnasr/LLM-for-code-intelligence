{
 "cells": [
  {
   "cell_type": "markdown",
   "metadata": {},
   "source": [
    "### Full"
   ]
  },
  {
   "cell_type": "code",
   "execution_count": null,
   "metadata": {},
   "outputs": [],
   "source": [
    "from Generation import code_generation\n",
    "prompt_file_names = [\n",
    "    \"Generation/humaneval_java.jsonl\",\n",
    "]\n",
    "model_name = \"ammarnasr/codegne-finetuned-the-stack-java-v3-checkpoint-1000\"\n",
    "tokenizer_name = \"Salesforce/codegen-350M-mono\"\n",
    "generation_strategy = \"ammarnasr/pass_at_100_gen_config\"\n",
    "batch_size = 5\n",
    "for prompt_file_name in prompt_file_names:\n",
    "    model_name_short = model_name.split(\"/\")[-1]\n",
    "    model_name_short = model_name_short.replace(\"-\", \"_\")\n",
    "    prompt_file_name_short = prompt_file_name.split(\"/\")[-1]\n",
    "    prompt_file_name_short = prompt_file_name_short.split(\".\")[0]\n",
    "    output_file_name = f\"Generation/runs/{model_name_short}_{prompt_file_name_short}.jsonl\"\n",
    "\n",
    "    wandb_project_name = f\"{model_name_short}_{prompt_file_name_short}\"\n",
    "\n",
    "    args_dict = {\n",
    "        \"prompts_file_name\": prompt_file_name,\n",
    "        \"model_name\": model_name,\n",
    "        \"tokenizer_name\": tokenizer_name,\n",
    "        \"generation_strategy\": generation_strategy,\n",
    "        \"output_file_name\": output_file_name,\n",
    "        \"wandb_project_name\": wandb_project_name,\n",
    "        \"batch_size\": batch_size,\n",
    "    }\n",
    "    print(args_dict)\n",
    "\n",
    "    code_generation.main(args_dict)\n",
    "\n"
   ]
  },
  {
   "cell_type": "markdown",
   "metadata": {},
   "source": [
    "### LoRa"
   ]
  },
  {
   "cell_type": "code",
   "execution_count": 1,
   "metadata": {},
   "outputs": [
    {
     "name": "stdout",
     "output_type": "stream",
     "text": [
      "{'prompts_file_name': 'Generation/humaneval_java.jsonl', 'model_name': 'ammarnasr/codegne-finetuned-LoRa-the-stack-java-v5-checkpoint-1000', 'tokenizer_name': 'Salesforce/codegen-350M-mono', 'generation_strategy': 'ammarnasr/pass_at_100_gen_config', 'output_file_name': 'Generation/runs/codegne_finetuned_LoRa_the_stack_java_v5_checkpoint_1000_humaneval_java.jsonl', 'wandb_project_name': 'codegne_finetuned_LoRa_the_stack_java_v5_checkpoint_1000_humaneval_java', 'batch_size': 10}\n",
      "Starting the code generation with the following arguments:\n",
      "{'prompts_file_name': 'Generation/humaneval_java.jsonl', 'model_name': 'ammarnasr/codegne-finetuned-LoRa-the-stack-java-v5-checkpoint-1000', 'tokenizer_name': 'Salesforce/codegen-350M-mono', 'generation_strategy': 'ammarnasr/pass_at_100_gen_config', 'output_file_name': 'Generation/runs/codegne_finetuned_LoRa_the_stack_java_v5_checkpoint_1000_humaneval_java.jsonl', 'wandb_project_name': 'codegne_finetuned_LoRa_the_stack_java_v5_checkpoint_1000_humaneval_java', 'batch_size': 10}\n"
     ]
    },
    {
     "name": "stderr",
     "output_type": "stream",
     "text": [
      "Failed to detect the name of this notebook, you can set it manually with the WANDB_NOTEBOOK_NAME environment variable to enable code saving.\n",
      "\u001b[34m\u001b[1mwandb\u001b[0m: Currently logged in as: \u001b[33mammarnasr\u001b[0m. Use \u001b[1m`wandb login --relogin`\u001b[0m to force relogin\n"
     ]
    },
    {
     "data": {
      "text/html": [
       "wandb version 0.15.5 is available!  To upgrade, please run:\n",
       " $ pip install wandb --upgrade"
      ],
      "text/plain": [
       "<IPython.core.display.HTML object>"
      ]
     },
     "metadata": {},
     "output_type": "display_data"
    },
    {
     "data": {
      "text/html": [
       "Tracking run with wandb version 0.15.3"
      ],
      "text/plain": [
       "<IPython.core.display.HTML object>"
      ]
     },
     "metadata": {},
     "output_type": "display_data"
    },
    {
     "data": {
      "text/html": [
       "Run data is saved locally in <code>c:\\Users\\Edin\\OneDrive - University of Edinburgh\\Study\\Sem3\\Project\\LLM-for-code-intelligence\\wandb\\run-20230708_192638-3zehy9nj</code>"
      ],
      "text/plain": [
       "<IPython.core.display.HTML object>"
      ]
     },
     "metadata": {},
     "output_type": "display_data"
    },
    {
     "data": {
      "text/html": [
       "Syncing run <strong><a href='https://wandb.ai/ammarnasr/codegne_finetuned_LoRa_the_stack_java_v5_checkpoint_1000_humaneval_java/runs/3zehy9nj' target=\"_blank\">olive-universe-5</a></strong> to <a href='https://wandb.ai/ammarnasr/codegne_finetuned_LoRa_the_stack_java_v5_checkpoint_1000_humaneval_java' target=\"_blank\">Weights & Biases</a> (<a href='https://wandb.me/run' target=\"_blank\">docs</a>)<br/>"
      ],
      "text/plain": [
       "<IPython.core.display.HTML object>"
      ]
     },
     "metadata": {},
     "output_type": "display_data"
    },
    {
     "data": {
      "text/html": [
       " View project at <a href='https://wandb.ai/ammarnasr/codegne_finetuned_LoRa_the_stack_java_v5_checkpoint_1000_humaneval_java' target=\"_blank\">https://wandb.ai/ammarnasr/codegne_finetuned_LoRa_the_stack_java_v5_checkpoint_1000_humaneval_java</a>"
      ],
      "text/plain": [
       "<IPython.core.display.HTML object>"
      ]
     },
     "metadata": {},
     "output_type": "display_data"
    },
    {
     "data": {
      "text/html": [
       " View run at <a href='https://wandb.ai/ammarnasr/codegne_finetuned_LoRa_the_stack_java_v5_checkpoint_1000_humaneval_java/runs/3zehy9nj' target=\"_blank\">https://wandb.ai/ammarnasr/codegne_finetuned_LoRa_the_stack_java_v5_checkpoint_1000_humaneval_java/runs/3zehy9nj</a>"
      ],
      "text/plain": [
       "<IPython.core.display.HTML object>"
      ]
     },
     "metadata": {},
     "output_type": "display_data"
    },
    {
     "name": "stdout",
     "output_type": "stream",
     "text": [
      "Loading the model from checkpoint:  ammarnasr/codegne-finetuned-LoRa-the-stack-java-v5-checkpoint-1000 With peft ...\n"
     ]
    },
    {
     "data": {
      "application/vnd.jupyter.widget-view+json": {
       "model_id": "f1ee7255e08646c3a758636540473fda",
       "version_major": 2,
       "version_minor": 0
      },
      "text/plain": [
       "Downloading (…)/adapter_config.json:   0%|          | 0.00/396 [00:00<?, ?B/s]"
      ]
     },
     "metadata": {},
     "output_type": "display_data"
    },
    {
     "name": "stderr",
     "output_type": "stream",
     "text": [
      "c:\\Users\\Edin\\anaconda3\\envs\\amazon\\lib\\site-packages\\huggingface_hub\\file_download.py:133: UserWarning: `huggingface_hub` cache-system uses symlinks by default to efficiently store duplicated files but your machine does not support them in C:\\Users\\Edin\\.cache\\huggingface\\hub. Caching files will still work but in a degraded version that might require more space on your disk. This warning can be disabled by setting the `HF_HUB_DISABLE_SYMLINKS_WARNING` environment variable. For more details, see https://huggingface.co/docs/huggingface_hub/how-to-cache#limitations.\n",
      "To support symlinks on Windows, you either need to activate Developer Mode or to run Python as an administrator. In order to see activate developer mode, see this article: https://docs.microsoft.com/en-us/windows/apps/get-started/enable-your-device-for-development\n",
      "  warnings.warn(message)\n"
     ]
    },
    {
     "data": {
      "application/vnd.jupyter.widget-view+json": {
       "model_id": "eda3ef7b6ed34fbe9094cb053cd5f1aa",
       "version_major": 2,
       "version_minor": 0
      },
      "text/plain": [
       "Downloading adapter_model.bin:   0%|          | 0.00/98.0M [00:00<?, ?B/s]"
      ]
     },
     "metadata": {},
     "output_type": "display_data"
    },
    {
     "name": "stdout",
     "output_type": "stream",
     "text": [
      "Done loading the model from checkpoint:  ammarnasr/codegne-finetuned-LoRa-the-stack-java-v5-checkpoint-1000 With peft ...\n",
      "trainable params: 175104 || all params: 381026304 || trainable%: 0.04595588235294118\n"
     ]
    },
    {
     "data": {
      "application/vnd.jupyter.widget-view+json": {
       "model_id": "599bdd2dcbd0404aaeef485ad99d87d8",
       "version_major": 2,
       "version_minor": 0
      },
      "text/plain": [
       "  0%|          | 0/158 [00:00<?, ?prompt/s]"
      ]
     },
     "metadata": {},
     "output_type": "display_data"
    },
    {
     "name": "stdout",
     "output_type": "stream",
     "text": [
      "Prompt HumanEval_24_largest_divisor already processed. Skipping...\n",
      "Prompt HumanEval_47_median already processed. Skipping...\n",
      "Prompt HumanEval_160_do_algebra already processed. Skipping...\n",
      "Prompt HumanEval_35_max_element already processed. Skipping...\n",
      "Prompt HumanEval_135_can_arrange already processed. Skipping...\n",
      "Prompt HumanEval_41_car_race_collision already processed. Skipping...\n",
      "Prompt HumanEval_134_check_if_last_char_is_a_letter already processed. Skipping...\n",
      "Prompt HumanEval_31_is_prime already processed. Skipping...\n",
      "Prompt HumanEval_104_unique_digits already processed. Skipping...\n",
      "Prompt HumanEval_11_string_xor already processed. Skipping...\n",
      "Prompt HumanEval_60_sum_to_n already processed. Skipping...\n",
      "Prompt HumanEval_151_double_the_difference already processed. Skipping...\n",
      "Prompt HumanEval_23_strlen already processed. Skipping...\n",
      "Prompt HumanEval_91_is_bored already processed. Skipping...\n",
      "Prompt HumanEval_64_vowels_count already processed. Skipping...\n",
      "Prompt HumanEval_55_fib already processed. Skipping...\n",
      "Prompt HumanEval_144_simplify already processed. Skipping...\n",
      "Prompt HumanEval_98_count_upper already processed. Skipping...\n",
      "Prompt HumanEval_115_max_fill already processed. Skipping...\n",
      "Prompt HumanEval_120_maximum already processed. Skipping...\n",
      "Prompt HumanEval_93_encode already processed. Skipping...\n",
      "Prompt HumanEval_51_remove_vowels already processed. Skipping...\n",
      "Prompt HumanEval_30_get_positive already processed. Skipping...\n",
      "Prompt HumanEval_15_string_sequence already processed. Skipping...\n",
      "Prompt HumanEval_100_make_a_pile already processed. Skipping...\n",
      "Prompt HumanEval_112_reverse_delete already processed. Skipping...\n",
      "Prompt HumanEval_27_flip_case already processed. Skipping...\n",
      "Prompt HumanEval_161_solve already processed. Skipping...\n",
      "Prompt HumanEval_29_filter_by_prefix already processed. Skipping...\n",
      "Prompt HumanEval_102_choose_num already processed. Skipping...\n",
      "Prompt HumanEval_143_words_in_sentence already processed. Skipping...\n",
      "Prompt HumanEval_5_intersperse already processed. Skipping...\n",
      "Prompt HumanEval_76_is_simple_power already processed. Skipping...\n",
      "Prompt HumanEval_75_is_multiply_prime already processed. Skipping...\n",
      "Prompt HumanEval_157_right_angle_triangle already processed. Skipping...\n",
      "Prompt HumanEval_92_any_int already processed. Skipping...\n",
      "Prompt HumanEval_33_sort_third already processed. Skipping...\n",
      "Prompt HumanEval_53_add already processed. Skipping...\n",
      "Prompt HumanEval_69_search already processed. Skipping...\n",
      "Prompt HumanEval_82_prime_length already processed. Skipping...\n",
      "Prompt HumanEval_58_common already processed. Skipping...\n",
      "Prompt HumanEval_139_special_factorial already processed. Skipping...\n",
      "Prompt HumanEval_110_exchange already processed. Skipping...\n",
      "Prompt HumanEval_122_add_elements already processed. Skipping...\n",
      "Prompt HumanEval_150_x_or_y already processed. Skipping...\n",
      "Prompt HumanEval_45_triangle_area already processed. Skipping...\n",
      "Prompt HumanEval_130_tri already processed. Skipping...\n",
      "Prompt HumanEval_119_match_parens already processed. Skipping...\n",
      "Prompt HumanEval_26_remove_duplicates already processed. Skipping...\n",
      "Prompt HumanEval_13_greatest_common_divisor already processed. Skipping...\n",
      "Prompt HumanEval_48_is_palindrome already processed. Skipping...\n",
      "Prompt HumanEval_62_derivative already processed. Skipping...\n",
      "Prompt HumanEval_67_fruit_distribution already processed. Skipping...\n",
      "Prompt HumanEval_77_iscube already processed. Skipping...\n",
      "Prompt HumanEval_116_sort_array already processed. Skipping...\n",
      "Prompt HumanEval_113_odd_count already processed. Skipping...\n",
      "Prompt HumanEval_61_correct_bracketing already processed. Skipping...\n",
      "Prompt HumanEval_66_digitSum already processed. Skipping...\n",
      "Prompt HumanEval_149_sorted_list_sum already processed. Skipping...\n",
      "Prompt HumanEval_128_prod_signs already processed. Skipping...\n",
      "Prompt HumanEval_42_incr_list already processed. Skipping...\n",
      "Prompt HumanEval_9_rolling_max already processed. Skipping...\n",
      "Prompt HumanEval_1_separate_paren_groups already processed. Skipping...\n",
      "Prompt HumanEval_101_words_string already processed. Skipping...\n",
      "Prompt HumanEval_22_filter_integers already processed. Skipping...\n",
      "Prompt HumanEval_37_sort_even already processed. Skipping...\n",
      "Prompt HumanEval_152_compare already processed. Skipping...\n",
      "Prompt HumanEval_107_even_odd_palindrome already processed. Skipping...\n",
      "Prompt HumanEval_46_fib4 already processed. Skipping...\n",
      "Prompt HumanEval_163_generate_integers already processed. Skipping...\n",
      "Prompt HumanEval_4_mean_absolute_deviation already processed. Skipping...\n",
      "Prompt HumanEval_89_encrypt already processed. Skipping...\n",
      "Prompt HumanEval_123_get_odd_collatz already processed. Skipping...\n",
      "Prompt HumanEval_18_how_many_times already processed. Skipping...\n",
      "Prompt HumanEval_109_move_one_ball already processed. Skipping...\n",
      "Prompt HumanEval_145_order_by_points already processed. Skipping...\n",
      "Prompt HumanEval_25_factorize already processed. Skipping...\n",
      "Prompt HumanEval_52_below_threshold already processed. Skipping...\n",
      "Prompt HumanEval_6_parse_nested_parens already processed. Skipping...\n",
      "Prompt HumanEval_121_solution already processed. Skipping...\n",
      "Prompt HumanEval_147_get_max_triples already processed. Skipping...\n",
      "Prompt HumanEval_148_bf already processed. Skipping...\n",
      "Prompt HumanEval_90_next_smallest already processed. Skipping...\n",
      "Prompt HumanEval_19_sort_numbers already processed. Skipping...\n",
      "Prompt HumanEval_154_cycpattern_check already processed. Skipping...\n",
      "Prompt HumanEval_79_decimal_to_binary already processed. Skipping...\n",
      "Prompt HumanEval_7_filter_by_substring already processed. Skipping...\n",
      "Prompt HumanEval_155_even_odd_count already processed. Skipping...\n",
      "Prompt HumanEval_158_find_max already processed. Skipping...\n",
      "Prompt HumanEval_83_starts_one_ends already processed. Skipping...\n",
      "Prompt HumanEval_136_largest_smallest_integers already processed. Skipping...\n",
      "Prompt HumanEval_68_pluck already processed. Skipping...\n",
      "Prompt HumanEval_108_count_nums already processed. Skipping...\n",
      "Prompt HumanEval_129_minPath already processed. Skipping...\n",
      "Prompt HumanEval_70_strange_sort_list already processed. Skipping...\n",
      "Prompt HumanEval_162_string_to_md5 already processed. Skipping...\n",
      "Prompt HumanEval_118_get_closest_vowel already processed. Skipping...\n",
      "Prompt HumanEval_44_change_base already processed. Skipping...\n",
      "Prompt HumanEval_0_has_close_elements already processed. Skipping...\n",
      "Prompt HumanEval_132_is_nested already processed. Skipping...\n",
      "Prompt HumanEval_28_concatenate already processed. Skipping...\n",
      "Prompt HumanEval_39_prime_fib already processed. Skipping...\n",
      "Prompt HumanEval_20_find_closest_elements already processed. Skipping...\n",
      "Prompt HumanEval_78_hex_key already processed. Skipping...\n",
      "Prompt HumanEval_97_multiply already processed. Skipping...\n",
      "Prompt HumanEval_21_rescale_to_unit already processed. Skipping...\n",
      "Prompt HumanEval_131_digits already processed. Skipping...\n",
      "Prompt HumanEval_153_Strongest_Extension already processed. Skipping...\n",
      "Prompt HumanEval_111_histogram already processed. Skipping...\n",
      "Prompt HumanEval_43_pairs_sum_to_zero already processed. Skipping...\n",
      "Prompt HumanEval_74_total_match already processed. Skipping...\n",
      "Prompt HumanEval_65_circular_shift already processed. Skipping...\n",
      "Prompt HumanEval_57_monotonic already processed. Skipping...\n",
      "Prompt HumanEval_138_is_equal_to_sum_even already processed. Skipping...\n",
      "Prompt HumanEval_17_parse_music already processed. Skipping...\n",
      "Prompt HumanEval_142_sum_squares already processed. Skipping...\n",
      "Prompt HumanEval_40_triples_sum_to_zero already processed. Skipping...\n",
      "Prompt HumanEval_56_correct_bracketing already processed. Skipping...\n",
      "Prompt HumanEval_146_specialFilter already processed. Skipping...\n",
      "Prompt HumanEval_95_check_dict_case already processed. Skipping...\n",
      "Prompt HumanEval_63_fibfib already processed. Skipping...\n",
      "Prompt HumanEval_133_sum_squares already processed. Skipping...\n",
      "Prompt HumanEval_85_add already processed. Skipping...\n",
      "Prompt HumanEval_34_unique already processed. Skipping...\n",
      "Prompt HumanEval_140_fix_spaces already processed. Skipping...\n",
      "Prompt HumanEval_49_modp already processed. Skipping...\n",
      "Prompt HumanEval_124_valid_date already processed. Skipping...\n",
      "Prompt HumanEval_86_anti_shuffle already processed. Skipping...\n",
      "Prompt HumanEval_126_is_sorted already processed. Skipping...\n",
      "Prompt HumanEval_80_is_happy already processed. Skipping...\n",
      "Prompt HumanEval_72_will_it_fly already processed. Skipping...\n",
      "Prompt HumanEval_88_sort_array already processed. Skipping...\n",
      "Prompt HumanEval_96_count_up_to already processed. Skipping...\n",
      "Prompt HumanEval_12_longest already processed. Skipping...\n",
      "Prompt HumanEval_105_by_length already processed. Skipping...\n",
      "Prompt HumanEval_106_f already processed. Skipping...\n",
      "Prompt HumanEval_36_fizz_buzz already processed. Skipping...\n",
      "Prompt HumanEval_2_truncate_number already processed. Skipping...\n",
      "Prompt HumanEval_8_sum_product already processed. Skipping...\n",
      "Prompt HumanEval_87_get_row already processed. Skipping...\n",
      "Prompt HumanEval_159_eat already processed. Skipping...\n",
      "Prompt HumanEval_84_solve already processed. Skipping...\n",
      "Prompt HumanEval_94_skjkasdkd already processed. Skipping...\n",
      "Prompt HumanEval_73_smallest_change already processed. Skipping...\n",
      "Prompt HumanEval_81_numerical_letter_grade already processed. Skipping...\n",
      "Prompt HumanEval_71_triangle_area already processed. Skipping...\n",
      "Prompt HumanEval_54_same_chars already processed. Skipping...\n",
      "Prompt HumanEval_114_minSubArraySum already processed. Skipping...\n",
      "Prompt HumanEval_117_select_words already processed. Skipping...\n",
      "Prompt HumanEval_14_all_prefixes already processed. Skipping...\n",
      "Prompt HumanEval_99_closest_integer already processed. Skipping...\n",
      "Prompt HumanEval_141_file_name_check already processed. Skipping...\n",
      "Prompt HumanEval_127_intersection already processed. Skipping...\n",
      "Prompt HumanEval_59_largest_prime_factor already processed. Skipping...\n",
      "Prompt HumanEval_16_count_distinct_characters already processed. Skipping...\n",
      "Prompt HumanEval_3_below_zero already processed. Skipping...\n",
      "Prompt HumanEval_10_make_palindrome already processed. Skipping...\n",
      "Prompt HumanEval_156_int_to_mini_roman already processed. Skipping...\n",
      "Code generation completed successfully.\n"
     ]
    }
   ],
   "source": [
    "from Generation import code_generation\n",
    "prompt_file_names = [\n",
    "    \"Generation/humaneval_java.jsonl\",\n",
    "]\n",
    "model_name = \"ammarnasr/codegne-finetuned-LoRa-the-stack-java-v5-checkpoint-1000\"\n",
    "tokenizer_name = \"Salesforce/codegen-350M-mono\"\n",
    "generation_strategy = \"ammarnasr/pass_at_100_gen_config\"\n",
    "batch_size = 5\n",
    "for prompt_file_name in prompt_file_names:\n",
    "    model_name_short = model_name.split(\"/\")[-1]\n",
    "    model_name_short = model_name_short.replace(\"-\", \"_\")\n",
    "    prompt_file_name_short = prompt_file_name.split(\"/\")[-1]\n",
    "    prompt_file_name_short = prompt_file_name_short.split(\".\")[0]\n",
    "    output_file_name = f\"Generation/runs/{model_name_short}_{prompt_file_name_short}.jsonl\"\n",
    "\n",
    "    wandb_project_name = f\"{model_name_short}_{prompt_file_name_short}\"\n",
    "\n",
    "    args_dict = {\n",
    "        \"prompts_file_name\": prompt_file_name,\n",
    "        \"model_name\": model_name,\n",
    "        \"tokenizer_name\": tokenizer_name,\n",
    "        \"generation_strategy\": generation_strategy,\n",
    "        \"output_file_name\": output_file_name,\n",
    "        \"wandb_project_name\": wandb_project_name,\n",
    "        \"batch_size\": batch_size,\n",
    "    }\n",
    "    print(args_dict)\n",
    "\n",
    "    code_generation.main(args_dict, with_peft=True)\n",
    "\n"
   ]
  },
  {
   "cell_type": "code",
   "execution_count": null,
   "metadata": {},
   "outputs": [],
   "source": []
  }
 ],
 "metadata": {
  "kernelspec": {
   "display_name": "amazon",
   "language": "python",
   "name": "python3"
  },
  "language_info": {
   "codemirror_mode": {
    "name": "ipython",
    "version": 3
   },
   "file_extension": ".py",
   "mimetype": "text/x-python",
   "name": "python",
   "nbconvert_exporter": "python",
   "pygments_lexer": "ipython3",
   "version": "3.9.16"
  },
  "orig_nbformat": 4
 },
 "nbformat": 4,
 "nbformat_minor": 2
}
