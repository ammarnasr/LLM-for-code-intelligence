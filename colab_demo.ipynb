{
 "cells": [
  {
   "cell_type": "code",
   "execution_count": 1,
   "metadata": {},
   "outputs": [
    {
     "name": "stdout",
     "output_type": "stream",
     "text": [
      "{'prompts_file_name': 'Generation/humaneval_java.jsonl', 'model_name': 'ammarnasr/codegne-finetuned-the-stack-java-v3-checkpoint-1000', 'tokenizer_name': 'Salesforce/codegen-350M-mono', 'generation_strategy': 'ammarnasr/pass_at_100_gen_config', 'output_file_name': 'Generation/runs/codegne_finetuned_the_stack_java_v3_checkpoint_1000_humaneval_java.jsonl', 'wandb_project_name': 'codegne_finetuned_the_stack_java_v3_checkpoint_1000_humaneval_java', 'batch_size': 5}\n",
      "Starting the code generation with the following arguments:\n",
      "{'prompts_file_name': 'Generation/humaneval_java.jsonl', 'model_name': 'ammarnasr/codegne-finetuned-the-stack-java-v3-checkpoint-1000', 'tokenizer_name': 'Salesforce/codegen-350M-mono', 'generation_strategy': 'ammarnasr/pass_at_100_gen_config', 'output_file_name': 'Generation/runs/codegne_finetuned_the_stack_java_v3_checkpoint_1000_humaneval_java.jsonl', 'wandb_project_name': 'codegne_finetuned_the_stack_java_v3_checkpoint_1000_humaneval_java', 'batch_size': 5}\n"
     ]
    },
    {
     "name": "stderr",
     "output_type": "stream",
     "text": [
      "Failed to detect the name of this notebook, you can set it manually with the WANDB_NOTEBOOK_NAME environment variable to enable code saving.\n",
      "\u001b[34m\u001b[1mwandb\u001b[0m: Currently logged in as: \u001b[33mammarnasr\u001b[0m. Use \u001b[1m`wandb login --relogin`\u001b[0m to force relogin\n"
     ]
    },
    {
     "data": {
      "text/html": [
       "wandb version 0.15.5 is available!  To upgrade, please run:\n",
       " $ pip install wandb --upgrade"
      ],
      "text/plain": [
       "<IPython.core.display.HTML object>"
      ]
     },
     "metadata": {},
     "output_type": "display_data"
    },
    {
     "data": {
      "text/html": [
       "Tracking run with wandb version 0.15.3"
      ],
      "text/plain": [
       "<IPython.core.display.HTML object>"
      ]
     },
     "metadata": {},
     "output_type": "display_data"
    },
    {
     "data": {
      "text/html": [
       "Run data is saved locally in <code>c:\\Users\\Edin\\OneDrive - University of Edinburgh\\Study\\Sem3\\Project\\LLM-for-code-intelligence\\wandb\\run-20230707_094850-2j20zfxt</code>"
      ],
      "text/plain": [
       "<IPython.core.display.HTML object>"
      ]
     },
     "metadata": {},
     "output_type": "display_data"
    },
    {
     "data": {
      "text/html": [
       "Syncing run <strong><a href='https://wandb.ai/ammarnasr/codegne_finetuned_the_stack_java_v3_checkpoint_1000_humaneval_java/runs/2j20zfxt' target=\"_blank\">fancy-firefly-7</a></strong> to <a href='https://wandb.ai/ammarnasr/codegne_finetuned_the_stack_java_v3_checkpoint_1000_humaneval_java' target=\"_blank\">Weights & Biases</a> (<a href='https://wandb.me/run' target=\"_blank\">docs</a>)<br/>"
      ],
      "text/plain": [
       "<IPython.core.display.HTML object>"
      ]
     },
     "metadata": {},
     "output_type": "display_data"
    },
    {
     "data": {
      "text/html": [
       " View project at <a href='https://wandb.ai/ammarnasr/codegne_finetuned_the_stack_java_v3_checkpoint_1000_humaneval_java' target=\"_blank\">https://wandb.ai/ammarnasr/codegne_finetuned_the_stack_java_v3_checkpoint_1000_humaneval_java</a>"
      ],
      "text/plain": [
       "<IPython.core.display.HTML object>"
      ]
     },
     "metadata": {},
     "output_type": "display_data"
    },
    {
     "data": {
      "text/html": [
       " View run at <a href='https://wandb.ai/ammarnasr/codegne_finetuned_the_stack_java_v3_checkpoint_1000_humaneval_java/runs/2j20zfxt' target=\"_blank\">https://wandb.ai/ammarnasr/codegne_finetuned_the_stack_java_v3_checkpoint_1000_humaneval_java/runs/2j20zfxt</a>"
      ],
      "text/plain": [
       "<IPython.core.display.HTML object>"
      ]
     },
     "metadata": {},
     "output_type": "display_data"
    },
    {
     "data": {
      "application/vnd.jupyter.widget-view+json": {
       "model_id": "8b042815fd7046279697be255b6fdd14",
       "version_major": 2,
       "version_minor": 0
      },
      "text/plain": [
       "  0%|          | 0/158 [00:00<?, ?prompt/s]"
      ]
     },
     "metadata": {},
     "output_type": "display_data"
    },
    {
     "name": "stdout",
     "output_type": "stream",
     "text": [
      "Prompt HumanEval_24_largest_divisor already processed. Skipping...\n",
      "Prompt HumanEval_47_median already processed. Skipping...\n",
      "Prompt HumanEval_160_do_algebra already processed. Skipping...\n",
      "Prompt HumanEval_35_max_element already processed. Skipping...\n",
      "Prompt HumanEval_135_can_arrange already processed. Skipping...\n",
      "Prompt HumanEval_41_car_race_collision already processed. Skipping...\n",
      "Prompt HumanEval_134_check_if_last_char_is_a_letter already processed. Skipping...\n",
      "Prompt HumanEval_31_is_prime already processed. Skipping...\n",
      "Prompt HumanEval_104_unique_digits already processed. Skipping...\n",
      "Prompt HumanEval_11_string_xor already processed. Skipping...\n",
      "Prompt HumanEval_60_sum_to_n already processed. Skipping...\n",
      "Prompt HumanEval_151_double_the_difference already processed. Skipping...\n",
      "Prompt HumanEval_23_strlen already processed. Skipping...\n",
      "Prompt HumanEval_91_is_bored already processed. Skipping...\n",
      "Prompt HumanEval_64_vowels_count already processed. Skipping...\n",
      "Prompt HumanEval_55_fib already processed. Skipping...\n",
      "Prompt HumanEval_144_simplify already processed. Skipping...\n",
      "Prompt HumanEval_98_count_upper already processed. Skipping...\n",
      "Prompt HumanEval_115_max_fill already processed. Skipping...\n",
      "Prompt HumanEval_120_maximum already processed. Skipping...\n",
      "Prompt HumanEval_93_encode already processed. Skipping...\n",
      "Prompt HumanEval_51_remove_vowels already processed. Skipping...\n",
      "Prompt HumanEval_30_get_positive already processed. Skipping...\n",
      "Prompt HumanEval_15_string_sequence already processed. Skipping...\n",
      "Prompt HumanEval_100_make_a_pile already processed. Skipping...\n",
      "Prompt HumanEval_112_reverse_delete already processed. Skipping...\n",
      "Prompt HumanEval_27_flip_case already processed. Skipping...\n",
      "Prompt HumanEval_161_solve already processed. Skipping...\n",
      "Prompt HumanEval_29_filter_by_prefix already processed. Skipping...\n",
      "Prompt HumanEval_102_choose_num already processed. Skipping...\n",
      "Prompt HumanEval_143_words_in_sentence already processed. Skipping...\n",
      "Prompt HumanEval_5_intersperse already processed. Skipping...\n",
      "Prompt HumanEval_76_is_simple_power already processed. Skipping...\n",
      "Prompt HumanEval_75_is_multiply_prime already processed. Skipping...\n",
      "Prompt HumanEval_157_right_angle_triangle already processed. Skipping...\n",
      "Prompt HumanEval_92_any_int already processed. Skipping...\n",
      "Prompt HumanEval_33_sort_third already processed. Skipping...\n",
      "Prompt HumanEval_53_add already processed. Skipping...\n",
      "Prompt HumanEval_69_search already processed. Skipping...\n",
      "Prompt HumanEval_82_prime_length already processed. Skipping...\n",
      "Prompt HumanEval_58_common already processed. Skipping...\n",
      "Prompt HumanEval_139_special_factorial already processed. Skipping...\n",
      "Prompt HumanEval_110_exchange already processed. Skipping...\n",
      "Prompt HumanEval_122_add_elements already processed. Skipping...\n",
      "Prompt HumanEval_150_x_or_y already processed. Skipping...\n",
      "Prompt HumanEval_45_triangle_area already processed. Skipping...\n",
      "Prompt HumanEval_130_tri already processed. Skipping...\n",
      "Prompt HumanEval_119_match_parens already processed. Skipping...\n",
      "Prompt HumanEval_26_remove_duplicates already processed. Skipping...\n",
      "Prompt HumanEval_13_greatest_common_divisor already processed. Skipping...\n",
      "Prompt HumanEval_48_is_palindrome already processed. Skipping...\n",
      "Prompt HumanEval_62_derivative already processed. Skipping...\n",
      "Prompt HumanEval_67_fruit_distribution already processed. Skipping...\n",
      "Prompt HumanEval_77_iscube already processed. Skipping...\n",
      "Prompt HumanEval_116_sort_array already processed. Skipping...\n",
      "Prompt HumanEval_113_odd_count already processed. Skipping...\n",
      "Prompt HumanEval_61_correct_bracketing already processed. Skipping...\n",
      "Prompt HumanEval_66_digitSum already processed. Skipping...\n",
      "Prompt HumanEval_149_sorted_list_sum already processed. Skipping...\n",
      "Prompt HumanEval_128_prod_signs already processed. Skipping...\n",
      "Prompt HumanEval_42_incr_list already processed. Skipping...\n",
      "Prompt HumanEval_9_rolling_max already processed. Skipping...\n",
      "Prompt HumanEval_1_separate_paren_groups already processed. Skipping...\n",
      "Prompt HumanEval_101_words_string already processed. Skipping...\n",
      "Prompt HumanEval_22_filter_integers already processed. Skipping...\n",
      "Prompt HumanEval_37_sort_even already processed. Skipping...\n",
      "Prompt HumanEval_152_compare already processed. Skipping...\n",
      "Prompt HumanEval_107_even_odd_palindrome already processed. Skipping...\n",
      "Prompt HumanEval_46_fib4 already processed. Skipping...\n",
      "Prompt HumanEval_163_generate_integers already processed. Skipping...\n",
      "Prompt HumanEval_4_mean_absolute_deviation already processed. Skipping...\n",
      "Prompt HumanEval_89_encrypt already processed. Skipping...\n",
      "Prompt HumanEval_123_get_odd_collatz already processed. Skipping...\n",
      "Prompt HumanEval_18_how_many_times already processed. Skipping...\n",
      "Prompt HumanEval_109_move_one_ball already processed. Skipping...\n",
      "Prompt HumanEval_145_order_by_points already processed. Skipping...\n",
      "Prompt HumanEval_25_factorize already processed. Skipping...\n",
      "Prompt HumanEval_52_below_threshold already processed. Skipping...\n",
      "Prompt HumanEval_6_parse_nested_parens already processed. Skipping...\n",
      "Prompt HumanEval_121_solution already processed. Skipping...\n",
      "Prompt HumanEval_147_get_max_triples already processed. Skipping...\n",
      "Prompt HumanEval_148_bf already processed. Skipping...\n",
      "Prompt HumanEval_90_next_smallest already processed. Skipping...\n",
      "Prompt HumanEval_19_sort_numbers already processed. Skipping...\n",
      "Prompt HumanEval_154_cycpattern_check already processed. Skipping...\n",
      "Prompt HumanEval_79_decimal_to_binary already processed. Skipping...\n",
      "Prompt HumanEval_7_filter_by_substring already processed. Skipping...\n",
      "Prompt HumanEval_155_even_odd_count already processed. Skipping...\n",
      "Prompt HumanEval_158_find_max already processed. Skipping...\n",
      "Prompt HumanEval_83_starts_one_ends already processed. Skipping...\n",
      "Prompt HumanEval_136_largest_smallest_integers already processed. Skipping...\n",
      "Prompt HumanEval_68_pluck already processed. Skipping...\n",
      "Prompt HumanEval_108_count_nums already processed. Skipping...\n",
      "Prompt HumanEval_129_minPath already processed. Skipping...\n",
      "Prompt HumanEval_70_strange_sort_list already processed. Skipping...\n",
      "Prompt HumanEval_162_string_to_md5 already processed. Skipping...\n",
      "Prompt HumanEval_118_get_closest_vowel already processed. Skipping...\n",
      "Prompt HumanEval_44_change_base already processed. Skipping...\n",
      "Prompt HumanEval_0_has_close_elements already processed. Skipping...\n",
      "Prompt HumanEval_132_is_nested already processed. Skipping...\n",
      "Prompt HumanEval_28_concatenate already processed. Skipping...\n",
      "Prompt HumanEval_39_prime_fib already processed. Skipping...\n",
      "Prompt HumanEval_20_find_closest_elements already processed. Skipping...\n",
      "Prompt HumanEval_78_hex_key already processed. Skipping...\n",
      "Prompt HumanEval_97_multiply already processed. Skipping...\n",
      "Prompt HumanEval_21_rescale_to_unit already processed. Skipping...\n",
      "Prompt HumanEval_131_digits already processed. Skipping...\n",
      "Prompt HumanEval_153_Strongest_Extension already processed. Skipping...\n",
      "Prompt HumanEval_111_histogram already processed. Skipping...\n",
      "Prompt HumanEval_43_pairs_sum_to_zero already processed. Skipping...\n",
      "Prompt HumanEval_74_total_match already processed. Skipping...\n",
      "Prompt HumanEval_65_circular_shift already processed. Skipping...\n",
      "Prompt HumanEval_57_monotonic already processed. Skipping...\n",
      "Prompt HumanEval_138_is_equal_to_sum_even already processed. Skipping...\n",
      "Prompt HumanEval_17_parse_music already processed. Skipping...\n",
      "Prompt HumanEval_142_sum_squares already processed. Skipping...\n",
      "Prompt HumanEval_40_triples_sum_to_zero already processed. Skipping...\n",
      "Prompt HumanEval_56_correct_bracketing already processed. Skipping...\n",
      "Prompt HumanEval_146_specialFilter already processed. Skipping...\n",
      "Prompt HumanEval_95_check_dict_case already processed. Skipping...\n",
      "Prompt HumanEval_63_fibfib already processed. Skipping...\n",
      "Prompt HumanEval_133_sum_squares already processed. Skipping...\n",
      "Prompt HumanEval_85_add already processed. Skipping...\n",
      "Prompt HumanEval_34_unique already processed. Skipping...\n",
      "Prompt HumanEval_140_fix_spaces already processed. Skipping...\n",
      "Prompt HumanEval_49_modp already processed. Skipping...\n",
      "Prompt HumanEval_124_valid_date already processed. Skipping...\n",
      "Prompt HumanEval_86_anti_shuffle already processed. Skipping...\n",
      "Prompt HumanEval_126_is_sorted already processed. Skipping...\n",
      "Prompt HumanEval_80_is_happy already processed. Skipping...\n",
      "Prompt HumanEval_72_will_it_fly already processed. Skipping...\n",
      "Prompt HumanEval_88_sort_array already processed. Skipping...\n",
      "Prompt HumanEval_96_count_up_to already processed. Skipping...\n",
      "Prompt HumanEval_12_longest already processed. Skipping...\n",
      "Prompt HumanEval_105_by_length already processed. Skipping...\n",
      "Prompt HumanEval_106_f already processed. Skipping...\n",
      "Prompt HumanEval_36_fizz_buzz already processed. Skipping...\n",
      "Prompt HumanEval_2_truncate_number already processed. Skipping...\n",
      "Prompt HumanEval_8_sum_product already processed. Skipping...\n",
      "Prompt HumanEval_87_get_row already processed. Skipping...\n",
      "Prompt HumanEval_159_eat already processed. Skipping...\n",
      "Prompt HumanEval_84_solve already processed. Skipping...\n",
      "Prompt HumanEval_94_skjkasdkd already processed. Skipping...\n",
      "Prompt HumanEval_73_smallest_change already processed. Skipping...\n"
     ]
    },
    {
     "data": {
      "application/vnd.jupyter.widget-view+json": {
       "model_id": "c0c3b4046e1843ed8d2de3f106820718",
       "version_major": 2,
       "version_minor": 0
      },
      "text/plain": [
       "  0%|          | 0/20 [00:00<?, ?batch/s]"
      ]
     },
     "metadata": {},
     "output_type": "display_data"
    },
    {
     "data": {
      "application/vnd.jupyter.widget-view+json": {
       "model_id": "e0771e60989c4309bd1aaea11e2d9555",
       "version_major": 2,
       "version_minor": 0
      },
      "text/plain": [
       "  0%|          | 0/20 [00:00<?, ?batch/s]"
      ]
     },
     "metadata": {},
     "output_type": "display_data"
    },
    {
     "data": {
      "application/vnd.jupyter.widget-view+json": {
       "model_id": "5be1588544a447e99deeccd8d2df5578",
       "version_major": 2,
       "version_minor": 0
      },
      "text/plain": [
       "  0%|          | 0/20 [00:00<?, ?batch/s]"
      ]
     },
     "metadata": {},
     "output_type": "display_data"
    },
    {
     "data": {
      "application/vnd.jupyter.widget-view+json": {
       "model_id": "32752982c5744918b33dd1497dce5c93",
       "version_major": 2,
       "version_minor": 0
      },
      "text/plain": [
       "  0%|          | 0/20 [00:00<?, ?batch/s]"
      ]
     },
     "metadata": {},
     "output_type": "display_data"
    },
    {
     "data": {
      "application/vnd.jupyter.widget-view+json": {
       "model_id": "ca56de61907941f28c2b8dfd5104d607",
       "version_major": 2,
       "version_minor": 0
      },
      "text/plain": [
       "  0%|          | 0/20 [00:00<?, ?batch/s]"
      ]
     },
     "metadata": {},
     "output_type": "display_data"
    },
    {
     "data": {
      "application/vnd.jupyter.widget-view+json": {
       "model_id": "9cd3cdc80c344b4385710e8d8224f67d",
       "version_major": 2,
       "version_minor": 0
      },
      "text/plain": [
       "  0%|          | 0/20 [00:00<?, ?batch/s]"
      ]
     },
     "metadata": {},
     "output_type": "display_data"
    },
    {
     "data": {
      "application/vnd.jupyter.widget-view+json": {
       "model_id": "be97ea113f464b898dbb54a457d960c5",
       "version_major": 2,
       "version_minor": 0
      },
      "text/plain": [
       "  0%|          | 0/20 [00:00<?, ?batch/s]"
      ]
     },
     "metadata": {},
     "output_type": "display_data"
    },
    {
     "data": {
      "application/vnd.jupyter.widget-view+json": {
       "model_id": "e90a024fc94846c2a95f790ad6072d13",
       "version_major": 2,
       "version_minor": 0
      },
      "text/plain": [
       "  0%|          | 0/20 [00:00<?, ?batch/s]"
      ]
     },
     "metadata": {},
     "output_type": "display_data"
    },
    {
     "data": {
      "application/vnd.jupyter.widget-view+json": {
       "model_id": "850df3c48ee543a5acfed48d4da5abca",
       "version_major": 2,
       "version_minor": 0
      },
      "text/plain": [
       "  0%|          | 0/20 [00:00<?, ?batch/s]"
      ]
     },
     "metadata": {},
     "output_type": "display_data"
    },
    {
     "data": {
      "application/vnd.jupyter.widget-view+json": {
       "model_id": "c06f56f249574dfc96b725b8d084ea9c",
       "version_major": 2,
       "version_minor": 0
      },
      "text/plain": [
       "  0%|          | 0/20 [00:00<?, ?batch/s]"
      ]
     },
     "metadata": {},
     "output_type": "display_data"
    },
    {
     "data": {
      "application/vnd.jupyter.widget-view+json": {
       "model_id": "3ea4250ce0ac45bfb8d79f90156988a9",
       "version_major": 2,
       "version_minor": 0
      },
      "text/plain": [
       "  0%|          | 0/20 [00:00<?, ?batch/s]"
      ]
     },
     "metadata": {},
     "output_type": "display_data"
    },
    {
     "data": {
      "application/vnd.jupyter.widget-view+json": {
       "model_id": "05cdd9b71eaa446b827397de97b331ad",
       "version_major": 2,
       "version_minor": 0
      },
      "text/plain": [
       "  0%|          | 0/20 [00:00<?, ?batch/s]"
      ]
     },
     "metadata": {},
     "output_type": "display_data"
    },
    {
     "data": {
      "application/vnd.jupyter.widget-view+json": {
       "model_id": "444557b41cd24f1386f8d9203735437c",
       "version_major": 2,
       "version_minor": 0
      },
      "text/plain": [
       "  0%|          | 0/20 [00:00<?, ?batch/s]"
      ]
     },
     "metadata": {},
     "output_type": "display_data"
    },
    {
     "data": {
      "application/vnd.jupyter.widget-view+json": {
       "model_id": "b0363faac1ac42f3ae2ce32b7aaf9c7c",
       "version_major": 2,
       "version_minor": 0
      },
      "text/plain": [
       "  0%|          | 0/20 [00:00<?, ?batch/s]"
      ]
     },
     "metadata": {},
     "output_type": "display_data"
    },
    {
     "name": "stdout",
     "output_type": "stream",
     "text": [
      "Code generation completed successfully.\n"
     ]
    }
   ],
   "source": [
    "from Generation import code_generation\n",
    "prompt_file_names = [\n",
    "    \"Generation/humaneval_java.jsonl\",\n",
    "]\n",
    "model_name = \"ammarnasr/codegne-finetuned-the-stack-java-v3-checkpoint-1000\"\n",
    "tokenizer_name = \"Salesforce/codegen-350M-mono\"\n",
    "generation_strategy = \"ammarnasr/pass_at_100_gen_config\"\n",
    "batch_size = 5\n",
    "for prompt_file_name in prompt_file_names:\n",
    "    model_name_short = model_name.split(\"/\")[-1]\n",
    "    model_name_short = model_name_short.replace(\"-\", \"_\")\n",
    "    prompt_file_name_short = prompt_file_name.split(\"/\")[-1]\n",
    "    prompt_file_name_short = prompt_file_name_short.split(\".\")[0]\n",
    "    output_file_name = f\"Generation/runs/{model_name_short}_{prompt_file_name_short}.jsonl\"\n",
    "\n",
    "    wandb_project_name = f\"{model_name_short}_{prompt_file_name_short}\"\n",
    "\n",
    "    args_dict = {\n",
    "        \"prompts_file_name\": prompt_file_name,\n",
    "        \"model_name\": model_name,\n",
    "        \"tokenizer_name\": tokenizer_name,\n",
    "        \"generation_strategy\": generation_strategy,\n",
    "        \"output_file_name\": output_file_name,\n",
    "        \"wandb_project_name\": wandb_project_name,\n",
    "        \"batch_size\": batch_size,\n",
    "    }\n",
    "    print(args_dict)\n",
    "\n",
    "    code_generation.main(args_dict)\n",
    "\n"
   ]
  },
  {
   "cell_type": "code",
   "execution_count": null,
   "metadata": {},
   "outputs": [],
   "source": []
  }
 ],
 "metadata": {
  "kernelspec": {
   "display_name": "amazon",
   "language": "python",
   "name": "python3"
  },
  "language_info": {
   "codemirror_mode": {
    "name": "ipython",
    "version": 3
   },
   "file_extension": ".py",
   "mimetype": "text/x-python",
   "name": "python",
   "nbconvert_exporter": "python",
   "pygments_lexer": "ipython3",
   "version": "3.9.16"
  },
  "orig_nbformat": 4
 },
 "nbformat": 4,
 "nbformat_minor": 2
}
