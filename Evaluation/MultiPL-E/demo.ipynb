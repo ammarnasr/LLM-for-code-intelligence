{
 "cells": [
  {
   "cell_type": "code",
   "execution_count": 4,
   "metadata": {},
   "outputs": [
    {
     "name": "stdout",
     "output_type": "stream",
     "text": [
      "Done.\n"
     ]
    },
    {
     "name": "stderr",
     "output_type": "stream",
     "text": [
      "\n",
      "  0%|          | 0/12000 [00:00<?, ?jsonline/s]\n",
      "100%|██████████| 12000/12000 [00:00<00:00, 597068.12jsonline/s]\n"
     ]
    }
   ],
   "source": [
    "# exp_name = 'codegen_350M_mono_humaneval_py'\n",
    "exp_name = 'codegen_350M_mono_humaneval_java'\n",
    "sf = f'src/{exp_name}.jsonl'\n",
    "td = f'tgt/{exp_name.replace(\"-\", \"\")}'\n",
    "!python convert_to_pre_eval.py --source_file $sf --target_dir $td\n"
   ]
  },
  {
   "cell_type": "code",
   "execution_count": 5,
   "metadata": {},
   "outputs": [
    {
     "name": "stdout",
     "output_type": "stream",
     "text": [
      "### EVALUATION COMMAND ###\n",
      "podman run --rm --network none -v ./tgt/codegen_350M_mono_humaneval_java:/tgt/codegen_350M_mono_humaneval_java:rw multipl-e-eval --dir /tgt/codegen_350M_mono_humaneval_java --output-dir /tgt/codegen_350M_mono_humaneval_java --recursive\n",
      "### EVALUATION COMMAND ###\n"
     ]
    }
   ],
   "source": [
    "import subprocess\n",
    "sf = f'src/{exp_name}.jsonl'\n",
    "td = f'tgt/{exp_name.replace(\"-\", \"\")}'\n",
    "eval_cmd = f\"podman run --rm --network none -v ./{td}:/{td}:rw multipl-e-eval --dir /{td} --output-dir /{td} --recursive\"\n",
    "\n",
    "\n",
    "# subprocess.run(eval_cmd, shell=True)\n",
    "print(\"### EVALUATION COMMAND ###\")\n",
    "print(eval_cmd)\n",
    "print(\"### EVALUATION COMMAND ###\")\n"
   ]
  },
  {
   "cell_type": "code",
   "execution_count": null,
   "metadata": {},
   "outputs": [],
   "source": [
    "### EVALUATION COMMAND ###\n",
    "podman run --rm --network none -v ./tgt/codegen_350M_mono_humaneval_java:/tgt/codegen_350M_mono_humaneval_java:rw multipl-e-eval --dir /tgt/codegen_350M_mono_humaneval_java --output-dir /tgt/codegen_350M_mono_humaneval_java --recursive\n",
    "### EVALUATION COMMAND ###"
   ]
  },
  {
   "cell_type": "code",
   "execution_count": null,
   "metadata": {},
   "outputs": [],
   "source": [
    "sf = f'src/{exp_name}.jsonl'\n",
    "td = f'tgt/{exp_name.replace(\"-\", \"\")}'\n",
    "target_dir = f'{td}'\n",
    "output_file = f'res/{exp_name}_results.json'\n",
    "!python pass_k.py $target_dir --output $output_file"
   ]
  },
  {
   "cell_type": "code",
   "execution_count": null,
   "metadata": {},
   "outputs": [],
   "source": []
  }
 ],
 "metadata": {
  "kernelspec": {
   "display_name": "amazon",
   "language": "python",
   "name": "python3"
  },
  "language_info": {
   "codemirror_mode": {
    "name": "ipython",
    "version": 3
   },
   "file_extension": ".py",
   "mimetype": "text/x-python",
   "name": "python",
   "nbconvert_exporter": "python",
   "pygments_lexer": "ipython3",
   "version": "3.9.16"
  },
  "orig_nbformat": 4
 },
 "nbformat": 4,
 "nbformat_minor": 2
}
