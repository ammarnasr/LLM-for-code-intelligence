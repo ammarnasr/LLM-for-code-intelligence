{
 "cells": [
  {
   "cell_type": "code",
   "execution_count": 1,
   "metadata": {},
   "outputs": [
    {
     "name": "stdout",
     "output_type": "stream",
     "text": [
      "Done.\n"
     ]
    },
    {
     "name": "stderr",
     "output_type": "stream",
     "text": [
      "\n",
      "  0%|          | 0/16000 [00:00<?, ?jsonline/s]\n",
      "100%|██████████| 16000/16000 [00:00<00:00, 889094.65jsonline/s]\n"
     ]
    }
   ],
   "source": [
    "exp_name = 'codegne_finetuned_the_stack_java_v2_checkpoint_200_humaneval_java'\n",
    "sf = f'src/{exp_name}.jsonl'\n",
    "td = f'tgt/{exp_name.replace(\"-\", \"\")}'\n",
    "!python convert_to_pre_eval.py --source_file $sf --target_dir $td\n"
   ]
  },
  {
   "cell_type": "code",
   "execution_count": 2,
   "metadata": {},
   "outputs": [
    {
     "name": "stdout",
     "output_type": "stream",
     "text": [
      "### EVALUATION COMMAND ###\n",
      "# podman run --rm --network none -v ./tgt/codegne_finetuned_the_stack_java_v2_checkpoint_200_humaneval_java:/tgt/codegne_finetuned_the_stack_java_v2_checkpoint_200_humaneval_java:rw multipl-e-eval --dir /tgt/codegne_finetuned_the_stack_java_v2_checkpoint_200_humaneval_java --output-dir /tgt/codegne_finetuned_the_stack_java_v2_checkpoint_200_humaneval_java --recursive\n",
      "### EVALUATION COMMAND ###\n"
     ]
    }
   ],
   "source": [
    "# import subprocess\n",
    "sf = f'src/{exp_name}.jsonl'\n",
    "td = f'tgt/{exp_name.replace(\"-\", \"\")}'\n",
    "eval_cmd = f\"podman run --rm --network none -v ./{td}:/{td}:rw multipl-e-eval --dir /{td} --output-dir /{td} --recursive\"\n",
    "\n",
    "\n",
    "# # subprocess.run(eval_cmd, shell=True)\n",
    "print(\"### EVALUATION COMMAND ###\")\n",
    "print('#',eval_cmd)\n",
    "print(\"### EVALUATION COMMAND ###\")\n"
   ]
  },
  {
   "cell_type": "code",
   "execution_count": null,
   "metadata": {},
   "outputs": [],
   "source": [
    "### EVALUATION COMMAND ###\n",
    "# podman run --rm --network none -v ./tgt/codegne_finetuned_the_stack_java_v2_checkpoint_200_humaneval_java:/tgt/codegne_finetuned_the_stack_java_v2_checkpoint_200_humaneval_java:rw multipl-e-eval --dir /tgt/codegne_finetuned_the_stack_java_v2_checkpoint_200_humaneval_java --output-dir /tgt/codegne_finetuned_the_stack_java_v2_checkpoint_200_humaneval_java --recursive\n",
    "### EVALUATION COMMAND ###"
   ]
  },
  {
   "cell_type": "code",
   "execution_count": 14,
   "metadata": {},
   "outputs": [
    {
     "name": "stdout",
     "output_type": "stream",
     "text": [
      "Dataset,Pass@k,Estimate,NumProblems,MinCompletions,MaxCompletions\n",
      "Reading results from tgt/codegne_finetuned_the_stack_java_v2_checkpoint_200_humaneval_py...\n",
      "And saving results to res/codegne_finetuned_the_stack_java_v2_checkpoint_200_humaneval_py_results.json...\n",
      "====================\n",
      "For file tgt\\codegne_finetuned_the_stack_java_v2_checkpoint_200_humaneval_py\\HumanEval_22_filter_integers.results.json n = 200 and c = 2\n",
      "====================\n",
      "====================\n",
      "For file tgt\\codegne_finetuned_the_stack_java_v2_checkpoint_200_humaneval_py\\HumanEval_23_strlen.results.json n = 200 and c = 4\n",
      "====================\n",
      "====================\n",
      "For file tgt\\codegne_finetuned_the_stack_java_v2_checkpoint_200_humaneval_py\\HumanEval_29_filter_by_prefix.results.json n = 200 and c = 4\n",
      "====================\n",
      "====================\n",
      "For file tgt\\codegne_finetuned_the_stack_java_v2_checkpoint_200_humaneval_py\\HumanEval_30_get_positive.results.json n = 200 and c = 6\n",
      "====================\n",
      "====================\n",
      "For file tgt\\codegne_finetuned_the_stack_java_v2_checkpoint_200_humaneval_py\\HumanEval_35_max_element.results.json n = 200 and c = 3\n",
      "====================\n",
      "====================\n",
      "For file tgt\\codegne_finetuned_the_stack_java_v2_checkpoint_200_humaneval_py\\HumanEval_42_incr_list.results.json n = 200 and c = 5\n",
      "====================\n",
      "====================\n",
      "For file tgt\\codegne_finetuned_the_stack_java_v2_checkpoint_200_humaneval_py\\HumanEval_45_triangle_area.results.json n = 200 and c = 13\n",
      "====================\n",
      "====================\n",
      "For file tgt\\codegne_finetuned_the_stack_java_v2_checkpoint_200_humaneval_py\\HumanEval_48_is_palindrome.results.json n = 200 and c = 15\n",
      "====================\n",
      "====================\n",
      "For file tgt\\codegne_finetuned_the_stack_java_v2_checkpoint_200_humaneval_py\\HumanEval_51_remove_vowels.results.json n = 200 and c = 1\n",
      "====================\n",
      "====================\n",
      "For file tgt\\codegne_finetuned_the_stack_java_v2_checkpoint_200_humaneval_py\\HumanEval_52_below_threshold.results.json n = 200 and c = 9\n",
      "====================\n",
      "====================\n",
      "For file tgt\\codegne_finetuned_the_stack_java_v2_checkpoint_200_humaneval_py\\HumanEval_53_add.results.json n = 200 and c = 54\n",
      "====================\n",
      "====================\n",
      "For file tgt\\codegne_finetuned_the_stack_java_v2_checkpoint_200_humaneval_py\\HumanEval_55_fib.results.json n = 200 and c = 8\n",
      "====================\n",
      "====================\n",
      "For file tgt\\codegne_finetuned_the_stack_java_v2_checkpoint_200_humaneval_py\\HumanEval_58_common.results.json n = 200 and c = 1\n",
      "====================\n",
      "====================\n",
      "For file tgt\\codegne_finetuned_the_stack_java_v2_checkpoint_200_humaneval_py\\HumanEval_60_sum_to_n.results.json n = 200 and c = 15\n",
      "====================\n",
      "Read 86 results\n",
      "Sample result: {'pass@1': 0.0, 'pass@10': 0.0, 'pass@100': 0.0, 'n': 200, 'temperature': 0.8}\n",
      "codegne_finetuned_the_stack_java_v2_checkpoint_200_humaneval_py,10,0.05216675674456617,86,200,200\n",
      "codegne_finetuned_the_stack_java_v2_checkpoint_200_humaneval_py,100,0.1448561913283779,86,200,200\n",
      "{'pass@10': {'dataset': 'codegne_finetuned_the_stack_java_v2_checkpoint_200_humaneval_py',\n",
      "             'estimate': 0.05216675674456617,\n",
      "             'max_completions': 200,\n",
      "             'min_completions': 200,\n",
      "             'num_problems': 86,\n",
      "             'pass@k': 10},\n",
      " 'pass@100': {'dataset': 'codegne_finetuned_the_stack_java_v2_checkpoint_200_humaneval_py',\n",
      "              'estimate': 0.1448561913283779,\n",
      "              'max_completions': 200,\n",
      "              'min_completions': 200,\n",
      "              'num_problems': 86,\n",
      "              'pass@k': 100}}\n",
      "Saved results to res/codegne_finetuned_the_stack_java_v2_checkpoint_200_humaneval_py_results.json\n"
     ]
    }
   ],
   "source": [
    "sf = f'src/{exp_name}.jsonl'\n",
    "td = f'tgt/{exp_name.replace(\"-\", \"\")}'\n",
    "target_dir = f'{td}'\n",
    "output_file = f'res/{exp_name}_results.json'\n",
    "!python pass_k.py $target_dir --output $output_file"
   ]
  },
  {
   "attachments": {},
   "cell_type": "markdown",
   "metadata": {},
   "source": [
    "#### Visualize the results"
   ]
  },
  {
   "cell_type": "code",
   "execution_count": 11,
   "metadata": {},
   "outputs": [
    {
     "name": "stderr",
     "output_type": "stream",
     "text": [
      "posx and posy should be finite values\n",
      "posx and posy should be finite values\n",
      "posx and posy should be finite values\n",
      "posx and posy should be finite values\n"
     ]
    },
    {
     "data": {
      "image/png": "[encoded data removed]",
      "text/plain": [
       "<Figure size 640x480 with 1 Axes>"
      ]
     },
     "metadata": {},
     "output_type": "display_data"
    },
    {
     "name": "stderr",
     "output_type": "stream",
     "text": [
      "posx and posy should be finite values\n",
      "posx and posy should be finite values\n",
      "posx and posy should be finite values\n",
      "posx and posy should be finite values\n"
     ]
    },
    {
     "data": {
      "image/png": "[encoded data removed]",
      "text/plain": [
       "<Figure size 640x480 with 1 Axes>"
      ]
     },
     "metadata": {},
     "output_type": "display_data"
    }
   ],
   "source": [
    "import json\n",
    "import pandas as pd\n",
    "import numpy as np\n",
    "import matplotlib.pyplot as plt\n",
    "import seaborn as sns\n",
    "import os\n",
    "\n",
    "\n",
    "#get all the results files in the res folder\n",
    "results_files = [f for f in os.listdir('res') if os.path.isfile(os.path.join('res', f))]\n",
    "\n",
    "#load all the results files into a dictionary\n",
    "results = {}\n",
    "for f in results_files:\n",
    "    with open(os.path.join('res', f)) as json_file:\n",
    "        results[f] = json.load(json_file)\n",
    "\n",
    "#Models Short Names\n",
    "model_names_dict = {\n",
    "    'codegen_350M_mono_humaneval_py': 'Baseline',\n",
    "    'codegen_350M_mono_humaneval_java': 'Baseline',\n",
    "\n",
    "    'codegen_350M_mono_the_stack_dedup_java_train_peft_humaneval_py': 'LoRa-V1',\n",
    "    'codegen_350M_mono_the_stack_dedup_java_train_peft_humaneval_java': 'LoRa-V1',\n",
    "    \n",
    "    'codegne_finetuned_the_stack_java_v2_checkpoint_200_humaneval_py': 'Full-V2',\n",
    "    'codegne_finetuned_the_stack_java_v2_checkpoint_200_humaneval_java': 'Full-V2',\n",
    "    \n",
    "    'codegne_finetuned_LoRa_the_stack_java_v2_checkpoint_200_humaneval_py': 'LoRa-V2',\n",
    "    'codegne_finetuned_LoRa_the_stack_java_v2_checkpoint_200_humaneval_java': 'LoRa-V2'\n",
    "\n",
    "}\n",
    "\n",
    "\n",
    "#Merge all the results into a single dataframe\n",
    "dict_df = {\n",
    "    'model': [],\n",
    "    'dataset': [],\n",
    "    'pass@10': [],\n",
    "    'pass@100': [],\n",
    "    'num_problems': [],\n",
    "    'min_completions': [],\n",
    "    'max_completions': [],\n",
    "    'programming_language': []\n",
    "}\n",
    "\n",
    "for model in results.keys():\n",
    "    model_results = results[model]\n",
    "    model_name = model.split('_results.json')[0]\n",
    "    if model_name in model_names_dict.keys():\n",
    "        model_name = model_names_dict[model_name]\n",
    "    dataset_name = model_results['pass@10']['dataset']\n",
    "    pass_10 = model_results['pass@10']['estimate']\n",
    "    pass_100 = model_results['pass@100']['estimate']\n",
    "    num_problems = model_results['pass@10']['num_problems']\n",
    "    min_completions = model_results['pass@10']['min_completions']\n",
    "    max_completions = model_results['pass@10']['max_completions']\n",
    "    if 'humaneval_py' in dataset_name:\n",
    "        programming_language = 'python'\n",
    "    elif 'humaneval_java' in dataset_name:\n",
    "        programming_language = 'java'\n",
    "    else:\n",
    "        programming_language = 'unknown'\n",
    "    dict_df['model'].append(model_name)\n",
    "    dict_df['dataset'].append(dataset_name)\n",
    "    dict_df['pass@10'].append(pass_10)\n",
    "    dict_df['pass@100'].append(pass_100)\n",
    "    dict_df['num_problems'].append(num_problems)\n",
    "    dict_df['min_completions'].append(min_completions)\n",
    "    dict_df['max_completions'].append(max_completions)\n",
    "    dict_df['programming_language'].append(programming_language)\n",
    "\n",
    "df = pd.DataFrame(dict_df)\n",
    "\n",
    "#Drop the dataset column\n",
    "df = df.drop(columns=['dataset'])\n",
    "\n",
    "#Drop the min_completions and max_completions columns\n",
    "df = df.drop(columns=['min_completions', 'max_completions'])\n",
    "\n",
    "#Drop the num_problems column\n",
    "df = df.drop(columns=['num_problems'])\n",
    "\n",
    "#Plot the results\n",
    "sns.set_theme(style=\"whitegrid\")\n",
    "ax = sns.barplot(x=\"model\", y=\"pass@10\", hue=\"programming_language\", data=df)\n",
    "ax.set_xticklabels(ax.get_xticklabels(), rotation=0)\n",
    "#set the y axis to start at 0 and end at 0.4\n",
    "plt.ylim(0, 0.4)\n",
    "#writer the y values on top of the bars\n",
    "for p in ax.patches:\n",
    "    height = p.get_height()\n",
    "    ax.text(p.get_x()+p.get_width()/2.,\n",
    "            height + 0.01,\n",
    "            '{:1.2f}'.format(height),\n",
    "            ha=\"center\")\n",
    "#plot the legend outside the plot\n",
    "plt.legend(bbox_to_anchor=(1.05, 1), loc=2, borderaxespad=0.)\n",
    "plt.show()\n",
    "\n",
    "#Plot the results\n",
    "sns.set_theme(style=\"whitegrid\")\n",
    "ax = sns.barplot(x=\"model\", y=\"pass@100\", hue=\"programming_language\", data=df)\n",
    "ax.set_xticklabels(ax.get_xticklabels(), rotation=0)\n",
    "#set the y axis to start at 0 and end at 0.4\n",
    "plt.ylim(0, 0.4)\n",
    "#writer the y values on top of the bars\n",
    "for p in ax.patches:\n",
    "    height = p.get_height()\n",
    "    ax.text(p.get_x()+p.get_width()/2.,\n",
    "            height + 0.01,\n",
    "            '{:1.2f}'.format(height),\n",
    "            ha=\"center\")\n",
    "#plot the legend outside the plot\n",
    "plt.legend(bbox_to_anchor=(1.05, 1), loc=2, borderaxespad=0.)\n",
    "plt.show()\n",
    "\n"
   ]
  },
  {
   "cell_type": "code",
   "execution_count": 25,
   "metadata": {},
   "outputs": [
    {
     "data": {
      "text/html": [
       "<div>\n",
       "<style scoped>\n",
       "    .dataframe tbody tr th:only-of-type {\n",
       "        vertical-align: middle;\n",
       "    }\n",
       "\n",
       "    .dataframe tbody tr th {\n",
       "        vertical-align: top;\n",
       "    }\n",
       "\n",
       "    .dataframe thead th {\n",
       "        text-align: right;\n",
       "    }\n",
       "</style>\n",
       "<table border=\"1\" class=\"dataframe\">\n",
       "  <thead>\n",
       "    <tr style=\"text-align: right;\">\n",
       "      <th></th>\n",
       "      <th>model</th>\n",
       "      <th>pass@10</th>\n",
       "      <th>pass@100</th>\n",
       "      <th>programming_language</th>\n",
       "    </tr>\n",
       "  </thead>\n",
       "  <tbody>\n",
       "    <tr>\n",
       "      <th>0</th>\n",
       "      <td>codegen_350M_mono_humaneval_java</td>\n",
       "      <td>0.041230</td>\n",
       "      <td>0.078607</td>\n",
       "      <td>java</td>\n",
       "    </tr>\n",
       "    <tr>\n",
       "      <th>1</th>\n",
       "      <td>codegen_350M_mono_humaneval_py</td>\n",
       "      <td>0.227251</td>\n",
       "      <td>0.362420</td>\n",
       "      <td>python</td>\n",
       "    </tr>\n",
       "    <tr>\n",
       "      <th>2</th>\n",
       "      <td>codegen_350M_mono_the_stack_dedup_java_train_p...</td>\n",
       "      <td>0.034939</td>\n",
       "      <td>0.089892</td>\n",
       "      <td>java</td>\n",
       "    </tr>\n",
       "    <tr>\n",
       "      <th>3</th>\n",
       "      <td>codegne_finetuned_the_stack_java_v2_checkpoint...</td>\n",
       "      <td>0.052167</td>\n",
       "      <td>0.144856</td>\n",
       "      <td>python</td>\n",
       "    </tr>\n",
       "  </tbody>\n",
       "</table>\n",
       "</div>"
      ],
      "text/plain": [
       "                                               model   pass@10  pass@100  \\\n",
       "0                   codegen_350M_mono_humaneval_java  0.041230  0.078607   \n",
       "1                     codegen_350M_mono_humaneval_py  0.227251  0.362420   \n",
       "2  codegen_350M_mono_the_stack_dedup_java_train_p...  0.034939  0.089892   \n",
       "3  codegne_finetuned_the_stack_java_v2_checkpoint...  0.052167  0.144856   \n",
       "\n",
       "  programming_language  \n",
       "0                 java  \n",
       "1               python  \n",
       "2                 java  \n",
       "3               python  "
      ]
     },
     "execution_count": 25,
     "metadata": {},
     "output_type": "execute_result"
    }
   ],
   "source": [
    "df"
   ]
  },
  {
   "cell_type": "code",
   "execution_count": 28,
   "metadata": {},
   "outputs": [
    {
     "data": {
      "text/plain": [
       "array(['codegen_350M_mono_humaneval_java',\n",
       "       'codegen_350M_mono_humaneval_py',\n",
       "       'codegen_350M_mono_the_stack_dedup_java_train_peft_humaneval_java',\n",
       "       'codegne_finetuned_the_stack_java_v2_checkpoint_200_humaneval_py'],\n",
       "      dtype=object)"
      ]
     },
     "execution_count": 28,
     "metadata": {},
     "output_type": "execute_result"
    }
   ],
   "source": [
    "df.model.unique()"
   ]
  },
  {
   "cell_type": "code",
   "execution_count": 29,
   "metadata": {},
   "outputs": [],
   "source": []
  },
  {
   "cell_type": "code",
   "execution_count": null,
   "metadata": {},
   "outputs": [],
   "source": []
  }
 ],
 "metadata": {
  "kernelspec": {
   "display_name": "amazon",
   "language": "python",
   "name": "python3"
  },
  "language_info": {
   "codemirror_mode": {
    "name": "ipython",
    "version": 3
   },
   "file_extension": ".py",
   "mimetype": "text/x-python",
   "name": "python",
   "nbconvert_exporter": "python",
   "pygments_lexer": "ipython3",
   "version": "3.9.16"
  },
  "orig_nbformat": 4
 },
 "nbformat": 4,
 "nbformat_minor": 2
}
