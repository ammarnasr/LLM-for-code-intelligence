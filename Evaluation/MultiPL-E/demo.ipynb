{
 "cells": [
  {
   "cell_type": "code",
   "execution_count": null,
   "metadata": {},
   "outputs": [],
   "source": []
  },
  {
   "cell_type": "code",
   "execution_count": null,
   "metadata": {},
   "outputs": [],
   "source": []
  },
  {
   "cell_type": "code",
   "execution_count": null,
   "metadata": {},
   "outputs": [],
   "source": []
  },
  {
   "cell_type": "markdown",
   "metadata": {},
   "source": [
    "#### ALL FLOW"
   ]
  },
  {
   "cell_type": "code",
   "execution_count": 1,
   "metadata": {},
   "outputs": [],
   "source": [
    "import os\n",
    "import shutil\n",
    "import subprocess\n",
    "def copy_all_from_runs_to_src():\n",
    "    # get current directory\n",
    "    cwd = os.getcwd()\n",
    "    parent = os.path.dirname(cwd)\n",
    "    parent = os.path.dirname(parent)\n",
    "    src_folder = parent + '\\\\Generation\\\\runs\\\\' \n",
    "    dst_folder = './src/'\n",
    "    for file_name in os.listdir(src_folder):\n",
    "        shutil.copy(src_folder + file_name, dst_folder)\n",
    "    print(f'Copied all files from {src_folder} to {dst_folder}')\n",
    "\n",
    "def convert_to_pre_eval(exp_name):\n",
    "    sf = f'src/{exp_name}.jsonl'\n",
    "    #check if the file exists\n",
    "    if not os.path.isfile(sf):\n",
    "        print(f'File {sf} does not exist')\n",
    "        return False\n",
    "    td = f'tgt/{exp_name.replace(\"-\", \"\")}'\n",
    "    !python convert_to_pre_eval.py --source_file $sf --target_dir $td\n",
    "    print(f'Converted {sf} to {td}')\n",
    "    return True\n",
    "\n",
    "def run_evaluation(exp_name, run_cmd=False, shell_script_path=None):\n",
    "    sf = f'src/{exp_name}.jsonl'\n",
    "    td = f'tgt/{exp_name.replace(\"-\", \"\")}'\n",
    "    eval_cmd = f\"podman run --rm --network none -v ./{td}:/{td}:rw multipl-e-eval --dir /{td} --output-dir /{td} --recursive\"\n",
    "    if run_cmd:\n",
    "        subprocess.run(eval_cmd, shell=True)\n",
    "    elif shell_script_path is not None:\n",
    "        with open(shell_script_path, 'w') as f:\n",
    "            f.write(eval_cmd)\n",
    "        print(f'The evaluation command is saved to {shell_script_path}')\n",
    "    else:\n",
    "        print(f'The evaluation command is: \\n{eval_cmd}\\n Copy it and run it in the terminal')\n",
    "\n",
    "def run_pass_k(exp_name):\n",
    "    target_dir = f'tgt/{exp_name.replace(\"-\", \"\")}'\n",
    "    output_file = f'res/{exp_name}_results.json'\n",
    "    !python pass_k.py $target_dir --output $output_file\n",
    "    print(f'Pass@k results saved to {output_file}')\n"
   ]
  },
  {
   "cell_type": "code",
   "execution_count": 2,
   "metadata": {},
   "outputs": [
    {
     "name": "stdout",
     "output_type": "stream",
     "text": [
      "Copied all files from c:\\Users\\Edin\\OneDrive - University of Edinburgh\\Study\\Sem3\\Project\\LLM-for-code-intelligence\\Generation\\runs\\ to ./src/\n",
      "codegen_350M_mono_humaneval_java_pass_at_10_gen_config\n",
      "codegen_350M_mono_humaneval_py_pass_at_10_gen_config\n",
      "codegen_350M_mono_humaneval_rb_pass_at_10_gen_config\n",
      "codegen_350M_mono_humaneval_rs_pass_at_10_gen_config\n",
      "codegen_350M_mono_humaneval_swift_pass_at_10_gen_config\n",
      "codegen_350M_multi_humaneval_java_pass_at_10_gen_config\n",
      "codegen_350M_multi_humaneval_py_pass_at_10_gen_config\n",
      "codegen_350M_multi_humaneval_rb_pass_at_10_gen_config\n",
      "codegen_350M_multi_humaneval_rs_pass_at_10_gen_config\n",
      "codegen_350M_multi_humaneval_swift_pass_at_10_gen_config\n",
      "codegen_java_LoRa_v7_run_1_checkpoint_10000_humaneval_java_pass_at_10_gen_config\n",
      "codegen_java_LoRa_v7_run_1_checkpoint_10000_humaneval_py_pass_at_10_gen_config\n",
      "codegen_java_LoRa_v7_run_1_checkpoint_10000_humaneval_rb_pass_at_10_gen_config\n",
      "codegen_java_LoRa_v7_run_1_checkpoint_10000_humaneval_rs_pass_at_10_gen_config\n",
      "codegen_java_LoRa_v7_run_1_checkpoint_10000_humaneval_swift_pass_at_10_gen_config\n",
      "codegen_java_LoRa_v7_run_1_checkpoint_2000_humaneval_java_pass_at_10_gen_config\n",
      "codegen_java_LoRa_v7_run_1_checkpoint_2000_humaneval_py_pass_at_10_gen_config\n",
      "codegen_java_LoRa_v7_run_1_checkpoint_3000_humaneval_java_pass_at_10_gen_config\n",
      "codegen_java_LoRa_v7_run_1_checkpoint_3000_humaneval_py_pass_at_10_gen_config\n",
      "codegen_java_LoRa_v7_run_1_checkpoint_5000_humaneval_java_pass_at_10_gen_config\n",
      "codegen_java_LoRa_v7_run_1_checkpoint_5000_humaneval_py_pass_at_10_gen_config\n",
      "codegen_java_LoRa_v7_run_1_checkpoint_6000_humaneval_java_pass_at_10_gen_config\n",
      "codegen_java_LoRa_v7_run_1_checkpoint_6000_humaneval_py_pass_at_10_gen_config\n",
      "codegen_java_LoRa_v7_run_1_checkpoint_7000_humaneval_java_pass_at_10_gen_config\n",
      "codegen_java_LoRa_v7_run_1_checkpoint_7000_humaneval_py_pass_at_10_gen_config\n",
      "codegen_java_LoRa_v7_run_1_checkpoint_8000_humaneval_java_pass_at_10_gen_config\n",
      "codegen_java_LoRa_v7_run_1_checkpoint_9000_humaneval_java_pass_at_10_gen_config\n",
      "codegen_ruby_LoRa_v7_run_1_checkpoint_10000_humaneval_java_pass_at_10_gen_config\n",
      "codegen_ruby_LoRa_v7_run_1_checkpoint_10000_humaneval_py_pass_at_10_gen_config\n",
      "codegen_ruby_LoRa_v7_run_1_checkpoint_10000_humaneval_rb_pass_at_10_gen_config\n",
      "codegen_ruby_LoRa_v7_run_1_checkpoint_10000_humaneval_rs_pass_at_10_gen_config\n",
      "codegen_ruby_LoRa_v7_run_1_checkpoint_10000_humaneval_swift_pass_at_10_gen_config\n",
      "codegen_ruby_LoRa_v7_run_1_checkpoint_1000_humaneval_rb_pass_at_10_gen_config\n",
      "codegen_ruby_LoRa_v7_run_1_checkpoint_2000_humaneval_rb_pass_at_10_gen_config\n",
      "codegen_ruby_LoRa_v7_run_1_checkpoint_3000_humaneval_rb_pass_at_10_gen_config\n",
      "codegen_ruby_LoRa_v7_run_1_checkpoint_4000_humaneval_rb_pass_at_10_gen_config\n",
      "codegen_ruby_LoRa_v7_run_1_checkpoint_5000_humaneval_rb_pass_at_10_gen_config\n",
      "codegen_ruby_LoRa_v7_run_1_checkpoint_6000_humaneval_rb_pass_at_10_gen_config\n",
      "codegen_ruby_LoRa_v7_run_1_checkpoint_7000_humaneval_rb_pass_at_10_gen_config\n",
      "codegen_ruby_LoRa_v7_run_1_checkpoint_8000_humaneval_rb_pass_at_10_gen_config\n",
      "codegen_ruby_LoRa_v7_run_1_checkpoint_9000_humaneval_rb_pass_at_10_gen_config\n",
      "codegen_rust_LoRa_v7_run_1_checkpoint_10000_humaneval_java_pass_at_10_gen_config\n",
      "codegen_rust_LoRa_v7_run_1_checkpoint_10000_humaneval_py_pass_at_10_gen_config\n",
      "codegen_rust_LoRa_v7_run_1_checkpoint_10000_humaneval_rb_pass_at_10_gen_config\n",
      "codegen_rust_LoRa_v7_run_1_checkpoint_10000_humaneval_rs_pass_at_10_gen_config\n",
      "codegen_rust_LoRa_v7_run_1_checkpoint_10000_humaneval_swift_pass_at_10_gen_config\n",
      "codegen_rust_LoRa_v7_run_1_checkpoint_1000_humaneval_rs_pass_at_10_gen_config\n",
      "codegen_rust_LoRa_v7_run_1_checkpoint_2000_humaneval_rs_pass_at_10_gen_config\n",
      "codegen_rust_LoRa_v7_run_1_checkpoint_3000_humaneval_rs_pass_at_10_gen_config\n",
      "codegen_rust_LoRa_v7_run_1_checkpoint_4000_humaneval_rs_pass_at_10_gen_config\n",
      "codegen_rust_LoRa_v7_run_1_checkpoint_5000_humaneval_rs_pass_at_10_gen_config\n",
      "codegen_rust_LoRa_v7_run_1_checkpoint_6000_humaneval_rs_pass_at_10_gen_config\n",
      "codegen_rust_LoRa_v7_run_1_checkpoint_7000_humaneval_rs_pass_at_10_gen_config\n",
      "codegen_rust_LoRa_v7_run_1_checkpoint_8000_humaneval_rs_pass_at_10_gen_config\n",
      "codegen_rust_LoRa_v7_run_1_checkpoint_9000_humaneval_rs_pass_at_10_gen_config\n",
      "codegen_swift_LoRa_v7_run_1_checkpoint_10000_humaneval_java_pass_at_10_gen_config\n",
      "codegen_swift_LoRa_v7_run_1_checkpoint_10000_humaneval_py_pass_at_10_gen_config\n",
      "codegen_swift_LoRa_v7_run_1_checkpoint_10000_humaneval_rb_pass_at_10_gen_config\n",
      "codegen_swift_LoRa_v7_run_1_checkpoint_10000_humaneval_rs_pass_at_10_gen_config\n",
      "codegen_swift_LoRa_v7_run_1_checkpoint_10000_humaneval_swift_pass_at_10_gen_config\n",
      "codegen_swift_LoRa_v7_run_1_checkpoint_2000_humaneval_swift_pass_at_10_gen_config\n",
      "codegen_swift_LoRa_v7_run_1_checkpoint_3000_humaneval_swift_pass_at_10_gen_config\n",
      "codegen_swift_LoRa_v7_run_1_checkpoint_4000_humaneval_swift_pass_at_10_gen_config\n",
      "codegen_swift_LoRa_v7_run_1_checkpoint_5000_humaneval_swift_pass_at_10_gen_config\n",
      "codegen_swift_LoRa_v7_run_1_checkpoint_6000_humaneval_swift_pass_at_10_gen_config\n",
      "codegen_swift_LoRa_v7_run_1_checkpoint_7000_humaneval_swift_pass_at_10_gen_config\n"
     ]
    }
   ],
   "source": [
    "copy_all_from_runs_to_src()\n",
    "\n",
    "exp_names = []\n",
    "my_folder = './src/'\n",
    "for file_name in os.listdir(my_folder):\n",
    "    exp_name = file_name.split('.jsonl')[0]\n",
    "    exp_names.append(exp_name)\n",
    "    print(exp_name)\n",
    "\n",
    "\n",
    "exp_names = [\n",
    "    'codegen_rust_LoRa_v7_run_1_checkpoint_10000_humaneval_java_pass_at_10_gen_config',\n",
    "    'codegen_rust_LoRa_v7_run_1_checkpoint_10000_humaneval_py_pass_at_10_gen_config',\n",
    "    'codegen_rust_LoRa_v7_run_1_checkpoint_10000_humaneval_rb_pass_at_10_gen_config',\n",
    "    'codegen_rust_LoRa_v7_run_1_checkpoint_10000_humaneval_rs_pass_at_10_gen_config',\n",
    "    'codegen_rust_LoRa_v7_run_1_checkpoint_10000_humaneval_swift_pass_at_10_gen_config',\n",
    "    \n",
    "    'codegen_java_LoRa_v7_run_1_checkpoint_10000_humaneval_java_pass_at_10_gen_config',\n",
    "    'codegen_java_LoRa_v7_run_1_checkpoint_10000_humaneval_py_pass_at_10_gen_config',\n",
    "    'codegen_java_LoRa_v7_run_1_checkpoint_10000_humaneval_rb_pass_at_10_gen_config',\n",
    "    'codegen_java_LoRa_v7_run_1_checkpoint_10000_humaneval_rs_pass_at_10_gen_config',\n",
    "    'codegen_java_LoRa_v7_run_1_checkpoint_10000_humaneval_swift_pass_at_10_gen_config',\n",
    "\n",
    "    'codegen_ruby_LoRa_v7_run_1_checkpoint_10000_humaneval_java_pass_at_10_gen_config',\n",
    "    'codegen_ruby_LoRa_v7_run_1_checkpoint_10000_humaneval_py_pass_at_10_gen_config',\n",
    "    'codegen_ruby_LoRa_v7_run_1_checkpoint_10000_humaneval_rb_pass_at_10_gen_config',\n",
    "    'codegen_ruby_LoRa_v7_run_1_checkpoint_10000_humaneval_rs_pass_at_10_gen_config',\n",
    "    'codegen_ruby_LoRa_v7_run_1_checkpoint_10000_humaneval_swift_pass_at_10_gen_config',\n",
    "\n",
    "\n",
    "    'codegen_swift_LoRa_v7_run_1_checkpoint_10000_humaneval_java_pass_at_10_gen_config',\n",
    "    'codegen_swift_LoRa_v7_run_1_checkpoint_10000_humaneval_py_pass_at_10_gen_config',\n",
    "    'codegen_swift_LoRa_v7_run_1_checkpoint_10000_humaneval_rb_pass_at_10_gen_config',\n",
    "    'codegen_swift_LoRa_v7_run_1_checkpoint_10000_humaneval_rs_pass_at_10_gen_config',\n",
    "    'codegen_swift_LoRa_v7_run_1_checkpoint_10000_humaneval_swift_pass_at_10_gen_config',\n",
    "    'codegen_350M_mono_humaneval_java_pass_at_10_gen_config',\n",
    "    'codegen_350M_mono_humaneval_py_pass_at_10_gen_config',\n",
    "    'codegen_350M_mono_humaneval_rb_pass_at_10_gen_config',\n",
    "    'codegen_350M_mono_humaneval_rs_pass_at_10_gen_config',\n",
    "    'codegen_350M_mono_humaneval_swift_pass_at_10_gen_config',\n",
    "\n",
    "    \n",
    "    'codegen_350M_multi_humaneval_java_pass_at_10_gen_config',\n",
    "    'codegen_350M_multi_humaneval_py_pass_at_10_gen_config',\n",
    "    'codegen_350M_multi_humaneval_rb_pass_at_10_gen_config',\n",
    "    'codegen_350M_multi_humaneval_rs_pass_at_10_gen_config',\n",
    "    'codegen_350M_multi_humaneval_swift_pass_at_10_gen_config',\n",
    "\n",
    "]"
   ]
  },
  {
   "cell_type": "code",
   "execution_count": 3,
   "metadata": {},
   "outputs": [
    {
     "name": "stdout",
     "output_type": "stream",
     "text": [
      "==================== Now running experiment: codegen_rust_LoRa_v7_run_1_checkpoint_10000_humaneval_java_pass_at_10_gen_config ====================\n"
     ]
    },
    {
     "name": "stderr",
     "output_type": "stream",
     "text": [
      "\n",
      "  0%|          | 0/1580 [00:00<?, ?jsonline/s]\n",
      "100%|██████████| 1580/1580 [00:00<00:00, 785748.20jsonline/s]\n"
     ]
    },
    {
     "name": "stdout",
     "output_type": "stream",
     "text": [
      "Done.\n",
      "Converted src/codegen_rust_LoRa_v7_run_1_checkpoint_10000_humaneval_java_pass_at_10_gen_config.jsonl to tgt/codegen_rust_LoRa_v7_run_1_checkpoint_10000_humaneval_java_pass_at_10_gen_config\n",
      "Dataset,Pass@k,Estimate,NumProblems,MinCompletions,MaxCompletions\n",
      "codegen_rust_LoRa_v7_run_1_checkpoint_10000_humaneval_java_pass_at_10_gen_config,10,0.0,158,10,10\n",
      "codegen_rust_LoRa_v7_run_1_checkpoint_10000_humaneval_java_pass_at_10_gen_config,100,1.0,158,10,10\n",
      "Saved results to res/codegen_rust_LoRa_v7_run_1_checkpoint_10000_humaneval_java_pass_at_10_gen_config_results.json\n",
      "Pass@k results saved to res/codegen_rust_LoRa_v7_run_1_checkpoint_10000_humaneval_java_pass_at_10_gen_config_results.json\n",
      "==================== Now running experiment: codegen_rust_LoRa_v7_run_1_checkpoint_10000_humaneval_py_pass_at_10_gen_config ====================\n",
      "Done.\n",
      "Converted src/codegen_rust_LoRa_v7_run_1_checkpoint_10000_humaneval_py_pass_at_10_gen_config.jsonl to tgt/codegen_rust_LoRa_v7_run_1_checkpoint_10000_humaneval_py_pass_at_10_gen_config\n"
     ]
    },
    {
     "name": "stderr",
     "output_type": "stream",
     "text": [
      "\n",
      "  0%|          | 0/1610 [00:00<?, ?jsonline/s]\n",
      "100%|██████████| 1610/1610 [00:00<00:00, 537175.20jsonline/s]\n"
     ]
    },
    {
     "name": "stdout",
     "output_type": "stream",
     "text": [
      "Dataset,Pass@k,Estimate,NumProblems,MinCompletions,MaxCompletions\n",
      "codegen_rust_LoRa_v7_run_1_checkpoint_10000_humaneval_py_pass_at_10_gen_config,10,0.006211180124223602,161,10,10\n",
      "codegen_rust_LoRa_v7_run_1_checkpoint_10000_humaneval_py_pass_at_10_gen_config,100,1.0,161,10,10\n",
      "Saved results to res/codegen_rust_LoRa_v7_run_1_checkpoint_10000_humaneval_py_pass_at_10_gen_config_results.json\n",
      "Pass@k results saved to res/codegen_rust_LoRa_v7_run_1_checkpoint_10000_humaneval_py_pass_at_10_gen_config_results.json\n",
      "==================== Now running experiment: codegen_rust_LoRa_v7_run_1_checkpoint_10000_humaneval_rb_pass_at_10_gen_config ====================\n"
     ]
    },
    {
     "name": "stderr",
     "output_type": "stream",
     "text": [
      "\n",
      "  0%|          | 0/1610 [00:00<?, ?jsonline/s]\n",
      "100%|██████████| 1610/1610 [00:00<00:00, 356011.67jsonline/s]\n"
     ]
    },
    {
     "name": "stdout",
     "output_type": "stream",
     "text": [
      "Done.\n",
      "Converted src/codegen_rust_LoRa_v7_run_1_checkpoint_10000_humaneval_rb_pass_at_10_gen_config.jsonl to tgt/codegen_rust_LoRa_v7_run_1_checkpoint_10000_humaneval_rb_pass_at_10_gen_config\n",
      "Dataset,Pass@k,Estimate,NumProblems,MinCompletions,MaxCompletions\n",
      "codegen_rust_LoRa_v7_run_1_checkpoint_10000_humaneval_rb_pass_at_10_gen_config,10,0.0,161,10,10\n",
      "codegen_rust_LoRa_v7_run_1_checkpoint_10000_humaneval_rb_pass_at_10_gen_config,100,1.0,161,10,10\n",
      "Saved results to res/codegen_rust_LoRa_v7_run_1_checkpoint_10000_humaneval_rb_pass_at_10_gen_config_results.json\n",
      "Pass@k results saved to res/codegen_rust_LoRa_v7_run_1_checkpoint_10000_humaneval_rb_pass_at_10_gen_config_results.json\n",
      "==================== Now running experiment: codegen_rust_LoRa_v7_run_1_checkpoint_10000_humaneval_rs_pass_at_10_gen_config ====================\n"
     ]
    },
    {
     "name": "stderr",
     "output_type": "stream",
     "text": [
      "\n",
      "  0%|          | 0/1560 [00:00<?, ?jsonline/s]\n",
      "100%|██████████| 1560/1560 [00:00<00:00, 521862.68jsonline/s]\n"
     ]
    },
    {
     "name": "stdout",
     "output_type": "stream",
     "text": [
      "Done.\n",
      "Converted src/codegen_rust_LoRa_v7_run_1_checkpoint_10000_humaneval_rs_pass_at_10_gen_config.jsonl to tgt/codegen_rust_LoRa_v7_run_1_checkpoint_10000_humaneval_rs_pass_at_10_gen_config\n",
      "Dataset,Pass@k,Estimate,NumProblems,MinCompletions,MaxCompletions\n",
      "codegen_rust_LoRa_v7_run_1_checkpoint_10000_humaneval_rs_pass_at_10_gen_config,10,0.04487179487179487,156,10,10\n",
      "codegen_rust_LoRa_v7_run_1_checkpoint_10000_humaneval_rs_pass_at_10_gen_config,100,1.0,156,10,10\n",
      "Saved results to res/codegen_rust_LoRa_v7_run_1_checkpoint_10000_humaneval_rs_pass_at_10_gen_config_results.json\n",
      "Pass@k results saved to res/codegen_rust_LoRa_v7_run_1_checkpoint_10000_humaneval_rs_pass_at_10_gen_config_results.json\n",
      "==================== Now running experiment: codegen_rust_LoRa_v7_run_1_checkpoint_10000_humaneval_swift_pass_at_10_gen_config ====================\n"
     ]
    },
    {
     "name": "stderr",
     "output_type": "stream",
     "text": [
      "\n",
      "  0%|          | 0/1610 [00:00<?, ?jsonline/s]\n",
      "100%|██████████| 1610/1610 [00:00<00:00, 396758.49jsonline/s]\n"
     ]
    },
    {
     "name": "stdout",
     "output_type": "stream",
     "text": [
      "Converted src/codegen_rust_LoRa_v7_run_1_checkpoint_10000_humaneval_swift_pass_at_10_gen_config.jsonl to tgt/codegen_rust_LoRa_v7_run_1_checkpoint_10000_humaneval_swift_pass_at_10_gen_configDone.\n",
      "\n",
      "Dataset,Pass@k,Estimate,NumProblems,MinCompletions,MaxCompletions\n",
      "codegen_rust_LoRa_v7_run_1_checkpoint_10000_humaneval_swift_pass_at_10_gen_config,10,0.006211180124223602,161,10,10\n",
      "codegen_rust_LoRa_v7_run_1_checkpoint_10000_humaneval_swift_pass_at_10_gen_config,100,1.0,161,10,10\n",
      "Saved results to res/codegen_rust_LoRa_v7_run_1_checkpoint_10000_humaneval_swift_pass_at_10_gen_config_results.json\n",
      "Pass@k results saved to res/codegen_rust_LoRa_v7_run_1_checkpoint_10000_humaneval_swift_pass_at_10_gen_config_results.json\n",
      "==================== Now running experiment: codegen_java_LoRa_v7_run_1_checkpoint_10000_humaneval_java_pass_at_10_gen_config ====================\n",
      "Done.\n",
      "Converted src/codegen_java_LoRa_v7_run_1_checkpoint_10000_humaneval_java_pass_at_10_gen_config.jsonl to tgt/codegen_java_LoRa_v7_run_1_checkpoint_10000_humaneval_java_pass_at_10_gen_config\n"
     ]
    },
    {
     "name": "stderr",
     "output_type": "stream",
     "text": [
      "\n",
      "  0%|          | 0/1580 [00:00<?, ?jsonline/s]\n",
      "100%|██████████| 1580/1580 [00:00<00:00, 389777.69jsonline/s]\n"
     ]
    },
    {
     "name": "stdout",
     "output_type": "stream",
     "text": [
      "Dataset,Pass@k,Estimate,NumProblems,MinCompletions,MaxCompletions\n",
      "codegen_java_LoRa_v7_run_1_checkpoint_10000_humaneval_java_pass_at_10_gen_config,10,0.08227848101265822,158,10,10\n",
      "codegen_java_LoRa_v7_run_1_checkpoint_10000_humaneval_java_pass_at_10_gen_config,100,1.0,158,10,10\n",
      "Saved results to res/codegen_java_LoRa_v7_run_1_checkpoint_10000_humaneval_java_pass_at_10_gen_config_results.json\n",
      "Pass@k results saved to res/codegen_java_LoRa_v7_run_1_checkpoint_10000_humaneval_java_pass_at_10_gen_config_results.json\n",
      "==================== Now running experiment: codegen_java_LoRa_v7_run_1_checkpoint_10000_humaneval_py_pass_at_10_gen_config ====================\n"
     ]
    },
    {
     "name": "stderr",
     "output_type": "stream",
     "text": [
      "\n",
      "  0%|          | 0/1610 [00:00<?, ?jsonline/s]\n",
      "100%|██████████| 1610/1610 [00:00<00:00, 796230.33jsonline/s]\n"
     ]
    },
    {
     "name": "stdout",
     "output_type": "stream",
     "text": [
      "Done.\n",
      "Converted src/codegen_java_LoRa_v7_run_1_checkpoint_10000_humaneval_py_pass_at_10_gen_config.jsonl to tgt/codegen_java_LoRa_v7_run_1_checkpoint_10000_humaneval_py_pass_at_10_gen_config\n",
      "Dataset,Pass@k,Estimate,NumProblems,MinCompletions,MaxCompletions\n",
      "codegen_java_LoRa_v7_run_1_checkpoint_10000_humaneval_py_pass_at_10_gen_config,10,0.024844720496894408,161,10,10\n",
      "codegen_java_LoRa_v7_run_1_checkpoint_10000_humaneval_py_pass_at_10_gen_config,100,1.0,161,10,10\n",
      "Saved results to res/codegen_java_LoRa_v7_run_1_checkpoint_10000_humaneval_py_pass_at_10_gen_config_results.json\n",
      "Pass@k results saved to res/codegen_java_LoRa_v7_run_1_checkpoint_10000_humaneval_py_pass_at_10_gen_config_results.json\n",
      "==================== Now running experiment: codegen_java_LoRa_v7_run_1_checkpoint_10000_humaneval_rb_pass_at_10_gen_config ====================\n"
     ]
    },
    {
     "name": "stderr",
     "output_type": "stream",
     "text": [
      "\n",
      "  0%|          | 0/1610 [00:00<?, ?jsonline/s]\n",
      "100%|██████████| 1610/1610 [00:00<00:00, 453392.60jsonline/s]\n"
     ]
    },
    {
     "name": "stdout",
     "output_type": "stream",
     "text": [
      "Done.\n",
      "Converted src/codegen_java_LoRa_v7_run_1_checkpoint_10000_humaneval_rb_pass_at_10_gen_config.jsonl to tgt/codegen_java_LoRa_v7_run_1_checkpoint_10000_humaneval_rb_pass_at_10_gen_config\n",
      "Dataset,Pass@k,Estimate,NumProblems,MinCompletions,MaxCompletionsPass@k results saved to res/codegen_java_LoRa_v7_run_1_checkpoint_10000_humaneval_rb_pass_at_10_gen_config_results.json\n",
      "==================== Now running experiment: codegen_java_LoRa_v7_run_1_checkpoint_10000_humaneval_rs_pass_at_10_gen_config ====================\n",
      "\n",
      "codegen_java_LoRa_v7_run_1_checkpoint_10000_humaneval_rb_pass_at_10_gen_config,10,0.0,161,10,10\n",
      "codegen_java_LoRa_v7_run_1_checkpoint_10000_humaneval_rb_pass_at_10_gen_config,100,1.0,161,10,10\n",
      "Saved results to res/codegen_java_LoRa_v7_run_1_checkpoint_10000_humaneval_rb_pass_at_10_gen_config_results.json\n"
     ]
    },
    {
     "name": "stderr",
     "output_type": "stream",
     "text": [
      "\n",
      "  0%|          | 0/1560 [00:00<?, ?jsonline/s]\n",
      "100%|██████████| 1560/1560 [00:00<00:00, 556908.18jsonline/s]\n"
     ]
    },
    {
     "name": "stdout",
     "output_type": "stream",
     "text": [
      "Done.\n",
      "Converted src/codegen_java_LoRa_v7_run_1_checkpoint_10000_humaneval_rs_pass_at_10_gen_config.jsonl to tgt/codegen_java_LoRa_v7_run_1_checkpoint_10000_humaneval_rs_pass_at_10_gen_config\n",
      "Dataset,Pass@k,Estimate,NumProblems,MinCompletions,MaxCompletions\n",
      "codegen_java_LoRa_v7_run_1_checkpoint_10000_humaneval_rs_pass_at_10_gen_config,10,0.01282051282051282,156,10,10\n",
      "codegen_java_LoRa_v7_run_1_checkpoint_10000_humaneval_rs_pass_at_10_gen_config,100,1.0,156,10,10\n",
      "Saved results to res/codegen_java_LoRa_v7_run_1_checkpoint_10000_humaneval_rs_pass_at_10_gen_config_results.json\n",
      "Pass@k results saved to res/codegen_java_LoRa_v7_run_1_checkpoint_10000_humaneval_rs_pass_at_10_gen_config_results.json\n",
      "==================== Now running experiment: codegen_java_LoRa_v7_run_1_checkpoint_10000_humaneval_swift_pass_at_10_gen_config ====================\n",
      "Done.\n",
      "Converted src/codegen_java_LoRa_v7_run_1_checkpoint_10000_humaneval_swift_pass_at_10_gen_config.jsonl to tgt/codegen_java_LoRa_v7_run_1_checkpoint_10000_humaneval_swift_pass_at_10_gen_config\n"
     ]
    },
    {
     "name": "stderr",
     "output_type": "stream",
     "text": [
      "\n",
      "  0%|          | 0/1610 [00:00<?, ?jsonline/s]\n",
      "100%|██████████| 1610/1610 [00:00<00:00, 456179.79jsonline/s]\n"
     ]
    },
    {
     "name": "stdout",
     "output_type": "stream",
     "text": [
      "Dataset,Pass@k,Estimate,NumProblems,MinCompletions,MaxCompletions\n",
      "codegen_java_LoRa_v7_run_1_checkpoint_10000_humaneval_swift_pass_at_10_gen_config,10,0.006211180124223602,161,10,10\n",
      "codegen_java_LoRa_v7_run_1_checkpoint_10000_humaneval_swift_pass_at_10_gen_config,100,1.0,161,10,10\n",
      "Saved results to res/codegen_java_LoRa_v7_run_1_checkpoint_10000_humaneval_swift_pass_at_10_gen_config_results.json\n",
      "Pass@k results saved to res/codegen_java_LoRa_v7_run_1_checkpoint_10000_humaneval_swift_pass_at_10_gen_config_results.json\n",
      "==================== Now running experiment: codegen_ruby_LoRa_v7_run_1_checkpoint_10000_humaneval_java_pass_at_10_gen_config ====================\n"
     ]
    },
    {
     "name": "stderr",
     "output_type": "stream",
     "text": [
      "\n",
      "  0%|          | 0/1580 [00:00<?, ?jsonline/s]\n",
      "100%|██████████| 1580/1580 [00:00<00:00, 382179.95jsonline/s]\n"
     ]
    },
    {
     "name": "stdout",
     "output_type": "stream",
     "text": [
      "Done.\n",
      "Converted src/codegen_ruby_LoRa_v7_run_1_checkpoint_10000_humaneval_java_pass_at_10_gen_config.jsonl to tgt/codegen_ruby_LoRa_v7_run_1_checkpoint_10000_humaneval_java_pass_at_10_gen_config\n",
      "Dataset,Pass@k,Estimate,NumProblems,MinCompletions,MaxCompletions\n",
      "codegen_ruby_LoRa_v7_run_1_checkpoint_10000_humaneval_java_pass_at_10_gen_config,10,0.012658227848101266,158,10,10\n",
      "codegen_ruby_LoRa_v7_run_1_checkpoint_10000_humaneval_java_pass_at_10_gen_config,100,1.0,158,10,10\n",
      "Saved results to res/codegen_ruby_LoRa_v7_run_1_checkpoint_10000_humaneval_java_pass_at_10_gen_config_results.json\n",
      "Pass@k results saved to res/codegen_ruby_LoRa_v7_run_1_checkpoint_10000_humaneval_java_pass_at_10_gen_config_results.json\n",
      "==================== Now running experiment: codegen_ruby_LoRa_v7_run_1_checkpoint_10000_humaneval_py_pass_at_10_gen_config ====================\n",
      "Done.\n",
      "Converted src/codegen_ruby_LoRa_v7_run_1_checkpoint_10000_humaneval_py_pass_at_10_gen_config.jsonl to tgt/codegen_ruby_LoRa_v7_run_1_checkpoint_10000_humaneval_py_pass_at_10_gen_config\n"
     ]
    },
    {
     "name": "stderr",
     "output_type": "stream",
     "text": [
      "\n",
      "  0%|          | 0/1610 [00:00<?, ?jsonline/s]\n",
      "100%|██████████| 1610/1610 [00:00<00:00, 534623.50jsonline/s]\n"
     ]
    },
    {
     "name": "stdout",
     "output_type": "stream",
     "text": [
      "Dataset,Pass@k,Estimate,NumProblems,MinCompletions,MaxCompletions\n",
      "codegen_ruby_LoRa_v7_run_1_checkpoint_10000_humaneval_py_pass_at_10_gen_config,10,0.0,161,10,10\n",
      "codegen_ruby_LoRa_v7_run_1_checkpoint_10000_humaneval_py_pass_at_10_gen_config,100,1.0,161,10,10\n",
      "Saved results to res/codegen_ruby_LoRa_v7_run_1_checkpoint_10000_humaneval_py_pass_at_10_gen_config_results.json\n",
      "Pass@k results saved to res/codegen_ruby_LoRa_v7_run_1_checkpoint_10000_humaneval_py_pass_at_10_gen_config_results.json\n",
      "==================== Now running experiment: codegen_ruby_LoRa_v7_run_1_checkpoint_10000_humaneval_rb_pass_at_10_gen_config ====================\n",
      "Done.\n",
      "Converted src/codegen_ruby_LoRa_v7_run_1_checkpoint_10000_humaneval_rb_pass_at_10_gen_config.jsonl to tgt/codegen_ruby_LoRa_v7_run_1_checkpoint_10000_humaneval_rb_pass_at_10_gen_config\n"
     ]
    },
    {
     "name": "stderr",
     "output_type": "stream",
     "text": [
      "\n",
      "  0%|          | 0/1610 [00:00<?, ?jsonline/s]\n",
      "100%|██████████| 1610/1610 [00:00<00:00, 579095.23jsonline/s]\n"
     ]
    },
    {
     "name": "stdout",
     "output_type": "stream",
     "text": [
      "Dataset,Pass@k,Estimate,NumProblems,MinCompletions,MaxCompletions\n",
      "codegen_ruby_LoRa_v7_run_1_checkpoint_10000_humaneval_rb_pass_at_10_gen_config,10,0.06832298136645963,161,10,10\n",
      "codegen_ruby_LoRa_v7_run_1_checkpoint_10000_humaneval_rb_pass_at_10_gen_config,100,1.0,161,10,10\n",
      "Saved results to res/codegen_ruby_LoRa_v7_run_1_checkpoint_10000_humaneval_rb_pass_at_10_gen_config_results.json\n",
      "Pass@k results saved to res/codegen_ruby_LoRa_v7_run_1_checkpoint_10000_humaneval_rb_pass_at_10_gen_config_results.json\n",
      "==================== Now running experiment: codegen_ruby_LoRa_v7_run_1_checkpoint_10000_humaneval_rs_pass_at_10_gen_config ====================\n",
      "Done.\n",
      "Converted src/codegen_ruby_LoRa_v7_run_1_checkpoint_10000_humaneval_rs_pass_at_10_gen_config.jsonl to tgt/codegen_ruby_LoRa_v7_run_1_checkpoint_10000_humaneval_rs_pass_at_10_gen_config\n"
     ]
    },
    {
     "name": "stderr",
     "output_type": "stream",
     "text": [
      "\n",
      "  0%|          | 0/1560 [00:00<?, ?jsonline/s]\n",
      "100%|██████████| 1560/1560 [00:00<00:00, 615880.48jsonline/s]\n"
     ]
    },
    {
     "name": "stdout",
     "output_type": "stream",
     "text": [
      "Dataset,Pass@k,Estimate,NumProblems,MinCompletions,MaxCompletions\n",
      "codegen_ruby_LoRa_v7_run_1_checkpoint_10000_humaneval_rs_pass_at_10_gen_config,10,0.00641025641025641,156,10,10\n",
      "codegen_ruby_LoRa_v7_run_1_checkpoint_10000_humaneval_rs_pass_at_10_gen_config,100,1.0,156,10,10\n",
      "Saved results to res/codegen_ruby_LoRa_v7_run_1_checkpoint_10000_humaneval_rs_pass_at_10_gen_config_results.json\n",
      "Pass@k results saved to res/codegen_ruby_LoRa_v7_run_1_checkpoint_10000_humaneval_rs_pass_at_10_gen_config_results.json\n",
      "==================== Now running experiment: codegen_ruby_LoRa_v7_run_1_checkpoint_10000_humaneval_swift_pass_at_10_gen_config ====================\n",
      "Done.\n",
      "Converted src/codegen_ruby_LoRa_v7_run_1_checkpoint_10000_humaneval_swift_pass_at_10_gen_config.jsonl to tgt/codegen_ruby_LoRa_v7_run_1_checkpoint_10000_humaneval_swift_pass_at_10_gen_config\n"
     ]
    },
    {
     "name": "stderr",
     "output_type": "stream",
     "text": [
      "\n",
      "  0%|          | 0/1610 [00:00<?, ?jsonline/s]\n",
      "100%|██████████| 1610/1610 [00:00<00:00, 617147.64jsonline/s]\n"
     ]
    },
    {
     "name": "stdout",
     "output_type": "stream",
     "text": [
      "Dataset,Pass@k,Estimate,NumProblems,MinCompletions,MaxCompletionsPass@k results saved to res/codegen_ruby_LoRa_v7_run_1_checkpoint_10000_humaneval_swift_pass_at_10_gen_config_results.json\n",
      "==================== Now running experiment: codegen_swift_LoRa_v7_run_1_checkpoint_10000_humaneval_java_pass_at_10_gen_config ====================\n",
      "\n",
      "codegen_ruby_LoRa_v7_run_1_checkpoint_10000_humaneval_swift_pass_at_10_gen_config,10,0.006211180124223602,161,10,10\n",
      "codegen_ruby_LoRa_v7_run_1_checkpoint_10000_humaneval_swift_pass_at_10_gen_config,100,1.0,161,10,10\n",
      "Saved results to res/codegen_ruby_LoRa_v7_run_1_checkpoint_10000_humaneval_swift_pass_at_10_gen_config_results.json\n",
      "Done.\n",
      "Converted src/codegen_swift_LoRa_v7_run_1_checkpoint_10000_humaneval_java_pass_at_10_gen_config.jsonl to tgt/codegen_swift_LoRa_v7_run_1_checkpoint_10000_humaneval_java_pass_at_10_gen_config\n"
     ]
    },
    {
     "name": "stderr",
     "output_type": "stream",
     "text": [
      "\n",
      "  0%|          | 0/1580 [00:00<?, ?jsonline/s]\n",
      "100%|██████████| 1580/1580 [00:00<00:00, 511066.58jsonline/s]\n"
     ]
    },
    {
     "name": "stdout",
     "output_type": "stream",
     "text": [
      "Dataset,Pass@k,Estimate,NumProblems,MinCompletions,MaxCompletions\n",
      "codegen_swift_LoRa_v7_run_1_checkpoint_10000_humaneval_java_pass_at_10_gen_config,10,0.0,158,10,10\n",
      "codegen_swift_LoRa_v7_run_1_checkpoint_10000_humaneval_java_pass_at_10_gen_config,100,1.0,158,10,10\n",
      "Saved results to res/codegen_swift_LoRa_v7_run_1_checkpoint_10000_humaneval_java_pass_at_10_gen_config_results.json\n",
      "Pass@k results saved to res/codegen_swift_LoRa_v7_run_1_checkpoint_10000_humaneval_java_pass_at_10_gen_config_results.json\n",
      "==================== Now running experiment: codegen_swift_LoRa_v7_run_1_checkpoint_10000_humaneval_py_pass_at_10_gen_config ====================\n"
     ]
    },
    {
     "name": "stderr",
     "output_type": "stream",
     "text": [
      "\n",
      "  0%|          | 0/1610 [00:00<?, ?jsonline/s]\n",
      "100%|██████████| 1610/1610 [00:00<00:00, 537047.04jsonline/s]\n"
     ]
    },
    {
     "name": "stdout",
     "output_type": "stream",
     "text": [
      "Done.\n",
      "Converted src/codegen_swift_LoRa_v7_run_1_checkpoint_10000_humaneval_py_pass_at_10_gen_config.jsonl to tgt/codegen_swift_LoRa_v7_run_1_checkpoint_10000_humaneval_py_pass_at_10_gen_config\n",
      "Dataset,Pass@k,Estimate,NumProblems,MinCompletions,MaxCompletions\n",
      "codegen_swift_LoRa_v7_run_1_checkpoint_10000_humaneval_py_pass_at_10_gen_config,10,0.012422360248447204,161,10,10\n",
      "codegen_swift_LoRa_v7_run_1_checkpoint_10000_humaneval_py_pass_at_10_gen_config,100,1.0,161,10,10\n",
      "Saved results to res/codegen_swift_LoRa_v7_run_1_checkpoint_10000_humaneval_py_pass_at_10_gen_config_results.json\n",
      "Pass@k results saved to res/codegen_swift_LoRa_v7_run_1_checkpoint_10000_humaneval_py_pass_at_10_gen_config_results.json\n",
      "==================== Now running experiment: codegen_swift_LoRa_v7_run_1_checkpoint_10000_humaneval_rb_pass_at_10_gen_config ====================\n"
     ]
    },
    {
     "name": "stderr",
     "output_type": "stream",
     "text": [
      "\n",
      "  0%|          | 0/1610 [00:00<?, ?jsonline/s]\n",
      "100%|██████████| 1610/1610 [00:00<00:00, 402169.58jsonline/s]\n"
     ]
    },
    {
     "name": "stdout",
     "output_type": "stream",
     "text": [
      "Done.\n",
      "Converted src/codegen_swift_LoRa_v7_run_1_checkpoint_10000_humaneval_rb_pass_at_10_gen_config.jsonl to tgt/codegen_swift_LoRa_v7_run_1_checkpoint_10000_humaneval_rb_pass_at_10_gen_config\n",
      "Dataset,Pass@k,Estimate,NumProblems,MinCompletions,MaxCompletionsPass@k results saved to res/codegen_swift_LoRa_v7_run_1_checkpoint_10000_humaneval_rb_pass_at_10_gen_config_results.json\n",
      "==================== Now running experiment: codegen_swift_LoRa_v7_run_1_checkpoint_10000_humaneval_rs_pass_at_10_gen_config ====================\n",
      "\n",
      "codegen_swift_LoRa_v7_run_1_checkpoint_10000_humaneval_rb_pass_at_10_gen_config,10,0.0,161,10,10\n",
      "codegen_swift_LoRa_v7_run_1_checkpoint_10000_humaneval_rb_pass_at_10_gen_config,100,1.0,161,10,10\n",
      "Saved results to res/codegen_swift_LoRa_v7_run_1_checkpoint_10000_humaneval_rb_pass_at_10_gen_config_results.json\n"
     ]
    },
    {
     "name": "stderr",
     "output_type": "stream",
     "text": [
      "\n",
      "  0%|          | 0/1560 [00:00<?, ?jsonline/s]\n",
      "100%|██████████| 1560/1560 [00:00<00:00, 503587.64jsonline/s]\n"
     ]
    },
    {
     "name": "stdout",
     "output_type": "stream",
     "text": [
      "Done.\n",
      "Converted src/codegen_swift_LoRa_v7_run_1_checkpoint_10000_humaneval_rs_pass_at_10_gen_config.jsonl to tgt/codegen_swift_LoRa_v7_run_1_checkpoint_10000_humaneval_rs_pass_at_10_gen_config\n",
      "Dataset,Pass@k,Estimate,NumProblems,MinCompletions,MaxCompletions\n",
      "codegen_swift_LoRa_v7_run_1_checkpoint_10000_humaneval_rs_pass_at_10_gen_config,10,0.01282051282051282,156,10,10\n",
      "codegen_swift_LoRa_v7_run_1_checkpoint_10000_humaneval_rs_pass_at_10_gen_config,100,1.0,156,10,10\n",
      "Saved results to res/codegen_swift_LoRa_v7_run_1_checkpoint_10000_humaneval_rs_pass_at_10_gen_config_results.json\n",
      "Pass@k results saved to res/codegen_swift_LoRa_v7_run_1_checkpoint_10000_humaneval_rs_pass_at_10_gen_config_results.json\n",
      "==================== Now running experiment: codegen_swift_LoRa_v7_run_1_checkpoint_10000_humaneval_swift_pass_at_10_gen_config ====================\n"
     ]
    },
    {
     "name": "stderr",
     "output_type": "stream",
     "text": [
      "\n",
      "  0%|          | 0/1610 [00:00<?, ?jsonline/s]\n",
      "100%|██████████| 1610/1610 [00:00<00:00, 394809.95jsonline/s]\n"
     ]
    },
    {
     "name": "stdout",
     "output_type": "stream",
     "text": [
      "Done.\n",
      "Converted src/codegen_swift_LoRa_v7_run_1_checkpoint_10000_humaneval_swift_pass_at_10_gen_config.jsonl to tgt/codegen_swift_LoRa_v7_run_1_checkpoint_10000_humaneval_swift_pass_at_10_gen_config\n",
      "Dataset,Pass@k,Estimate,NumProblems,MinCompletions,MaxCompletions\n",
      "codegen_swift_LoRa_v7_run_1_checkpoint_10000_humaneval_swift_pass_at_10_gen_config,10,0.06832298136645963,161,10,10\n",
      "codegen_swift_LoRa_v7_run_1_checkpoint_10000_humaneval_swift_pass_at_10_gen_config,100,1.0,161,10,10\n",
      "Saved results to res/codegen_swift_LoRa_v7_run_1_checkpoint_10000_humaneval_swift_pass_at_10_gen_config_results.json\n",
      "Pass@k results saved to res/codegen_swift_LoRa_v7_run_1_checkpoint_10000_humaneval_swift_pass_at_10_gen_config_results.json\n",
      "==================== Now running experiment: codegen_350M_mono_humaneval_java_pass_at_10_gen_config ====================\n"
     ]
    },
    {
     "name": "stderr",
     "output_type": "stream",
     "text": [
      "\n",
      "  0%|          | 0/1580 [00:00<?, ?jsonline/s]\n",
      "100%|██████████| 1580/1580 [00:00<00:00, 634709.35jsonline/s]\n"
     ]
    },
    {
     "name": "stdout",
     "output_type": "stream",
     "text": [
      "Done.\n",
      "Converted src/codegen_350M_mono_humaneval_java_pass_at_10_gen_config.jsonl to tgt/codegen_350M_mono_humaneval_java_pass_at_10_gen_config\n",
      "Dataset,Pass@k,Estimate,NumProblems,MinCompletions,MaxCompletions\n",
      "codegen_350M_mono_humaneval_java_pass_at_10_gen_config,10,0.0189873417721519,158,10,10\n",
      "codegen_350M_mono_humaneval_java_pass_at_10_gen_config,100,1.0,158,10,10\n",
      "Saved results to res/codegen_350M_mono_humaneval_java_pass_at_10_gen_config_results.json\n",
      "Pass@k results saved to res/codegen_350M_mono_humaneval_java_pass_at_10_gen_config_results.json\n",
      "==================== Now running experiment: codegen_350M_mono_humaneval_py_pass_at_10_gen_config ====================\n",
      "Done.\n",
      "Converted src/codegen_350M_mono_humaneval_py_pass_at_10_gen_config.jsonl to tgt/codegen_350M_mono_humaneval_py_pass_at_10_gen_config\n"
     ]
    },
    {
     "name": "stderr",
     "output_type": "stream",
     "text": [
      "\n",
      "  0%|          | 0/1610 [00:00<?, ?jsonline/s]\n",
      "100%|██████████| 1610/1610 [00:00<00:00, 629282.40jsonline/s]\n"
     ]
    },
    {
     "name": "stdout",
     "output_type": "stream",
     "text": [
      "Dataset,Pass@k,Estimate,NumProblems,MinCompletions,MaxCompletions\n",
      "codegen_350M_mono_humaneval_py_pass_at_10_gen_config,10,0.2236024844720497,161,10,10\n",
      "codegen_350M_mono_humaneval_py_pass_at_10_gen_config,100,1.0,161,10,10\n",
      "Saved results to res/codegen_350M_mono_humaneval_py_pass_at_10_gen_config_results.json\n",
      "Pass@k results saved to res/codegen_350M_mono_humaneval_py_pass_at_10_gen_config_results.json\n",
      "==================== Now running experiment: codegen_350M_mono_humaneval_rb_pass_at_10_gen_config ====================\n",
      "Done.\n",
      "Converted src/codegen_350M_mono_humaneval_rb_pass_at_10_gen_config.jsonl to tgt/codegen_350M_mono_humaneval_rb_pass_at_10_gen_config\n"
     ]
    },
    {
     "name": "stderr",
     "output_type": "stream",
     "text": [
      "\n",
      "  0%|          | 0/1610 [00:00<?, ?jsonline/s]\n",
      "100%|██████████| 1610/1610 [00:00<00:00, 522099.08jsonline/s]\n"
     ]
    },
    {
     "name": "stdout",
     "output_type": "stream",
     "text": [
      "Dataset,Pass@k,Estimate,NumProblems,MinCompletions,MaxCompletions\n",
      "codegen_350M_mono_humaneval_rb_pass_at_10_gen_config,10,0.0,161,10,10\n",
      "codegen_350M_mono_humaneval_rb_pass_at_10_gen_config,100,1.0,161,10,10\n",
      "Saved results to res/codegen_350M_mono_humaneval_rb_pass_at_10_gen_config_results.json\n",
      "Pass@k results saved to res/codegen_350M_mono_humaneval_rb_pass_at_10_gen_config_results.json\n",
      "==================== Now running experiment: codegen_350M_mono_humaneval_rs_pass_at_10_gen_config ====================\n",
      "Done.\n",
      "Converted src/codegen_350M_mono_humaneval_rs_pass_at_10_gen_config.jsonl to tgt/codegen_350M_mono_humaneval_rs_pass_at_10_gen_config\n"
     ]
    },
    {
     "name": "stderr",
     "output_type": "stream",
     "text": [
      "\n",
      "  0%|          | 0/1560 [00:00<?, ?jsonline/s]\n",
      "100%|██████████| 1560/1560 [00:00<00:00, 439459.62jsonline/s]\n"
     ]
    },
    {
     "name": "stdout",
     "output_type": "stream",
     "text": [
      "Dataset,Pass@k,Estimate,NumProblems,MinCompletions,MaxCompletions\n",
      "codegen_350M_mono_humaneval_rs_pass_at_10_gen_config,10,0.01282051282051282,156,10,10\n",
      "codegen_350M_mono_humaneval_rs_pass_at_10_gen_config,100,1.0,156,10,10\n",
      "Saved results to res/codegen_350M_mono_humaneval_rs_pass_at_10_gen_config_results.json\n",
      "Pass@k results saved to res/codegen_350M_mono_humaneval_rs_pass_at_10_gen_config_results.json\n",
      "==================== Now running experiment: codegen_350M_mono_humaneval_swift_pass_at_10_gen_config ====================\n",
      "Done.\n",
      "Converted src/codegen_350M_mono_humaneval_swift_pass_at_10_gen_config.jsonl to tgt/codegen_350M_mono_humaneval_swift_pass_at_10_gen_config\n"
     ]
    },
    {
     "name": "stderr",
     "output_type": "stream",
     "text": [
      "\n",
      "  0%|          | 0/1610 [00:00<?, ?jsonline/s]\n",
      "100%|██████████| 1610/1610 [00:00<00:00, 525225.90jsonline/s]\n"
     ]
    },
    {
     "name": "stdout",
     "output_type": "stream",
     "text": [
      "Dataset,Pass@k,Estimate,NumProblems,MinCompletions,MaxCompletions\n",
      "codegen_350M_mono_humaneval_swift_pass_at_10_gen_config,10,0.006211180124223602,161,10,10\n",
      "codegen_350M_mono_humaneval_swift_pass_at_10_gen_config,100,1.0,161,10,10\n",
      "Saved results to res/codegen_350M_mono_humaneval_swift_pass_at_10_gen_config_results.json\n",
      "Pass@k results saved to res/codegen_350M_mono_humaneval_swift_pass_at_10_gen_config_results.json\n",
      "==================== Now running experiment: codegen_350M_multi_humaneval_java_pass_at_10_gen_config ====================\n"
     ]
    },
    {
     "name": "stderr",
     "output_type": "stream",
     "text": [
      "\n",
      "  0%|          | 0/1580 [00:00<?, ?jsonline/s]\n",
      "100%|██████████| 1580/1580 [00:00<00:00, 516564.06jsonline/s]\n"
     ]
    },
    {
     "name": "stdout",
     "output_type": "stream",
     "text": [
      "Done.\n",
      "Converted src/codegen_350M_multi_humaneval_java_pass_at_10_gen_config.jsonl to tgt/codegen_350M_multi_humaneval_java_pass_at_10_gen_config\n",
      "Pass@k results saved to res/codegen_350M_multi_humaneval_java_pass_at_10_gen_config_results.json\n",
      "==================== Now running experiment: codegen_350M_multi_humaneval_py_pass_at_10_gen_config ====================\n",
      "Dataset,Pass@k,Estimate,NumProblems,MinCompletions,MaxCompletions\n",
      "codegen_350M_multi_humaneval_java_pass_at_10_gen_config,10,0.0759493670886076,158,10,10\n",
      "codegen_350M_multi_humaneval_java_pass_at_10_gen_config,100,1.0,158,10,10\n",
      "Saved results to res/codegen_350M_multi_humaneval_java_pass_at_10_gen_config_results.json\n"
     ]
    },
    {
     "name": "stderr",
     "output_type": "stream",
     "text": [
      "\n",
      "  0%|          | 0/1610 [00:00<?, ?jsonline/s]\n",
      "100%|██████████| 1610/1610 [00:00<00:00, 455318.55jsonline/s]\n"
     ]
    },
    {
     "name": "stdout",
     "output_type": "stream",
     "text": [
      "Done.\n",
      "Converted src/codegen_350M_multi_humaneval_py_pass_at_10_gen_config.jsonl to tgt/codegen_350M_multi_humaneval_py_pass_at_10_gen_config\n",
      "Dataset,Pass@k,Estimate,NumProblems,MinCompletions,MaxCompletions\n",
      "codegen_350M_multi_humaneval_py_pass_at_10_gen_config,10,0.12422360248447205,161,10,10\n",
      "codegen_350M_multi_humaneval_py_pass_at_10_gen_config,100,1.0,161,10,10\n",
      "Saved results to res/codegen_350M_multi_humaneval_py_pass_at_10_gen_config_results.json\n",
      "Pass@k results saved to res/codegen_350M_multi_humaneval_py_pass_at_10_gen_config_results.json\n",
      "==================== Now running experiment: codegen_350M_multi_humaneval_rb_pass_at_10_gen_config ====================\n"
     ]
    },
    {
     "name": "stderr",
     "output_type": "stream",
     "text": [
      "\n",
      "  0%|          | 0/1610 [00:00<?, ?jsonline/s]\n",
      "100%|██████████| 1610/1610 [00:00<00:00, 638082.72jsonline/s]\n"
     ]
    },
    {
     "name": "stdout",
     "output_type": "stream",
     "text": [
      "Done.\n",
      "Converted src/codegen_350M_multi_humaneval_rb_pass_at_10_gen_config.jsonl to tgt/codegen_350M_multi_humaneval_rb_pass_at_10_gen_config\n",
      "Dataset,Pass@k,Estimate,NumProblems,MinCompletions,MaxCompletions\n",
      "codegen_350M_multi_humaneval_rb_pass_at_10_gen_config,10,0.0,161,10,10\n",
      "codegen_350M_multi_humaneval_rb_pass_at_10_gen_config,100,1.0,161,10,10\n",
      "Saved results to res/codegen_350M_multi_humaneval_rb_pass_at_10_gen_config_results.json\n",
      "Pass@k results saved to res/codegen_350M_multi_humaneval_rb_pass_at_10_gen_config_results.json\n",
      "==================== Now running experiment: codegen_350M_multi_humaneval_rs_pass_at_10_gen_config ====================\n",
      "Done.\n",
      "Converted src/codegen_350M_multi_humaneval_rs_pass_at_10_gen_config.jsonl to tgt/codegen_350M_multi_humaneval_rs_pass_at_10_gen_config\n"
     ]
    },
    {
     "name": "stderr",
     "output_type": "stream",
     "text": [
      "\n",
      "  0%|          | 0/1560 [00:00<?, ?jsonline/s]\n",
      "100%|██████████| 1560/1560 [00:00<00:00, 607136.89jsonline/s]\n"
     ]
    },
    {
     "name": "stdout",
     "output_type": "stream",
     "text": [
      "Dataset,Pass@k,Estimate,NumProblems,MinCompletions,MaxCompletions\n",
      "codegen_350M_multi_humaneval_rs_pass_at_10_gen_config,10,0.00641025641025641,156,10,10\n",
      "codegen_350M_multi_humaneval_rs_pass_at_10_gen_config,100,1.0,156,10,10\n",
      "Saved results to res/codegen_350M_multi_humaneval_rs_pass_at_10_gen_config_results.json\n",
      "Pass@k results saved to res/codegen_350M_multi_humaneval_rs_pass_at_10_gen_config_results.json\n",
      "==================== Now running experiment: codegen_350M_multi_humaneval_swift_pass_at_10_gen_config ====================\n"
     ]
    },
    {
     "name": "stderr",
     "output_type": "stream",
     "text": [
      "\n",
      "  0%|          | 0/1610 [00:00<?, ?jsonline/s]\n",
      "100%|██████████| 1610/1610 [00:00<00:00, 454919.80jsonline/s]\n"
     ]
    },
    {
     "name": "stdout",
     "output_type": "stream",
     "text": [
      "Converted src/codegen_350M_multi_humaneval_swift_pass_at_10_gen_config.jsonl to tgt/codegen_350M_multi_humaneval_swift_pass_at_10_gen_configDone.\n",
      "\n",
      "Dataset,Pass@k,Estimate,NumProblems,MinCompletions,MaxCompletionsPass@k results saved to res/codegen_350M_multi_humaneval_swift_pass_at_10_gen_config_results.json\n",
      "\n",
      "codegen_350M_multi_humaneval_swift_pass_at_10_gen_config,10,0.006211180124223602,161,10,10\n",
      "codegen_350M_multi_humaneval_swift_pass_at_10_gen_config,100,1.0,161,10,10\n",
      "Saved results to res/codegen_350M_multi_humaneval_swift_pass_at_10_gen_config_results.json\n"
     ]
    }
   ],
   "source": [
    "def run_all(exp_name):\n",
    "    print(f'{\"=\"*20} Now running experiment: {exp_name} {\"=\"*20}')\n",
    "    success = convert_to_pre_eval(exp_name)\n",
    "    if not success:\n",
    "        print(f'{\"=\"*20} Experiment: {exp_name} failed to convert to pre-eval format. Skipping {\"=\"*20}')\n",
    "        return\n",
    "    run_evaluation(exp_name, run_cmd=True, shell_script_path='run_eval.sh')\n",
    "    run_pass_k(exp_name)\n",
    "    \n",
    "for exp_name in exp_names:\n",
    "    run_all(exp_name)\n",
    "\n"
   ]
  },
  {
   "attachments": {},
   "cell_type": "markdown",
   "metadata": {},
   "source": [
    "#### Visualize the results"
   ]
  },
  {
   "cell_type": "code",
   "execution_count": 1,
   "metadata": {},
   "outputs": [
    {
     "data": {
      "image/png": "[encoded data removed]",
      "text/plain": [
       "<Figure size 1570x427 with 1 Axes>"
      ]
     },
     "metadata": {},
     "output_type": "display_data"
    }
   ],
   "source": [
    "import json\n",
    "import pandas as pd\n",
    "import numpy as np\n",
    "import matplotlib.pyplot as plt\n",
    "import os\n",
    "import seaborn as sns\n",
    "sns.set(rc={'figure.figsize':(11.7,8.27)})\n",
    "\n",
    "#get all the results files in the res folder\n",
    "results_files = [f for f in os.listdir('res') if os.path.isfile(os.path.join('res', f))]\n",
    "\n",
    "#load all the results files into a dictionary\n",
    "results = {}\n",
    "for f in results_files:\n",
    "    with open(os.path.join('res', f)) as json_file:\n",
    "        results[f] = json.load(json_file)\n",
    "model_names_dict = {\n",
    "    \n",
    "    'codegen_350M_mono_humaneval_py_pass_at_10_gen_config': 'Baseline-mono',\n",
    "    'codegen_350M_mono_humaneval_java_pass_at_10_gen_config': 'Baseline-mono',\n",
    "    'codegen_350M_mono_humaneval_rb_pass_at_10_gen_config': 'Baseline-mono',\n",
    "    'codegen_350M_mono_humaneval_rs_pass_at_10_gen_config': 'Baseline-mono',\n",
    "    'codegen_350M_mono_humaneval_swift_pass_at_10_gen_config': 'Baseline-mono',\n",
    "    \n",
    "    \n",
    "\n",
    "    'codegen_350M_multi_humaneval_py_pass_at_10_gen_config': 'Baseline-multi',\n",
    "    'codegen_350M_multi_humaneval_java_pass_at_10_gen_config': 'Baseline-multi',\n",
    "    'codegen_350M_multi_humaneval_rb_pass_at_10_gen_config': 'Baseline-multi',\n",
    "    'codegen_350M_multi_humaneval_rs_pass_at_10_gen_config': 'Baseline-multi',\n",
    "    'codegen_350M_multi_humaneval_swift_pass_at_10_gen_config': 'Baseline-multi',\n",
    "    \n",
    "\n",
    "    'codegen_java_LoRa_v7_run_1_checkpoint_10000_humaneval_java_pass_at_10_gen_config': 'LoRa-Java',\n",
    "    'codegen_java_LoRa_v7_run_1_checkpoint_10000_humaneval_py_pass_at_10_gen_config': 'LoRa-Java',\n",
    "    'codegen_java_LoRa_v7_run_1_checkpoint_10000_humaneval_rb_pass_at_10_gen_config': 'LoRa-Java',\n",
    "    'codegen_java_LoRa_v7_run_1_checkpoint_10000_humaneval_rs_pass_at_10_gen_config': 'LoRa-Java',\n",
    "    'codegen_java_LoRa_v7_run_1_checkpoint_10000_humaneval_swift_pass_at_10_gen_config': 'LoRa-Java',\n",
    "\n",
    "    \n",
    "    'codegen_ruby_LoRa_v7_run_1_checkpoint_10000_humaneval_rb_pass_at_10_gen_config': 'LoRa-Ruby',\n",
    "    'codegen_ruby_LoRa_v7_run_1_checkpoint_10000_humaneval_py_pass_at_10_gen_config': 'LoRa-Ruby',\n",
    "    'codegen_ruby_LoRa_v7_run_1_checkpoint_10000_humaneval_rs_pass_at_10_gen_config': 'LoRa-Ruby',\n",
    "    'codegen_ruby_LoRa_v7_run_1_checkpoint_10000_humaneval_java_pass_at_10_gen_config': 'LoRa-Ruby',\n",
    "    'codegen_ruby_LoRa_v7_run_1_checkpoint_10000_humaneval_swift_pass_at_10_gen_config': 'LoRa-Ruby',\n",
    "\n",
    "\n",
    "    'codegen_rust_LoRa_v7_run_1_checkpoint_10000_humaneval_rs_pass_at_10_gen_config': 'LoRa-Rust',\n",
    "    'codegen_rust_LoRa_v7_run_1_checkpoint_10000_humaneval_py_pass_at_10_gen_config': 'LoRa-Rust',\n",
    "    'codegen_rust_LoRa_v7_run_1_checkpoint_10000_humaneval_rb_pass_at_10_gen_config': 'LoRa-Rust',\n",
    "    'codegen_rust_LoRa_v7_run_1_checkpoint_10000_humaneval_java_pass_at_10_gen_config': 'LoRa-Rust',\n",
    "    'codegen_rust_LoRa_v7_run_1_checkpoint_10000_humaneval_swift_pass_at_10_gen_config': 'LoRa-Rust',\n",
    "\n",
    "\n",
    "    'codegen_swift_LoRa_v7_run_1_checkpoint_10000_humaneval_swift_pass_at_10_gen_config': 'LoRa-Swift',\n",
    "    'codegen_swift_LoRa_v7_run_1_checkpoint_10000_humaneval_py_pass_at_10_gen_config': 'LoRa-Swift',\n",
    "    'codegen_swift_LoRa_v7_run_1_checkpoint_10000_humaneval_rb_pass_at_10_gen_config': 'LoRa-Swift',\n",
    "    'codegen_swift_LoRa_v7_run_1_checkpoint_10000_humaneval_rs_pass_at_10_gen_config': 'LoRa-Swift',\n",
    "    'codegen_swift_LoRa_v7_run_1_checkpoint_10000_humaneval_java_pass_at_10_gen_config': 'LoRa-Swift',\n",
    "    \n",
    "}\n",
    "\n",
    "\n",
    "#Merge all the results into a single dataframe\n",
    "dict_df = { 'model': [], 'dataset': [], 'pass@10': [], 'pass@100': [], 'num_problems': [], 'min_completions': [], 'max_completions': [], 'programming_language': []}\n",
    "\n",
    "for model in results.keys():\n",
    "    model_results = results[model]\n",
    "    model_name = model.split('_results.json')[0]\n",
    "    if model_name in model_names_dict.keys():\n",
    "        model_name = model_names_dict[model_name]\n",
    "    else:\n",
    "        # print('Model name not found in dict: ' + model_name)\n",
    "        continue\n",
    "    dataset_name = model_results['pass@10']['dataset']\n",
    "    pass_10 = model_results['pass@10']['estimate']\n",
    "    pass_100 = model_results['pass@100']['estimate']\n",
    "    num_problems = model_results['pass@10']['num_problems']\n",
    "    min_completions = model_results['pass@10']['min_completions']\n",
    "    max_completions = model_results['pass@10']['max_completions']\n",
    "    if 'humaneval_py' in dataset_name:\n",
    "        programming_language = 'python'\n",
    "    elif 'humaneval_java' in dataset_name:\n",
    "        programming_language = 'java'\n",
    "    elif 'humaneval_rs' in dataset_name:\n",
    "        programming_language = 'rust'\n",
    "    elif 'humaneval_rb' in dataset_name:\n",
    "        programming_language = 'ruby'\n",
    "    elif 'humaneval_swift' in dataset_name:\n",
    "        programming_language = 'swift'\n",
    "    else:\n",
    "        programming_language = 'unknown'\n",
    "    dict_df['model'].append(model_name)\n",
    "    dict_df['dataset'].append(dataset_name)\n",
    "    dict_df['pass@10'].append(pass_10)\n",
    "    dict_df['pass@100'].append(pass_100)\n",
    "    dict_df['num_problems'].append(num_problems)\n",
    "    dict_df['min_completions'].append(min_completions)\n",
    "    dict_df['max_completions'].append(max_completions)\n",
    "    dict_df['programming_language'].append(programming_language)\n",
    "\n",
    "df = pd.DataFrame(dict_df)\n",
    "df = df.drop(columns=['dataset'])\n",
    "df = df.drop(columns=['min_completions', 'max_completions'])\n",
    "df = df[df['model'] != 'LoRa-V3-2000']\n",
    "df = df[df['model'] != 'LoRa-V5-1000']\n",
    "df['pass@10'] = df['pass@10'] * 100\n",
    "df['pass@100'] = df['pass@100'] * 100\n",
    "\n",
    "df = df.rename(columns={'programming_language': 'Programming Language'})\n",
    "df = df.rename(columns={'model': 'Model'})\n",
    "df = df.rename(columns={'pass@10': 'Pass@10'})\n",
    "df = df.rename(columns={'pass@100': 'Pass@100'})\n",
    "\n",
    "df['Programming Language'] = df['Programming Language'].replace({'java': 'Java', 'python': 'Python'})\n",
    "\n",
    "#Sort the dataframe by the model name\n",
    "df = df.sort_values(by=['Model'])\n",
    "\n",
    "#Set the pass type to plot\n",
    "pass_type = 'Pass@10'\n",
    "\n",
    "\n",
    "#Plot the results\n",
    "#Set the style\n",
    "sns.set_theme(style=\"whitegrid\")\n",
    "#Set the plot size\n",
    "sns.set(rc={'figure.figsize':(15.7,4.27)})\n",
    "ax = sns.barplot(x=\"Model\", y=pass_type, hue=\"Programming Language\", data=df)\n",
    "ax.set_xticklabels(ax.get_xticklabels(), rotation=0)\n",
    "#set the y axis to start at 0 and end at 50\n",
    "plt.ylim(0, 50)\n",
    "#writer the y values on top of the bars\n",
    "for p in ax.patches:\n",
    "    height = p.get_height()\n",
    "    ax.text(p.get_x()+p.get_width()/2.,\n",
    "            height + 0.01,\n",
    "            '{:1.2f}'.format(height),\n",
    "            ha=\"center\")\n",
    "#Add a title in bigger font\n",
    "plt.title(f'{pass_type} for the different models', fontsize=20)\n",
    "\n",
    "fig_name = f'final_pass_at_10.pdf'\n",
    "plt.savefig(fig_name, bbox_inches='tight')\n",
    "plt.show()\n",
    "\n"
   ]
  },
  {
   "cell_type": "code",
   "execution_count": 2,
   "metadata": {},
   "outputs": [
    {
     "data": {
      "image/png": "[encoded data removed]",
      "text/plain": [
       "<Figure size 2370x627 with 1 Axes>"
      ]
     },
     "metadata": {},
     "output_type": "display_data"
    }
   ],
   "source": [
    "sns.set(rc={'figure.figsize':(23.7,6.27)})\n",
    "ax = sns.barplot(x=\"Model\", y=pass_type, hue=\"Programming Language\", data=df)\n",
    "ax.set_xticklabels(ax.get_xticklabels(), rotation=0)\n",
    "#set the y axis to start at 0 and end at 50\n",
    "plt.ylim(0, 25)\n",
    "#writer the y values on top of the bars\n",
    "for p in ax.patches:\n",
    "    height = p.get_height()\n",
    "    ax.text(p.get_x()+p.get_width()/2.,\n",
    "            height + 0.01,\n",
    "            '{:1.2f}'.format(height),\n",
    "            ha=\"center\")\n",
    "#Add a title in bigger font\n",
    "plt.title(f'{pass_type} for the Different Models', fontsize=20)\n",
    "\n",
    "fig_name = f'final_pass_at_10.pdf'\n",
    "plt.savefig(fig_name, bbox_inches='tight')\n",
    "plt.show()\n"
   ]
  },
  {
   "cell_type": "code",
   "execution_count": null,
   "metadata": {},
   "outputs": [],
   "source": [
    "# df where programming language is Python\n",
    "df_python = df[df['Programming Language'] == 'Python']\n",
    "\n",
    "# df where programming language is Java\n",
    "df_java = df[df['Programming Language'] == 'Java']\n",
    "\n",
    "# df_python\n",
    "# df_java\n",
    "df"
   ]
  },
  {
   "cell_type": "code",
   "execution_count": null,
   "metadata": {},
   "outputs": [],
   "source": []
  }
 ],
 "metadata": {
  "kernelspec": {
   "display_name": "amazon",
   "language": "python",
   "name": "python3"
  },
  "language_info": {
   "codemirror_mode": {
    "name": "ipython",
    "version": 3
   },
   "file_extension": ".py",
   "mimetype": "text/x-python",
   "name": "python",
   "nbconvert_exporter": "python",
   "pygments_lexer": "ipython3",
   "version": "3.9.16"
  },
  "orig_nbformat": 4
 },
 "nbformat": 4,
 "nbformat_minor": 2
}
