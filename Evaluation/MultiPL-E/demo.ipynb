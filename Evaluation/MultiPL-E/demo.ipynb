{
 "cells": [
  {
   "cell_type": "code",
   "execution_count": null,
   "metadata": {},
   "outputs": [],
   "source": [
    "exp_name = 'codegen-350M-mon_fullFTthestack_pass100x200_python'\n",
    "sf = f'src/{exp_name}.jsonl'\n",
    "td = f'tgt/{exp_name.replace(\"-\", \"\")}'\n",
    "!python convert_to_pre_eval.py --source_file $sf --target_dir $td\n"
   ]
  },
  {
   "cell_type": "code",
   "execution_count": null,
   "metadata": {},
   "outputs": [],
   "source": [
    "import subprocess\n",
    "sf = f'src/{exp_name}.jsonl'\n",
    "td = f'tgt/{exp_name.replace(\"-\", \"\")}'\n",
    "eval_cmd = f\"podman run --rm --network none -v ./{td}:/{td}:rw multipl-e-eval --dir /{td} --output-dir /{td} --recursive\"\n",
    "subprocess.run(eval_cmd, shell=True)\n"
   ]
  },
  {
   "cell_type": "code",
   "execution_count": null,
   "metadata": {},
   "outputs": [],
   "source": [
    "sf = f'src/{exp_name}.jsonl'\n",
    "td = f'tgt/{exp_name.replace(\"-\", \"\")}'\n",
    "target_dir = f'{td}'\n",
    "output_file = f'res/{exp_name}_results.json'\n",
    "!python pass_k.py $target_dir --output $output_file"
   ]
  },
  {
   "cell_type": "code",
   "execution_count": null,
   "metadata": {},
   "outputs": [],
   "source": []
  }
 ],
 "metadata": {
  "kernelspec": {
   "display_name": "amazon",
   "language": "python",
   "name": "python3"
  },
  "language_info": {
   "codemirror_mode": {
    "name": "ipython",
    "version": 3
   },
   "file_extension": ".py",
   "mimetype": "text/x-python",
   "name": "python",
   "nbconvert_exporter": "python",
   "pygments_lexer": "ipython3",
   "version": "3.9.16"
  },
  "orig_nbformat": 4
 },
 "nbformat": 4,
 "nbformat_minor": 2
}
