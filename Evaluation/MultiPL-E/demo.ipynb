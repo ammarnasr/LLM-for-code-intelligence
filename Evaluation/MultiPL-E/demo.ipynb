{
 "cells": [
  {
   "cell_type": "code",
   "execution_count": 1,
   "metadata": {},
   "outputs": [
    {
     "name": "stdout",
     "output_type": "stream",
     "text": [
      "Done.\n"
     ]
    },
    {
     "name": "stderr",
     "output_type": "stream",
     "text": [
      "\n",
      "  0%|          | 0/7200 [00:00<?, ?jsonline/s]\n",
      "100%|██████████| 7200/7200 [00:00<00:00, 899850.68jsonline/s]\n"
     ]
    }
   ],
   "source": [
    "exp_name = 'codegen-350M-mon_fullFTthestack_pass100x200_python'\n",
    "sf = f'src/{exp_name}.jsonl'\n",
    "td = f'tgt/{exp_name.replace(\"-\", \"\")}'\n",
    "!python convert_to_pre_eval.py --source_file $sf --target_dir $td\n"
   ]
  },
  {
   "cell_type": "code",
   "execution_count": 2,
   "metadata": {},
   "outputs": [
    {
     "data": {
      "text/plain": [
       "CompletedProcess(args='podman run --rm --network none -v ./tgt/codegen350Mmon_fullFTthestack_pass100x200_python:/tgt/codegen350Mmon_fullFTthestack_pass100x200_python:rw multipl-e-eval --dir /tgt/codegen350Mmon_fullFTthestack_pass100x200_python --output-dir /tgt/codegen350Mmon_fullFTthestack_pass100x200_python --recursive', returncode=0)"
      ]
     },
     "execution_count": 2,
     "metadata": {},
     "output_type": "execute_result"
    }
   ],
   "source": [
    "import subprocess\n",
    "sf = f'src/{exp_name}.jsonl'\n",
    "td = f'tgt/{exp_name.replace(\"-\", \"\")}'\n",
    "eval_cmd = f\"podman run --rm --network none -v ./{td}:/{td}:rw multipl-e-eval --dir /{td} --output-dir /{td} --recursive\"\n",
    "subprocess.run(eval_cmd, shell=True)\n"
   ]
  },
  {
   "cell_type": "code",
   "execution_count": 3,
   "metadata": {},
   "outputs": [
    {
     "name": "stdout",
     "output_type": "stream",
     "text": [
      "Dataset,Pass@k,Estimate,NumProblems,MinCompletions,MaxCompletions\n",
      "Reading results from tgt/codegen350Mmon_fullFTthestack_pass100x200_python...\n",
      "And saving results to res/codegen-350M-mon_fullFTthestack_pass100x200_python_results.json...\n",
      "Read 8 results\n",
      "Sample result: {'pass@1': 0.0, 'pass@10': 0.0, 'pass@100': 0.0, 'n': 400, 'temperature': 0.8}\n",
      "codegen350Mmon_fullFTthestack_pass100x200_python,10,0.060441859070631584,8,200,1600\n",
      "codegen350Mmon_fullFTthestack_pass100x200_python,100,0.18717958209195942,8,200,1600\n",
      "{'pass@10': {'dataset': 'codegen350Mmon_fullFTthestack_pass100x200_python',\n",
      "             'estimate': 0.060441859070631584,\n",
      "             'max_completions': 1600,\n",
      "             'min_completions': 200,\n",
      "             'num_problems': 8,\n",
      "             'pass@k': 10},\n",
      " 'pass@100': {'dataset': 'codegen350Mmon_fullFTthestack_pass100x200_python',\n",
      "              'estimate': 0.18717958209195942,\n",
      "              'max_completions': 1600,\n",
      "              'min_completions': 200,\n",
      "              'num_problems': 8,\n",
      "              'pass@k': 100}}\n",
      "Saved results to res/codegen-350M-mon_fullFTthestack_pass100x200_python_results.json\n"
     ]
    }
   ],
   "source": [
    "sf = f'src/{exp_name}.jsonl'\n",
    "td = f'tgt/{exp_name.replace(\"-\", \"\")}'\n",
    "target_dir = f'{td}'\n",
    "output_file = f'res/{exp_name}_results.json'\n",
    "!python pass_k.py $target_dir --output $output_file"
   ]
  },
  {
   "cell_type": "code",
   "execution_count": null,
   "metadata": {},
   "outputs": [],
   "source": []
  }
 ],
 "metadata": {
  "kernelspec": {
   "display_name": "amazon",
   "language": "python",
   "name": "python3"
  },
  "language_info": {
   "codemirror_mode": {
    "name": "ipython",
    "version": 3
   },
   "file_extension": ".py",
   "mimetype": "text/x-python",
   "name": "python",
   "nbconvert_exporter": "python",
   "pygments_lexer": "ipython3",
   "version": "3.9.16"
  },
  "orig_nbformat": 4
 },
 "nbformat": 4,
 "nbformat_minor": 2
}
