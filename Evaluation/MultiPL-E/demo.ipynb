{
 "cells": [
  {
   "cell_type": "code",
   "execution_count": 9,
   "metadata": {},
   "outputs": [],
   "source": [
    "# exp_name = 'codegen_350M_mono_humaneval_py'\n",
    "exp_name = 'codegen_350M_mono_humaneval_java'\n",
    "# exp_name = 'codegen_350M_mono_the_stack_dedup_java_train_peft_humaneval_java'\n",
    "sf = f'src/{exp_name}.jsonl'\n",
    "td = f'tgt/{exp_name.replace(\"-\", \"\")}'\n",
    "# !python convert_to_pre_eval.py --source_file $sf --target_dir $td\n"
   ]
  },
  {
   "cell_type": "code",
   "execution_count": 10,
   "metadata": {},
   "outputs": [
    {
     "name": "stdout",
     "output_type": "stream",
     "text": [
      "### EVALUATION COMMAND ###\n",
      "# podman run --rm --network none -v ./tgt/codegen_350M_mono_humaneval_java:/tgt/codegen_350M_mono_humaneval_java:rw multipl-e-eval --dir /tgt/codegen_350M_mono_humaneval_java --output-dir /tgt/codegen_350M_mono_humaneval_java --recursive\n",
      "### EVALUATION COMMAND ###\n"
     ]
    }
   ],
   "source": [
    "# import subprocess\n",
    "sf = f'src/{exp_name}.jsonl'\n",
    "td = f'tgt/{exp_name.replace(\"-\", \"\")}'\n",
    "eval_cmd = f\"podman run --rm --network none -v ./{td}:/{td}:rw multipl-e-eval --dir /{td} --output-dir /{td} --recursive\"\n",
    "\n",
    "\n",
    "# # subprocess.run(eval_cmd, shell=True)\n",
    "print(\"### EVALUATION COMMAND ###\")\n",
    "print('#',eval_cmd)\n",
    "print(\"### EVALUATION COMMAND ###\")\n"
   ]
  },
  {
   "cell_type": "code",
   "execution_count": 11,
   "metadata": {},
   "outputs": [],
   "source": [
    "### EVALUATION COMMAND ###\n",
    "# podman run --rm --network none -v ./tgt/codegen_350M_mono_humaneval_java:/tgt/codegen_350M_mono_humaneval_java:rw multipl-e-eval --dir /tgt/codegen_350M_mono_humaneval_java --output-dir /tgt/codegen_350M_mono_humaneval_java --recursive\n",
    "### EVALUATION COMMAND ###"
   ]
  },
  {
   "cell_type": "code",
   "execution_count": 12,
   "metadata": {},
   "outputs": [
    {
     "name": "stdout",
     "output_type": "stream",
     "text": [
      "Dataset,Pass@k,Estimate,NumProblems,MinCompletions,MaxCompletions\n",
      "Reading results from tgt/codegen_350M_mono_humaneval_java...\n",
      "And saving results to res/codegen_350M_mono_humaneval_java_results.json...\n",
      "====================\n",
      "For file tgt\\codegen_350M_mono_humaneval_java\\HumanEval_23_strlen.results.json n = 200 and c = 28\n",
      "====================\n",
      "====================\n",
      "For file tgt\\codegen_350M_mono_humaneval_java\\HumanEval_24_largest_divisor.results.json n = 200 and c = 1\n",
      "====================\n",
      "====================\n",
      "For file tgt\\codegen_350M_mono_humaneval_java\\HumanEval_28_concatenate.results.json n = 200 and c = 3\n",
      "====================\n",
      "====================\n",
      "For file tgt\\codegen_350M_mono_humaneval_java\\HumanEval_31_is_prime.results.json n = 200 and c = 14\n",
      "====================\n",
      "====================\n",
      "For file tgt\\codegen_350M_mono_humaneval_java\\HumanEval_35_max_element.results.json n = 200 and c = 1\n",
      "====================\n",
      "====================\n",
      "For file tgt\\codegen_350M_mono_humaneval_java\\HumanEval_41_car_race_collision.results.json n = 200 and c = 3\n",
      "====================\n",
      "====================\n",
      "For file tgt\\codegen_350M_mono_humaneval_java\\HumanEval_42_incr_list.results.json n = 200 and c = 1\n",
      "====================\n",
      "====================\n",
      "For file tgt\\codegen_350M_mono_humaneval_java\\HumanEval_53_add.results.json n = 200 and c = 100\n",
      "====================\n",
      "====================\n",
      "For file tgt\\codegen_350M_mono_humaneval_java\\HumanEval_55_fib.results.json n = 200 and c = 22\n",
      "====================\n",
      "====================\n",
      "For file tgt\\codegen_350M_mono_humaneval_java\\HumanEval_60_sum_to_n.results.json n = 200 and c = 38\n",
      "====================\n",
      "Read 105 results\n",
      "Sample result: {'pass@1': 0.0, 'pass@10': 0.0, 'pass@100': 0.0, 'n': 200, 'temperature': 0.8}\n",
      "codegen_350M_mono_humaneval_java,10,0.041229776030783157,105,200,200\n",
      "codegen_350M_mono_humaneval_java,100,0.07860696500455519,105,200,200\n",
      "{'pass@10': {'dataset': 'codegen_350M_mono_humaneval_java',\n",
      "             'estimate': 0.041229776030783157,\n",
      "             'max_completions': 200,\n",
      "             'min_completions': 200,\n",
      "             'num_problems': 105,\n",
      "             'pass@k': 10},\n",
      " 'pass@100': {'dataset': 'codegen_350M_mono_humaneval_java',\n",
      "              'estimate': 0.07860696500455519,\n",
      "              'max_completions': 200,\n",
      "              'min_completions': 200,\n",
      "              'num_problems': 105,\n",
      "              'pass@k': 100}}\n",
      "Saved results to res/codegen_350M_mono_humaneval_java_results.json\n"
     ]
    }
   ],
   "source": [
    "sf = f'src/{exp_name}.jsonl'\n",
    "td = f'tgt/{exp_name.replace(\"-\", \"\")}'\n",
    "target_dir = f'{td}'\n",
    "output_file = f'res/{exp_name}_results.json'\n",
    "!python pass_k.py $target_dir --output $output_file"
   ]
  },
  {
   "cell_type": "code",
   "execution_count": null,
   "metadata": {},
   "outputs": [],
   "source": []
  }
 ],
 "metadata": {
  "kernelspec": {
   "display_name": "amazon",
   "language": "python",
   "name": "python3"
  },
  "language_info": {
   "codemirror_mode": {
    "name": "ipython",
    "version": 3
   },
   "file_extension": ".py",
   "mimetype": "text/x-python",
   "name": "python",
   "nbconvert_exporter": "python",
   "pygments_lexer": "ipython3",
   "version": "3.9.16"
  },
  "orig_nbformat": 4
 },
 "nbformat": 4,
 "nbformat_minor": 2
}
