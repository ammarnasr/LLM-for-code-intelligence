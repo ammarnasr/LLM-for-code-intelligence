{
 "cells": [
  {
   "cell_type": "markdown",
   "metadata": {},
   "source": [
    "#### ALL FLOW"
   ]
  },
  {
   "cell_type": "code",
   "execution_count": 1,
   "metadata": {},
   "outputs": [],
   "source": [
    "import os\n",
    "import shutil\n",
    "def copy_all_from_runs_to_src():\n",
    "    # get current directory\n",
    "    cwd = os.getcwd()\n",
    "    parent = os.path.dirname(cwd)\n",
    "    parent = os.path.dirname(parent)\n",
    "    src_folder = parent + '\\\\Generation\\\\runs\\\\' \n",
    "    dst_folder = './src/'\n",
    "    for file_name in os.listdir(src_folder):\n",
    "        shutil.copy(src_folder + file_name, dst_folder)\n",
    "    print(f'Copied all files from {src_folder} to {dst_folder}')\n",
    "\n",
    "def convert_to_pre_eval(exp_name):\n",
    "    sf = f'src/{exp_name}.jsonl'\n",
    "    td = f'tgt/{exp_name.replace(\"-\", \"\")}'\n",
    "    !python convert_to_pre_eval.py --source_file $sf --target_dir $td\n",
    "    print(f'Converted {sf} to {td}')\n",
    "\n",
    "def run_evaluation(exp_name):\n",
    "    sf = f'src/{exp_name}.jsonl'\n",
    "    td = f'tgt/{exp_name.replace(\"-\", \"\")}'\n",
    "    eval_cmd = f\"podman run --rm --network none -v ./{td}:/{td}:rw multipl-e-eval --dir /{td} --output-dir /{td} --recursive\"\n",
    "    print(f'The evaluation command is: \\n{eval_cmd}\\n Copy it and run it in the terminal')\n",
    "\n",
    "def run_pass_k(exp_name):\n",
    "    target_dir = f'tgt/{exp_name.replace(\"-\", \"\")}'\n",
    "    output_file = f'res/{exp_name}_results.json'\n",
    "    !python pass_k.py $target_dir --output $output_file\n",
    "    print(f'Pass@k results saved to {output_file}')\n"
   ]
  },
  {
   "cell_type": "code",
   "execution_count": 4,
   "metadata": {},
   "outputs": [
    {
     "name": "stdout",
     "output_type": "stream",
     "text": [
      "Copied all files from c:\\Users\\Edin\\OneDrive - University of Edinburgh\\Study\\Sem3\\Project\\LLM-for-code-intelligence\\Generation\\runs\\ to ./src/\n"
     ]
    }
   ],
   "source": [
    "copy_all_from_runs_to_src()\n",
    "\n",
    "# my_folder = './src/'\n",
    "# for file_name in os.listdir(my_folder):\n",
    "#     exp_name = file_name.split('.jsonl')[0]\n",
    "#     if exp_name.endswith('_pass_at_10_gen_config'):\n",
    "#         print(f'Now running experiment: {exp_name}')\n",
    "#     if exp_name.endswith('_pass_at_100_gen_config'):\n",
    "#         print(f'Now running experiment: {exp_name}')\n",
    "exp_names = [\n",
    "    # 'codegen_java_LoRa_v7_run_1_checkpoint_4000_humaneval_py_pass_at_10_gen_config',\n",
    "    # 'codegen_java_LoRa_v7_run_1_checkpoint_4000_humaneval_java_pass_at_10_gen_config',\n",
    "    # 'codegen_java_LoRa_v7_run_1_checkpoint_4000_humaneval_rs_pass_at_10_gen_config',\n",
    "\n",
    "    'codegen_350M_multi_humaneval_rs_pass_at_10_gen_config',\n",
    "    'codegen_350M_multi_humaneval_py_pass_at_10_gen_config',\n",
    "    'codegen_350M_multi_humaneval_java_pass_at_10_gen_config',\n",
    "\n",
    "    # 'codegen_rust_v7_run_1_checkpoint_2000_humaneval_rs_pass_at_10_gen_config',\n",
    "    # 'codegen_rust_v7_run_1_checkpoint_2000_humaneval_py_pass_at_10_gen_config',\n",
    "    # 'codegen_rust_v7_run_1_checkpoint_2000_humaneval_java_pass_at_10_gen_config',\n",
    "]"
   ]
  },
  {
   "cell_type": "code",
   "execution_count": 5,
   "metadata": {},
   "outputs": [
    {
     "name": "stdout",
     "output_type": "stream",
     "text": [
      "==================== Now running experiment: codegen_350M_multi_humaneval_rs_pass_at_10_gen_config ====================\n",
      "Done.\n",
      "Converted src/codegen_350M_multi_humaneval_rs_pass_at_10_gen_config.jsonl to tgt/codegen_350M_multi_humaneval_rs_pass_at_10_gen_config\n",
      "The evaluation command is: \n",
      "podman run --rm --network none -v ./tgt/codegen_350M_multi_humaneval_rs_pass_at_10_gen_config:/tgt/codegen_350M_multi_humaneval_rs_pass_at_10_gen_config:rw multipl-e-eval --dir /tgt/codegen_350M_multi_humaneval_rs_pass_at_10_gen_config --output-dir /tgt/codegen_350M_multi_humaneval_rs_pass_at_10_gen_config --recursive\n",
      " Copy it and run it in the terminal\n",
      "==================== Now running experiment: codegen_350M_multi_humaneval_py_pass_at_10_gen_config ====================\n"
     ]
    },
    {
     "name": "stderr",
     "output_type": "stream",
     "text": [
      "\n",
      "  0%|          | 0/1560 [00:00<?, ?jsonline/s]\n",
      "100%|██████████| 1560/1560 [00:00<00:00, 781174.10jsonline/s]\n"
     ]
    },
    {
     "name": "stdout",
     "output_type": "stream",
     "text": [
      "Done.\n",
      "Converted src/codegen_350M_multi_humaneval_py_pass_at_10_gen_config.jsonl to tgt/codegen_350M_multi_humaneval_py_pass_at_10_gen_config\n",
      "The evaluation command is: \n",
      "podman run --rm --network none -v ./tgt/codegen_350M_multi_humaneval_py_pass_at_10_gen_config:/tgt/codegen_350M_multi_humaneval_py_pass_at_10_gen_config:rw multipl-e-eval --dir /tgt/codegen_350M_multi_humaneval_py_pass_at_10_gen_config --output-dir /tgt/codegen_350M_multi_humaneval_py_pass_at_10_gen_config --recursive\n",
      " Copy it and run it in the terminal\n",
      "==================== Now running experiment: codegen_350M_multi_humaneval_java_pass_at_10_gen_config ====================\n"
     ]
    },
    {
     "name": "stderr",
     "output_type": "stream",
     "text": [
      "\n",
      "  0%|          | 0/1610 [00:00<?, ?jsonline/s]\n",
      "100%|██████████| 1610/1610 [00:00<00:00, 1004586.35jsonline/s]\n"
     ]
    },
    {
     "name": "stdout",
     "output_type": "stream",
     "text": [
      "Done.\n",
      "Converted src/codegen_350M_multi_humaneval_java_pass_at_10_gen_config.jsonl to tgt/codegen_350M_multi_humaneval_java_pass_at_10_gen_config\n",
      "The evaluation command is: \n",
      "podman run --rm --network none -v ./tgt/codegen_350M_multi_humaneval_java_pass_at_10_gen_config:/tgt/codegen_350M_multi_humaneval_java_pass_at_10_gen_config:rw multipl-e-eval --dir /tgt/codegen_350M_multi_humaneval_java_pass_at_10_gen_config --output-dir /tgt/codegen_350M_multi_humaneval_java_pass_at_10_gen_config --recursive\n",
      " Copy it and run it in the terminal\n"
     ]
    },
    {
     "name": "stderr",
     "output_type": "stream",
     "text": [
      "\n",
      "  0%|          | 0/1580 [00:00<?, ?jsonline/s]\n",
      "100%|██████████| 1580/1580 [00:00<00:00, 559429.37jsonline/s]\n"
     ]
    }
   ],
   "source": [
    "def run_all(exp_name):\n",
    "    print(f'{\"=\"*20} Now running experiment: {exp_name} {\"=\"*20}')\n",
    "    convert_to_pre_eval(exp_name)\n",
    "    run_evaluation(exp_name)\n",
    "    # run_pass_k(exp_name)\n",
    "    # print(f'{\"=\"*20} Finished experiment: {exp_name} {\"=\"*20}')\n",
    "for exp_name in exp_names:\n",
    "    # print(f'Now running experiment: {exp_name}')\n",
    "    run_all(exp_name)\n",
    "\n"
   ]
  },
  {
   "attachments": {},
   "cell_type": "markdown",
   "metadata": {},
   "source": [
    "#### Visualize the results"
   ]
  },
  {
   "cell_type": "code",
   "execution_count": 2,
   "metadata": {},
   "outputs": [
    {
     "name": "stderr",
     "output_type": "stream",
     "text": [
      "posx and posy should be finite values\n",
      "posx and posy should be finite values\n",
      "posx and posy should be finite values\n",
      "posx and posy should be finite values\n",
      "posx and posy should be finite values\n",
      "posx and posy should be finite values\n",
      "posx and posy should be finite values\n",
      "posx and posy should be finite values\n",
      "posx and posy should be finite values\n",
      "posx and posy should be finite values\n"
     ]
    },
    {
     "data": {
      "image/png": "[encoded data removed]",
      "text/plain": [
       "<Figure size 1570x427 with 1 Axes>"
      ]
     },
     "metadata": {},
     "output_type": "display_data"
    }
   ],
   "source": [
    "import json\n",
    "import pandas as pd\n",
    "import numpy as np\n",
    "import matplotlib.pyplot as plt\n",
    "import os\n",
    "import seaborn as sns\n",
    "sns.set(rc={'figure.figsize':(11.7,8.27)})\n",
    "\n",
    "#get all the results files in the res folder\n",
    "results_files = [f for f in os.listdir('res') if os.path.isfile(os.path.join('res', f))]\n",
    "\n",
    "#load all the results files into a dictionary\n",
    "results = {}\n",
    "for f in results_files:\n",
    "    with open(os.path.join('res', f)) as json_file:\n",
    "        results[f] = json.load(json_file)\n",
    "model_names_dict = {\n",
    "    \n",
    "    'codegen_350M_mono_humaneval_py_pass_at_10_gen_config': 'Baseline-mono-pass@10',\n",
    "    'codegen_350M_mono_humaneval_java_pass_at_10_gen_config': 'Baseline-mono-pass@10',\n",
    "    'codegen_350M_mono_humaneval_rs_pass_at_10_gen_config': 'Baseline-mono-pass@10',\n",
    "\n",
    "    'codegen_350M_multi_humaneval_py_pass_at_10_gen_config': 'Baseline-multi-pass@10',\n",
    "    'codegen_350M_multi_humaneval_java_pass_at_10_gen_config': 'Baseline-multi-pass@10',\n",
    "    'codegen_350M_multi_humaneval_rs_pass_at_10_gen_config': 'Baseline-multi-pass@10',\n",
    "\n",
    "    'codegen_java_LoRa_v7_run_1_checkpoint_4000_humaneval_java_pass_at_10_gen_config': 'Java-LoRa-v7-pass@10',\n",
    "    'codegen_java_LoRa_v7_run_1_checkpoint_4000_humaneval_py_pass_at_10_gen_config': 'Java-LoRa-v7-pass@10',\n",
    "    'codegen_java_LoRa_v7_run_1_checkpoint_4000_humaneval_rs_pass_at_10_gen_config': 'Java-LoRa-v7-pass@10',\n",
    "\n",
    "    'codegen_rust_v7_run_1_checkpoint_2000_humaneval_rs_pass_at_10_gen_config': 'Rust-LoRa-v7-pass@10',\n",
    "    'codegen_rust_v7_run_1_checkpoint_2000_humaneval_py_pass_at_10_gen_config': 'Rust-LoRa-v7-pass@10',\n",
    "    'codegen_rust_v7_run_1_checkpoint_2000_humaneval_java_pass_at_10_gen_config': 'Rust-LoRa-v7-pass@10',\n",
    "    \n",
    "\n",
    "}\n",
    "\n",
    "\n",
    "#Merge all the results into a single dataframe\n",
    "dict_df = { 'model': [], 'dataset': [], 'pass@10': [], 'pass@100': [], 'num_problems': [], 'min_completions': [], 'max_completions': [], 'programming_language': []}\n",
    "\n",
    "for model in results.keys():\n",
    "    model_results = results[model]\n",
    "    model_name = model.split('_results.json')[0]\n",
    "    if model_name in model_names_dict.keys():\n",
    "        model_name = model_names_dict[model_name]\n",
    "    else:\n",
    "        # print('Model name not found in dict: ' + model_name)\n",
    "        continue\n",
    "    dataset_name = model_results['pass@10']['dataset']\n",
    "    pass_10 = model_results['pass@10']['estimate']\n",
    "    pass_100 = model_results['pass@100']['estimate']\n",
    "    num_problems = model_results['pass@10']['num_problems']\n",
    "    min_completions = model_results['pass@10']['min_completions']\n",
    "    max_completions = model_results['pass@10']['max_completions']\n",
    "    if 'humaneval_py' in dataset_name:\n",
    "        programming_language = 'python'\n",
    "    elif 'humaneval_java' in dataset_name:\n",
    "        programming_language = 'java'\n",
    "    elif 'humaneval_rs' in dataset_name:\n",
    "        programming_language = 'rust'\n",
    "    else:\n",
    "        programming_language = 'unknown'\n",
    "    dict_df['model'].append(model_name)\n",
    "    dict_df['dataset'].append(dataset_name)\n",
    "    dict_df['pass@10'].append(pass_10)\n",
    "    dict_df['pass@100'].append(pass_100)\n",
    "    dict_df['num_problems'].append(num_problems)\n",
    "    dict_df['min_completions'].append(min_completions)\n",
    "    dict_df['max_completions'].append(max_completions)\n",
    "    dict_df['programming_language'].append(programming_language)\n",
    "\n",
    "df = pd.DataFrame(dict_df)\n",
    "df = df.drop(columns=['dataset'])\n",
    "df = df.drop(columns=['min_completions', 'max_completions'])\n",
    "df = df[df['model'] != 'LoRa-V3-2000']\n",
    "df = df[df['model'] != 'LoRa-V5-1000']\n",
    "df['pass@10'] = df['pass@10'] * 100\n",
    "df['pass@100'] = df['pass@100'] * 100\n",
    "\n",
    "df = df.rename(columns={'programming_language': 'Programming Language'})\n",
    "df = df.rename(columns={'model': 'Model'})\n",
    "df = df.rename(columns={'pass@10': 'Pass@10'})\n",
    "df = df.rename(columns={'pass@100': 'Pass@100'})\n",
    "\n",
    "df['Programming Language'] = df['Programming Language'].replace({'java': 'Java', 'python': 'Python'})\n",
    "\n",
    "#Sort the dataframe by the model name\n",
    "df = df.sort_values(by=['Model'])\n",
    "\n",
    "#Set the pass type to plot\n",
    "pass_type = 'Pass@10'\n",
    "\n",
    "\n",
    "#Plot the results\n",
    "#Set the style\n",
    "sns.set_theme(style=\"whitegrid\")\n",
    "#Set the plot size\n",
    "sns.set(rc={'figure.figsize':(15.7,4.27)})\n",
    "ax = sns.barplot(x=\"Model\", y=pass_type, hue=\"Programming Language\", data=df)\n",
    "ax.set_xticklabels(ax.get_xticklabels(), rotation=0)\n",
    "#set the y axis to start at 0 and end at 50\n",
    "plt.ylim(0, 50)\n",
    "#writer the y values on top of the bars\n",
    "for p in ax.patches:\n",
    "    height = p.get_height()\n",
    "    ax.text(p.get_x()+p.get_width()/2.,\n",
    "            height + 0.01,\n",
    "            '{:1.2f}'.format(height),\n",
    "            ha=\"center\")\n",
    "#Add a title in bigger font\n",
    "plt.title(f'{pass_type} for the different models', fontsize=20)\n",
    "plt.show()\n",
    "\n"
   ]
  },
  {
   "cell_type": "code",
   "execution_count": 3,
   "metadata": {},
   "outputs": [
    {
     "data": {
      "text/html": [
       "<div>\n",
       "<style scoped>\n",
       "    .dataframe tbody tr th:only-of-type {\n",
       "        vertical-align: middle;\n",
       "    }\n",
       "\n",
       "    .dataframe tbody tr th {\n",
       "        vertical-align: top;\n",
       "    }\n",
       "\n",
       "    .dataframe thead th {\n",
       "        text-align: right;\n",
       "    }\n",
       "</style>\n",
       "<table border=\"1\" class=\"dataframe\">\n",
       "  <thead>\n",
       "    <tr style=\"text-align: right;\">\n",
       "      <th></th>\n",
       "      <th>Model</th>\n",
       "      <th>Pass@10</th>\n",
       "      <th>Pass@100</th>\n",
       "      <th>num_problems</th>\n",
       "      <th>Programming Language</th>\n",
       "    </tr>\n",
       "  </thead>\n",
       "  <tbody>\n",
       "    <tr>\n",
       "      <th>0</th>\n",
       "      <td>Baseline-mono-pass@10</td>\n",
       "      <td>1.898734</td>\n",
       "      <td>100.0</td>\n",
       "      <td>158</td>\n",
       "      <td>Java</td>\n",
       "    </tr>\n",
       "    <tr>\n",
       "      <th>1</th>\n",
       "      <td>Baseline-mono-pass@10</td>\n",
       "      <td>22.360248</td>\n",
       "      <td>100.0</td>\n",
       "      <td>161</td>\n",
       "      <td>Python</td>\n",
       "    </tr>\n",
       "    <tr>\n",
       "      <th>2</th>\n",
       "      <td>Baseline-mono-pass@10</td>\n",
       "      <td>1.282051</td>\n",
       "      <td>100.0</td>\n",
       "      <td>156</td>\n",
       "      <td>rust</td>\n",
       "    </tr>\n",
       "    <tr>\n",
       "      <th>3</th>\n",
       "      <td>Baseline-multi-pass@10</td>\n",
       "      <td>7.594937</td>\n",
       "      <td>100.0</td>\n",
       "      <td>158</td>\n",
       "      <td>Java</td>\n",
       "    </tr>\n",
       "    <tr>\n",
       "      <th>4</th>\n",
       "      <td>Baseline-multi-pass@10</td>\n",
       "      <td>12.422360</td>\n",
       "      <td>100.0</td>\n",
       "      <td>161</td>\n",
       "      <td>Python</td>\n",
       "    </tr>\n",
       "    <tr>\n",
       "      <th>5</th>\n",
       "      <td>Java-LoRa-v7-pass@10</td>\n",
       "      <td>5.063291</td>\n",
       "      <td>100.0</td>\n",
       "      <td>158</td>\n",
       "      <td>Java</td>\n",
       "    </tr>\n",
       "    <tr>\n",
       "      <th>6</th>\n",
       "      <td>Rust-LoRa-v7-pass@10</td>\n",
       "      <td>3.205128</td>\n",
       "      <td>100.0</td>\n",
       "      <td>156</td>\n",
       "      <td>rust</td>\n",
       "    </tr>\n",
       "  </tbody>\n",
       "</table>\n",
       "</div>"
      ],
      "text/plain": [
       "                    Model    Pass@10  Pass@100  num_problems  \\\n",
       "0   Baseline-mono-pass@10   1.898734     100.0           158   \n",
       "1   Baseline-mono-pass@10  22.360248     100.0           161   \n",
       "2   Baseline-mono-pass@10   1.282051     100.0           156   \n",
       "3  Baseline-multi-pass@10   7.594937     100.0           158   \n",
       "4  Baseline-multi-pass@10  12.422360     100.0           161   \n",
       "5    Java-LoRa-v7-pass@10   5.063291     100.0           158   \n",
       "6    Rust-LoRa-v7-pass@10   3.205128     100.0           156   \n",
       "\n",
       "  Programming Language  \n",
       "0                 Java  \n",
       "1               Python  \n",
       "2                 rust  \n",
       "3                 Java  \n",
       "4               Python  \n",
       "5                 Java  \n",
       "6                 rust  "
      ]
     },
     "execution_count": 3,
     "metadata": {},
     "output_type": "execute_result"
    }
   ],
   "source": [
    "# df where programming language is Python\n",
    "df_python = df[df['Programming Language'] == 'Python']\n",
    "\n",
    "# df where programming language is Java\n",
    "df_java = df[df['Programming Language'] == 'Java']\n",
    "\n",
    "# df_python\n",
    "# df_java\n",
    "df"
   ]
  },
  {
   "cell_type": "code",
   "execution_count": null,
   "metadata": {},
   "outputs": [],
   "source": []
  }
 ],
 "metadata": {
  "kernelspec": {
   "display_name": "amazon",
   "language": "python",
   "name": "python3"
  },
  "language_info": {
   "codemirror_mode": {
    "name": "ipython",
    "version": 3
   },
   "file_extension": ".py",
   "mimetype": "text/x-python",
   "name": "python",
   "nbconvert_exporter": "python",
   "pygments_lexer": "ipython3",
   "version": "3.9.16"
  },
  "orig_nbformat": 4
 },
 "nbformat": 4,
 "nbformat_minor": 2
}
