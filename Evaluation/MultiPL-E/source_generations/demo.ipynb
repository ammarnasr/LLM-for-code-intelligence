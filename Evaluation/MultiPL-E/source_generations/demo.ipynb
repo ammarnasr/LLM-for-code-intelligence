{
 "cells": [
  {
   "cell_type": "code",
   "execution_count": 1,
   "metadata": {},
   "outputs": [
    {
     "name": "stdout",
     "output_type": "stream",
     "text": [
      "Done.\n"
     ]
    },
    {
     "name": "stderr",
     "output_type": "stream",
     "text": [
      "\n",
      "  0%|          | 0/161 [00:00<?, ?jsonline/s]\n",
      "100%|██████████| 161/161 [00:00<?, ?jsonline/s]\n"
     ]
    }
   ],
   "source": [
    "exp_name = 'codegen-350M-mon_pass1_humaneval_py'\n",
    "sf = f'{exp_name}.jsonl'\n",
    "#remove '-' from exp_name\n",
    "td = f'{exp_name.replace(\"-\", \"\")}'\n",
    "!python convert_to_pre_eval.py --source_file $sf --target_dir $td"
   ]
  },
  {
   "cell_type": "code",
   "execution_count": 2,
   "metadata": {},
   "outputs": [
    {
     "data": {
      "text/plain": [
       "CompletedProcess(args='podman run --rm --network none -v ./codegen350Mmon_pass1_humaneval_py:/codegen350Mmon_pass1_humaneval_py:rw multipl-e-eval --dir /codegen350Mmon_pass1_humaneval_py --output-dir /codegen350Mmon_pass1_humaneval_py --recursive', returncode=0)"
      ]
     },
     "execution_count": 2,
     "metadata": {},
     "output_type": "execute_result"
    }
   ],
   "source": [
    "import subprocess\n",
    "eval_cmd = f\"podman run --rm --network none -v ./{td}:/{td}:rw multipl-e-eval --dir /{td} --output-dir /{td} --recursive\"\n",
    "subprocess.run(eval_cmd, shell=True)"
   ]
  },
  {
   "cell_type": "code",
   "execution_count": null,
   "metadata": {},
   "outputs": [],
   "source": [
    "!podman run --rm --network none -v ./$td:/$td:rw multipl-e-eval --dir /$td --output-dir /$td --recursive"
   ]
  },
  {
   "cell_type": "code",
   "execution_count": 12,
   "metadata": {},
   "outputs": [],
   "source": [
    "os.chdir('./MultiPL-E/')"
   ]
  },
  {
   "cell_type": "code",
   "execution_count": 22,
   "metadata": {},
   "outputs": [],
   "source": [
    "import os\n",
    "#change directory to parent directory\n",
    "# os.chdir(\"..\")\n",
    "target_dir = f'source_generations/{td}'\n",
    "output_file = f'source_generations/{exp_name}_results.json'\n",
    "# !python pass_k.py $target_dir $output_file"
   ]
  },
  {
   "cell_type": "code",
   "execution_count": 23,
   "metadata": {},
   "outputs": [],
   "source": [
    "target_dir = [target_dir]"
   ]
  },
  {
   "cell_type": "code",
   "execution_count": 27,
   "metadata": {},
   "outputs": [
    {
     "name": "stdout",
     "output_type": "stream",
     "text": [
      "Dataset,Pass@k,Estimate,NumProblems,MinCompletions,MaxCompletions\n",
      "codegen350Mmon_pass1_humaneval_py,1,0.024844720496894408,161,1,1\n",
      "Saved results to source_generations/codegen-350M-mon_pass1_humaneval_py_results.json\n",
      "{'pass@1': {'dataset': 'codegen350Mmon_pass1_humaneval_py',\n",
      "            'estimate': 0.024844720496894408,\n",
      "            'max_completions': 1,\n",
      "            'min_completions': 1,\n",
      "            'num_problems': 161,\n",
      "            'pass@k': 1}}\n",
      "Saved results to source_generations/codegen-350M-mon_pass1_humaneval_py_results.json\n"
     ]
    }
   ],
   "source": [
    "import numpy as np\n",
    "from pathlib import Path\n",
    "import itertools\n",
    "import argparse\n",
    "from multipl_e.util import gunzip_json, eprint\n",
    "import json\n",
    "import pprint\n",
    "\n",
    "\n",
    "def estimator(n: int, c: int, k: int) -> float:\n",
    "    \"\"\"\n",
    "    Calculates 1 - comb(n - c, k) / comb(n, k).\n",
    "    \"\"\"\n",
    "    if n - c < k:\n",
    "        return 1.0\n",
    "    return 1.0 - np.prod(1.0 - k / np.arange(n - c + 1, n + 1))\n",
    "\n",
    "\n",
    "def for_file(path):\n",
    "    data = gunzip_json(path)\n",
    "    if data is None:\n",
    "      return None   \n",
    "    n = len(data[\"results\"])\n",
    "    c = len([True for r in data[\"results\"] if r[\"status\"] == \"OK\" and r[\"exit_code\"] == 0])\n",
    "    return {\n",
    "        \"pass@1\": estimator(n, c, 1),\n",
    "        \"pass@10\": estimator(n, c, 10),\n",
    "        \"pass@100\": estimator(n, c, 100),\n",
    "        \"n\": n,\n",
    "        \"temperature\": data[\"temperature\"] if \"temperature\" in data else 0.2\n",
    "    }\n",
    "\n",
    "def main():\n",
    "    res_holder= {\n",
    "        \"dataset\": None,\n",
    "        \"pass@k\": None,\n",
    "        \"estimate\": None,\n",
    "        \"num_problems\": None,\n",
    "        \"min_completions\": None,\n",
    "        \"max_completions\": None,\n",
    "    }\n",
    "    results_dict = {}\n",
    "    print(\"Dataset,Pass@k,Estimate,NumProblems,MinCompletions,MaxCompletions\")\n",
    "    for d in target_dir:\n",
    "        results = [ for_file(p) for p in itertools.chain(Path(d).glob(\"*.results.json\"), Path(d).glob(\"*.results.json.gz\")) ]\n",
    "        results = [ r for r in results if r is not None ]\n",
    "        name = d.split(\"/\")[-1] if d.split(\"/\")[-1] != \"\" else d.split(\"/\")[-2]\n",
    "        temperatures = set(r[\"temperature\"] for r in results)\n",
    "        if len(temperatures) != 1:\n",
    "            eprint(f\"Found multiple temperatures {temperatures} in {d} {results}\")\n",
    "            continue\n",
    "        temperature = list(temperatures)[0]\n",
    "        num_problems = len(results)\n",
    "        min_completions = np.min([r[\"n\"] for r in results])\n",
    "        max_completions = np.max([r[\"n\"] for r in results])\n",
    "        if temperature == 0.2:\n",
    "            pass_1 = np.mean([r[\"pass@1\"] for r in results])\n",
    "            print(f\"{name},1,{pass_1},{num_problems},{min_completions},{max_completions}\")\n",
    "            res_holder[\"dataset\"] = name\n",
    "            res_holder[\"pass@k\"] = 1\n",
    "            results_dict[\"pass@1\"] = res_holder\n",
    "        elif temperature == 0.8:\n",
    "            pass_10 = np.mean([r[\"pass@10\"] for r in results])\n",
    "            pass_100 = np.mean([r[\"pass@100\"] for r in results])\n",
    "            print(f\"{name},10,{pass_10},{num_problems},{min_completions},{max_completions}\")\n",
    "            print(f\"{name},100,{pass_100},{num_problems},{min_completions},{max_completions}\")\n",
    "            res_holder[\"dataset\"] = name\n",
    "            res_holder[\"pass@k\"] = 10\n",
    "            res_holder[\"estimate\"] = float(pass_1)\n",
    "            res_holder[\"num_problems\"] = int(num_problems)\n",
    "            res_holder[\"min_completions\"] = int(min_completions)\n",
    "            res_holder[\"max_completions\"] = int(max_completions)\n",
    "            results_dict[\"pass@10\"] = res_holder\n",
    "            res_holder[\"pass@k\"] = 100\n",
    "            res_holder[\"estimate\"] = float(pass_100)\n",
    "            results_dict[\"pass@100\"] = res_holder\n",
    "        else:\n",
    "            raise ValueError(f\"Unexpected temperature: {temperature}\")\n",
    "        \n",
    "    \n",
    "    #pretty print results_dict\n",
    "    pprint.pprint(results_dict)\n",
    "    \n",
    "    if output_file is not None:\n",
    "        with open(output_file, \"w\") as f:\n",
    "            json.dump(results_dict, f)\n",
    "        print(f\"Saved results to {output_file}\")\n",
    "    else:    \n",
    "        with open(\"results_dict.json\", \"w\") as f:\n",
    "            json.dump(results_dict, f)\n",
    "        \n",
    "        print(\"Saved results to results_dict.json\")\n",
    "    \n",
    "\n",
    "if __name__ == \"__main__\":\n",
    "    main()\n"
   ]
  },
  {
   "cell_type": "code",
   "execution_count": null,
   "metadata": {},
   "outputs": [],
   "source": []
  }
 ],
 "metadata": {
  "kernelspec": {
   "display_name": "amazon",
   "language": "python",
   "name": "python3"
  },
  "language_info": {
   "codemirror_mode": {
    "name": "ipython",
    "version": 3
   },
   "file_extension": ".py",
   "mimetype": "text/x-python",
   "name": "python",
   "nbconvert_exporter": "python",
   "pygments_lexer": "ipython3",
   "version": "3.9.16"
  },
  "orig_nbformat": 4
 },
 "nbformat": 4,
 "nbformat_minor": 2
}
