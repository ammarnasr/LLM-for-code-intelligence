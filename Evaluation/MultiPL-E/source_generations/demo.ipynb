{
 "cells": [
  {
   "cell_type": "code",
   "execution_count": null,
   "metadata": {},
   "outputs": [],
   "source": [
    "exp_name = 'codegen-350M-mon_pass100x200_py_bs50'\n",
    "sf = f'{exp_name}.jsonl'\n",
    "td = f'{exp_name.replace(\"-\", \"\")}'\n",
    "\n",
    "# temprature\n",
    "# import jsonlines\n",
    "# import json\n",
    "# corrected_data = []\n",
    "# with jsonlines.open(sf, 'r') as source_reader:\n",
    "#     source_data = list(source_reader)\n",
    "# for sd_line in source_data:\n",
    "#     #rename temprature to temperature\n",
    "#     if 'temprature' in sd_line:\n",
    "#         sd_line['temperature'] = sd_line['temprature']\n",
    "#         del sd_line['temprature']\n",
    "#     corrected_data.append(sd_line)\n",
    "\n",
    "# with open(sf, 'w') as f:\n",
    "#     for d in corrected_data:\n",
    "#         json.dump(d, f)\n",
    "#         f.write('\\n')\n",
    "\n",
    "\n",
    "\n",
    "!python convert_to_pre_eval.py --source_file $sf --target_dir $td"
   ]
  },
  {
   "cell_type": "code",
   "execution_count": null,
   "metadata": {},
   "outputs": [],
   "source": [
    "import subprocess\n",
    "\n",
    "eval_cmd = f\"podman run --rm --network none -v ./{td}:/{td}:rw multipl-e-eval --dir /{td} --output-dir /{td} --recursive\"\n",
    "subprocess.run(eval_cmd, shell=True)"
   ]
  },
  {
   "cell_type": "code",
   "execution_count": null,
   "metadata": {},
   "outputs": [],
   "source": [
    "target_dir = f'{td}'\n",
    "output_file = f'{exp_name}_results.json'\n",
    "!python pass_k.py $target_dir $output_file"
   ]
  },
  {
   "cell_type": "code",
   "execution_count": null,
   "metadata": {},
   "outputs": [],
   "source": []
  }
 ],
 "metadata": {
  "kernelspec": {
   "display_name": "amazon",
   "language": "python",
   "name": "python3"
  },
  "language_info": {
   "codemirror_mode": {
    "name": "ipython",
    "version": 3
   },
   "file_extension": ".py",
   "mimetype": "text/x-python",
   "name": "python",
   "nbconvert_exporter": "python",
   "pygments_lexer": "ipython3",
   "version": "3.9.16"
  },
  "orig_nbformat": 4
 },
 "nbformat": 4,
 "nbformat_minor": 2
}
