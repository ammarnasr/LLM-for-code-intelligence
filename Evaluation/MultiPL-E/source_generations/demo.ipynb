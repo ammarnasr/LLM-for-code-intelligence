{
 "cells": [
  {
   "cell_type": "code",
   "execution_count": null,
   "metadata": {},
   "outputs": [],
   "source": [
    "sf = 'codegen-350M-multi_pass10_humaneval_pyhton.jsonl'\n",
    "td = 'codegen350MultiPass10'\n",
    "!python convert_to_pre_eval.py --source_file $sf --target_dir $td"
   ]
  },
  {
   "cell_type": "code",
   "execution_count": null,
   "metadata": {},
   "outputs": [],
   "source": [
    "!podman run --rm --network none -v ./$td:/$td:rw multipl-e-eval --dir /$td --output-dir /$td --recursive"
   ]
  },
  {
   "cell_type": "code",
   "execution_count": null,
   "metadata": {},
   "outputs": [],
   "source": [
    "import os\n",
    "#change directory to parent directory\n",
    "os.chdir(\"..\")\n",
    "target_dir = 'source_generations/codegen350MultiPass10'\n",
    "output_file = 'source_generations/codegen350MultiPass10_results.json'\n",
    "!python pass_k.py $target_dir $output_file"
   ]
  }
 ],
 "metadata": {
  "kernelspec": {
   "display_name": "amazon",
   "language": "python",
   "name": "python3"
  },
  "language_info": {
   "codemirror_mode": {
    "name": "ipython",
    "version": 3
   },
   "file_extension": ".py",
   "mimetype": "text/x-python",
   "name": "python",
   "nbconvert_exporter": "python",
   "pygments_lexer": "ipython3",
   "version": "3.9.16"
  },
  "orig_nbformat": 4
 },
 "nbformat": 4,
 "nbformat_minor": 2
}
