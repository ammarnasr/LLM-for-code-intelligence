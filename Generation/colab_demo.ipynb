{
 "cells": [
  {
   "cell_type": "code",
   "execution_count": null,
   "metadata": {},
   "outputs": [],
   "source": [
    "#Run the setup script\n",
    "!chmod +x setup.sh\n",
    "!./setup.sh"
   ]
  },
  {
   "cell_type": "code",
   "execution_count": null,
   "metadata": {},
   "outputs": [],
   "source": [
    "#Run the demo\n",
    "prompts_file_name = \"humaneval_py.jsonl\"\n",
    "model_name = \"Salesforce/codegen-350M-mono\"\n",
    "generation_strategy = \"ammarnasr/pass_at_100_gen_config\"\n",
    "output_file_name = \"codegen-350M-mon_pass100x200_py_bs50.jsonl\"\n",
    "device = \"cuda\"\n",
    "batch_size = 30\n",
    "\n",
    "!python code_generation.py --prompts_file_name $prompts_file_name --model_name $model_name --generation_strategy $generation_strategy --output_file_name $output_file_name --device $device --batch_size $batch_size\n",
    "\n",
    "!python code_generation.py --prompts_file_name \"humaneval_py.jsonl\" --model_name \"Salesforce/codegen-350M-mono\" --generation_strategy \"ammarnasr/pass_at_100_gen_config\" --output_file_name \"codegen-350M-mon_pass100x200_py_bs50.jsonl\" --device \"cuda\" --batch_size 30\n"
   ]
  },
  {
   "cell_type": "code",
   "execution_count": 8,
   "metadata": {},
   "outputs": [
    {
     "name": "stdout",
     "output_type": "stream",
     "text": [
      "last batch\n",
      "107\n"
     ]
    }
   ],
   "source": [
    "outputs = []\n",
    "max_num_return_sequences = 10\n",
    "target_return_sequences = 107\n",
    "\n",
    "size_of_batch = max_num_return_sequences\n",
    "num_of_batches = target_return_sequences // size_of_batch\n",
    "size_of_last_batch = target_return_sequences % size_of_batch\n",
    "\n",
    "\n",
    "for i in range(num_of_batches):\n",
    "    output = list(range(size_of_batch))\n",
    "    outputs.append(output)\n",
    "    if size_of_last_batch != 0 and i == num_of_batches-1:\n",
    "        print(\"last batch\")\n",
    "        output = list(range(size_of_last_batch))\n",
    "        outputs.append(output)\n",
    "\n",
    "#concatenate the outputs\n",
    "outputs = [item for sublist in outputs for item in sublist]\n",
    "\n",
    "\n",
    "print(len(outputs))"
   ]
  },
  {
   "cell_type": "code",
   "execution_count": 3,
   "metadata": {},
   "outputs": [
    {
     "name": "stdout",
     "output_type": "stream",
     "text": [
      "['\\\\n', ' \\\\ndef', ' \\\\n#']\n"
     ]
    }
   ],
   "source": [
    "!python sttest.py --stop_token \"\\n, \\ndef, \\n#\""
   ]
  },
  {
   "cell_type": "code",
   "execution_count": 4,
   "metadata": {},
   "outputs": [],
   "source": [
    "import pickle\n",
    "\n",
    "file_name = \"stop_tokens.pkl\"\n",
    "\n",
    "#load the file\n",
    "with open(file_name, 'rb') as f:\n",
    "    stop_tokens = pickle.load(f)\n",
    "\n",
    "    "
   ]
  },
  {
   "cell_type": "code",
   "execution_count": 5,
   "metadata": {},
   "outputs": [
    {
     "data": {
      "text/plain": [
       "['\\nclass', ' \\ndef', ' \\n#', ' \\nif', ' \\nprint']"
      ]
     },
     "execution_count": 5,
     "metadata": {},
     "output_type": "execute_result"
    }
   ],
   "source": [
    "stop_tokens"
   ]
  },
  {
   "cell_type": "code",
   "execution_count": null,
   "metadata": {},
   "outputs": [],
   "source": []
  }
 ],
 "metadata": {
  "kernelspec": {
   "display_name": "amazon",
   "language": "python",
   "name": "python3"
  },
  "language_info": {
   "codemirror_mode": {
    "name": "ipython",
    "version": 3
   },
   "file_extension": ".py",
   "mimetype": "text/x-python",
   "name": "python",
   "nbconvert_exporter": "python",
   "pygments_lexer": "ipython3",
   "version": "3.9.16"
  },
  "orig_nbformat": 4
 },
 "nbformat": 4,
 "nbformat_minor": 2
}
