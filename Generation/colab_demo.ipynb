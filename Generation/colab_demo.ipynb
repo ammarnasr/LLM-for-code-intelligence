{
 "cells": [
  {
   "cell_type": "code",
   "execution_count": null,
   "metadata": {},
   "outputs": [],
   "source": [
    "#Run the setup script\n",
    "!chmod +x setup.sh\n",
    "!./setup.sh"
   ]
  },
  {
   "cell_type": "code",
   "execution_count": null,
   "metadata": {},
   "outputs": [],
   "source": [
    "#Run the demo\n",
    "!python code_generation.py --prompts_file_name \"openai_humaneval.jsonl\" --model_name \"Salesforce/codegen-350M-mono\" --generation_strategy \"ammarnasr/pass_at_1_gen_config\" --output_file_name \"codegen350Mmono_pass1_humaneval_python.jsonl\" --device \"cuda\" "
   ]
  },
  {
   "cell_type": "code",
   "execution_count": 8,
   "metadata": {},
   "outputs": [
    {
     "name": "stdout",
     "output_type": "stream",
     "text": [
      "last batch\n",
      "107\n"
     ]
    }
   ],
   "source": [
    "outputs = []\n",
    "max_num_return_sequences = 10\n",
    "target_return_sequences = 107\n",
    "\n",
    "size_of_batch = max_num_return_sequences\n",
    "num_of_batches = target_return_sequences // size_of_batch\n",
    "size_of_last_batch = target_return_sequences % size_of_batch\n",
    "\n",
    "\n",
    "for i in range(num_of_batches):\n",
    "    output = list(range(size_of_batch))\n",
    "    outputs.append(output)\n",
    "    if size_of_last_batch != 0 and i == num_of_batches-1:\n",
    "        print(\"last batch\")\n",
    "        output = list(range(size_of_last_batch))\n",
    "        outputs.append(output)\n",
    "\n",
    "#concatenate the outputs\n",
    "outputs = [item for sublist in outputs for item in sublist]\n",
    "\n",
    "\n",
    "print(len(outputs))"
   ]
  },
  {
   "cell_type": "code",
   "execution_count": null,
   "metadata": {},
   "outputs": [],
   "source": []
  }
 ],
 "metadata": {
  "kernelspec": {
   "display_name": "amazon",
   "language": "python",
   "name": "python3"
  },
  "language_info": {
   "codemirror_mode": {
    "name": "ipython",
    "version": 3
   },
   "file_extension": ".py",
   "mimetype": "text/x-python",
   "name": "python",
   "nbconvert_exporter": "python",
   "pygments_lexer": "ipython3",
   "version": "3.9.16"
  },
  "orig_nbformat": 4
 },
 "nbformat": 4,
 "nbformat_minor": 2
}
