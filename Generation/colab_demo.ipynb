{
 "cells": [
  {
   "cell_type": "code",
   "execution_count": 2,
   "metadata": {},
   "outputs": [
    {
     "ename": "KeyboardInterrupt",
     "evalue": "",
     "output_type": "error",
     "traceback": [
      "\u001b[1;31m---------------------------------------------------------------------------\u001b[0m",
      "\u001b[1;31mKeyboardInterrupt\u001b[0m                         Traceback (most recent call last)",
      "Cell \u001b[1;32mIn[2], line 1\u001b[0m\n\u001b[1;32m----> 1\u001b[0m \u001b[39mimport\u001b[39;00m \u001b[39mcode_generation\u001b[39;00m\n\u001b[0;32m      2\u001b[0m prompt_file_names \u001b[39m=\u001b[39m [\n\u001b[0;32m      3\u001b[0m     \u001b[39m\"\u001b[39m\u001b[39mGeneration/humaneval_java.jsonl\u001b[39m\u001b[39m\"\u001b[39m,\n\u001b[0;32m      4\u001b[0m ]\n\u001b[0;32m      5\u001b[0m model_name \u001b[39m=\u001b[39m \u001b[39m\"\u001b[39m\u001b[39mammarnasr/codegne-finetuned-the-stack-java-v3-checkpoint-1000\u001b[39m\u001b[39m\"\u001b[39m\n",
      "File \u001b[1;32mc:\\Users\\Edin\\OneDrive - University of Edinburgh\\Study\\Sem3\\Project\\LLM-for-code-intelligence\\Generation\\code_generation.py:2\u001b[0m\n\u001b[0;32m      1\u001b[0m \u001b[39mimport\u001b[39;00m \u001b[39mos\u001b[39;00m\n\u001b[1;32m----> 2\u001b[0m \u001b[39mimport\u001b[39;00m \u001b[39mwandb\u001b[39;00m\n\u001b[0;32m      3\u001b[0m \u001b[39mimport\u001b[39;00m \u001b[39mtorch\u001b[39;00m\n\u001b[0;32m      4\u001b[0m \u001b[39mimport\u001b[39;00m \u001b[39mjsonlines\u001b[39;00m\n",
      "File \u001b[1;32mc:\\Users\\Edin\\anaconda3\\envs\\amazon\\lib\\site-packages\\wandb\\__init__.py:197\u001b[0m\n\u001b[0;32m    192\u001b[0m     \u001b[39mfrom\u001b[39;00m \u001b[39mIPython\u001b[39;00m \u001b[39mimport\u001b[39;00m get_ipython\n\u001b[0;32m    194\u001b[0m     load_ipython_extension(get_ipython())\n\u001b[1;32m--> 197\u001b[0m \u001b[39mfrom\u001b[39;00m \u001b[39m.\u001b[39;00m\u001b[39manalytics\u001b[39;00m \u001b[39mimport\u001b[39;00m Sentry \u001b[39mas\u001b[39;00m _Sentry\n\u001b[0;32m    199\u001b[0m _sentry \u001b[39m=\u001b[39m _Sentry()\n\u001b[0;32m    200\u001b[0m _sentry\u001b[39m.\u001b[39msetup()\n",
      "File \u001b[1;32mc:\\Users\\Edin\\anaconda3\\envs\\amazon\\lib\\site-packages\\wandb\\analytics\\__init__.py:3\u001b[0m\n\u001b[0;32m      1\u001b[0m __all__ \u001b[39m=\u001b[39m (\u001b[39m\"\u001b[39m\u001b[39mSentry\u001b[39m\u001b[39m\"\u001b[39m,)\n\u001b[1;32m----> 3\u001b[0m \u001b[39mfrom\u001b[39;00m \u001b[39m.\u001b[39;00m\u001b[39msentry\u001b[39;00m \u001b[39mimport\u001b[39;00m Sentry\n",
      "File \u001b[1;32mc:\\Users\\Edin\\anaconda3\\envs\\amazon\\lib\\site-packages\\wandb\\analytics\\sentry.py:18\u001b[0m\n\u001b[0;32m     15\u001b[0m \u001b[39melse\u001b[39;00m:\n\u001b[0;32m     16\u001b[0m     \u001b[39mfrom\u001b[39;00m \u001b[39mtyping_extensions\u001b[39;00m \u001b[39mimport\u001b[39;00m Literal\n\u001b[1;32m---> 18\u001b[0m \u001b[39mimport\u001b[39;00m \u001b[39msentry_sdk\u001b[39;00m  \u001b[39m# type: ignore\u001b[39;00m\n\u001b[0;32m     19\u001b[0m \u001b[39mimport\u001b[39;00m \u001b[39msentry_sdk\u001b[39;00m\u001b[39m.\u001b[39;00m\u001b[39mutils\u001b[39;00m  \u001b[39m# type: ignore\u001b[39;00m\n\u001b[0;32m     21\u001b[0m \u001b[39mimport\u001b[39;00m \u001b[39mwandb\u001b[39;00m\n",
      "File \u001b[1;32mc:\\Users\\Edin\\anaconda3\\envs\\amazon\\lib\\site-packages\\sentry_sdk\\__init__.py:42\u001b[0m\n\u001b[0;32m     13\u001b[0m __all__ \u001b[39m=\u001b[39m [  \u001b[39m# noqa\u001b[39;00m\n\u001b[0;32m     14\u001b[0m     \u001b[39m\"\u001b[39m\u001b[39mHub\u001b[39m\u001b[39m\"\u001b[39m,\n\u001b[0;32m     15\u001b[0m     \u001b[39m\"\u001b[39m\u001b[39mScope\u001b[39m\u001b[39m\"\u001b[39m,\n\u001b[1;32m   (...)\u001b[0m\n\u001b[0;32m     38\u001b[0m     \u001b[39m\"\u001b[39m\u001b[39mget_current_span\u001b[39m\u001b[39m\"\u001b[39m,\n\u001b[0;32m     39\u001b[0m ]\n\u001b[0;32m     41\u001b[0m \u001b[39m# Initialize the debug support after everything is loaded\u001b[39;00m\n\u001b[1;32m---> 42\u001b[0m \u001b[39mfrom\u001b[39;00m \u001b[39msentry_sdk\u001b[39;00m\u001b[39m.\u001b[39;00m\u001b[39mdebug\u001b[39;00m \u001b[39mimport\u001b[39;00m init_debug_support\n\u001b[0;32m     44\u001b[0m init_debug_support()\n\u001b[0;32m     45\u001b[0m \u001b[39mdel\u001b[39;00m init_debug_support\n",
      "File \u001b[1;32m<frozen importlib._bootstrap>:1007\u001b[0m, in \u001b[0;36m_find_and_load\u001b[1;34m(name, import_)\u001b[0m\n",
      "File \u001b[1;32m<frozen importlib._bootstrap>:982\u001b[0m, in \u001b[0;36m_find_and_load_unlocked\u001b[1;34m(name, import_)\u001b[0m\n",
      "File \u001b[1;32m<frozen importlib._bootstrap>:925\u001b[0m, in \u001b[0;36m_find_spec\u001b[1;34m(name, path, target)\u001b[0m\n",
      "File \u001b[1;32m<frozen importlib._bootstrap_external>:1423\u001b[0m, in \u001b[0;36mfind_spec\u001b[1;34m(cls, fullname, path, target)\u001b[0m\n",
      "File \u001b[1;32m<frozen importlib._bootstrap_external>:1395\u001b[0m, in \u001b[0;36m_get_spec\u001b[1;34m(cls, fullname, path, target)\u001b[0m\n",
      "File \u001b[1;32m<frozen importlib._bootstrap_external>:1522\u001b[0m, in \u001b[0;36mfind_spec\u001b[1;34m(self, fullname, target)\u001b[0m\n",
      "File \u001b[1;32m<frozen importlib._bootstrap_external>:142\u001b[0m, in \u001b[0;36m_path_stat\u001b[1;34m(path)\u001b[0m\n",
      "\u001b[1;31mKeyboardInterrupt\u001b[0m: "
     ]
    }
   ],
   "source": [
    "from Generation import code_generation\n",
    "prompt_file_names = [\n",
    "    \"Generation/humaneval_java.jsonl\",\n",
    "]\n",
    "model_name = \"ammarnasr/codegne-finetuned-the-stack-java-v3-checkpoint-1000\"\n",
    "tokenizer_name = \"Salesforce/codegen-350M-mono\"\n",
    "generation_strategy = \"ammarnasr/pass_at_100_gen_config\"\n",
    "batch_size = 5\n",
    "for prompt_file_name in prompt_file_names:\n",
    "    model_name_short = model_name.split(\"/\")[-1]\n",
    "    model_name_short = model_name_short.replace(\"-\", \"_\")\n",
    "    prompt_file_name_short = prompt_file_name.split(\"/\")[-1]\n",
    "    prompt_file_name_short = prompt_file_name_short.split(\".\")[0]\n",
    "    output_file_name = f\"Generation/runs/{model_name_short}_{prompt_file_name_short}.jsonl\"\n",
    "\n",
    "    wandb_project_name = f\"{model_name_short}_{prompt_file_name_short}\"\n",
    "\n",
    "    args_dict = {\n",
    "        \"prompts_file_name\": prompt_file_name,\n",
    "        \"model_name\": model_name,\n",
    "        \"tokenizer_name\": tokenizer_name,\n",
    "        \"generation_strategy\": generation_strategy,\n",
    "        \"output_file_name\": output_file_name,\n",
    "        \"wandb_project_name\": wandb_project_name,\n",
    "        \"batch_size\": batch_size,\n",
    "    }\n",
    "    print(args_dict)\n",
    "\n",
    "    code_generation.main(args_dict)\n",
    "\n"
   ]
  },
  {
   "cell_type": "code",
   "execution_count": null,
   "metadata": {},
   "outputs": [],
   "source": []
  }
 ],
 "metadata": {
  "kernelspec": {
   "display_name": "amazon",
   "language": "python",
   "name": "python3"
  },
  "language_info": {
   "codemirror_mode": {
    "name": "ipython",
    "version": 3
   },
   "file_extension": ".py",
   "mimetype": "text/x-python",
   "name": "python",
   "nbconvert_exporter": "python",
   "pygments_lexer": "ipython3",
   "version": "3.9.16"
  },
  "orig_nbformat": 4
 },
 "nbformat": 4,
 "nbformat_minor": 2
}
