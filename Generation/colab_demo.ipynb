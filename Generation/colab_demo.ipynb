{
 "cells": [
  {
   "cell_type": "code",
   "execution_count": null,
   "metadata": {},
   "outputs": [],
   "source": [
    "#Run the setup script\n",
    "!chmod +x setup.sh\n",
    "!./setup.sh"
   ]
  },
  {
   "cell_type": "code",
   "execution_count": null,
   "metadata": {},
   "outputs": [],
   "source": [
    "#Run the demo\n",
    "!python code_generation.py --prompts_file_name \"openai_humaneval.jsonl\" --model_name \"gpt2\" --stop_tokens \"['\\n']\" --output_file_name \"generated_outputs.jsonl\" --device \"cuda\"\n"
   ]
  }
 ],
 "metadata": {
  "language_info": {
   "name": "python"
  },
  "orig_nbformat": 4
 },
 "nbformat": 4,
 "nbformat_minor": 2
}
